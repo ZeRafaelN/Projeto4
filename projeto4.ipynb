{
 "cells": [
  {
   "cell_type": "code",
   "execution_count": 1,
   "metadata": {},
   "outputs": [],
   "source": [
    "import pandas as pd\n",
    "import numpy as np\n",
    "import matplotlib.pyplot as plt\n",
    "import seaborn as sns\n",
    "import plotly.express as px\n",
    "from itertools import product\n",
    "%matplotlib inline"
   ]
  },
  {
   "cell_type": "code",
   "execution_count": 2,
   "metadata": {},
   "outputs": [],
   "source": [
    "import plotly.io as pio\n",
    "pio.templates.default = \"plotly\""
   ]
  },
  {
   "cell_type": "code",
   "execution_count": 3,
   "metadata": {},
   "outputs": [
    {
     "name": "stderr",
     "output_type": "stream",
     "text": [
      "c:\\Users\\Farley\\anaconda3\\lib\\site-packages\\IPython\\core\\interactiveshell.py:3172: DtypeWarning: Columns (47) have mixed types.Specify dtype option on import or set low_memory=False.\n",
      "  has_raised = await self.run_ast_nodes(code_ast.body, cell_name,\n"
     ]
    }
   ],
   "source": [
    "df = pd.read_csv('./data/State of Data 2021 - Dataset - Pgina1.csv')"
   ]
  },
  {
   "cell_type": "code",
   "execution_count": 4,
   "metadata": {},
   "outputs": [],
   "source": [
    "#Valores Nan em nível de ensino\n",
    "df[\"('P1_h ', 'Nivel de Ensino')\"] = df[\"('P1_h ', 'Nivel de Ensino')\"].replace({'Prefiro não informar': None})\n",
    "#Ajustando coluna de experiência\n",
    "experience = ['Não tenho experiência na área de dados',\n",
    "'Menos de 1 ano',\n",
    "'de 1 a 2 anos',\n",
    "'de 2 a 3 anos',\n",
    "'de 4 a 5 anos',\n",
    "'de 6 a 10 anos',\n",
    "'Mais de 10 anos']\n",
    "df[\"('P2_i ', 'Quanto tempo de experiência na área de dados você tem?')\"] = pd.Categorical(df[\"('P2_i ', 'Quanto tempo de experiência na área de dados você tem?')\"], ordered=True, categories=experience)\n",
    "#Ajustando coluna de faixa salarial\n",
    "df[\"('P2_h ', 'Faixa salarial')\"] = df[\"('P2_h ', 'Faixa salarial')\"].replace({'Menos de R$ 1.000/mês' : \"até R$1k\",\n",
    "                                             'de R$ 1.001/mês a R$ 2.000/mês'  : \"R$1k-2k\",\n",
    "                                             'de R$ 2.001/mês a R$ 3000/mês'   : \"R$2k-3k\",\n",
    "                                             'de R$ 3.001/mês a R$ 4.000/mês'  : \"R$3k-4k\", \n",
    "                                             'de R$ 4.001/mês a R$ 6.000/mês'  : \"R$4k-6k\",\n",
    "                                             'de R$ 6.001/mês a R$ 8.000/mês'  : \"R$6k-8k\",\n",
    "                                             'de R$ 8.001/mês a R$ 12.000/mês' : \"R$8k-12k\",\n",
    "                                             'de R$ 12.001/mês a R$ 16.000/mês' : \"R$12k-16k\",\n",
    "                                             'de R$ 16.001/mês a R$ 20.000/mês' : \"R$16k-20k\",\n",
    "                                             'de R$ 20.001/mês a R$ 25.000/mês' : \"R$20k-25k\",\n",
    "                                             'de R$ 25.001/mês a R$ 30.000/mês' : \"R$25k-30k\",\n",
    "                                             'de R$ 30.001/mês a R$ 40.000/mês' : \"R$30k-40k\",\n",
    "                                             'Acima de R$ 40.001/mês' : \"R$40k+\"                                      \n",
    "                                                    })\n",
    "salary_range = [\"até R$1k\",\n",
    "                     \"R$1k-2k\",\n",
    "                     \"R$2k-3k\",\n",
    "                     \"R$3k-4k\", \n",
    "                     \"R$4k-6k\",\n",
    "                     \"R$6k-8k\",\n",
    "                     \"R$8k-12k\",\n",
    "                     \"R$12k-16k\",\n",
    "                     \"R$16k-20k\",\n",
    "                     \"R$20k-25k\",\n",
    "                     \"R$25k-30k\",\n",
    "                     \"R$30k-40k\",\n",
    "                     \"R$40k+\"]\n",
    "df[\"('P2_h ', 'Faixa salarial')\"] = pd.Categorical(df[\"('P2_h ', 'Faixa salarial')\"], ordered=True, categories=salary_range)\n",
    "# Atualizando a variável  \"('P2_g ', 'Nivel')\" da seguinte forma\n",
    "# Quando a pessoa respondeu que é gestor \"('P2_d ', 'Gestor?')\" e não respondeu a pergunta \"('P2_g ', 'Nivel')\", \n",
    "# assume-se que o nível é \"Gestor\"\n",
    "\n",
    "df.loc[(df[\"('P2_d ', 'Gestor?')\"] == 1) & (df[\"('P2_g ', 'Nivel')\"].isna()), \"('P2_g ', 'Nivel')\"] = 'Gestor'\n",
    "\n",
    "#vinculo empregativo\n",
    "df[\"Vínculo Empregativo\"]=df[\"('P2_a ', 'Qual sua situação atual de trabalho?')\"].replace({\n",
    "    'Somente Estudante (graduação)': 'Acadêmica/Pesquisador',\n",
    "    'Desempregado, buscando recolocação': \"Desempregado\",\n",
    "    'Somente Estudante (pós-graduação)': 'Acadêmica/Pesquisador',\n",
    "    'Trabalho na área Acadêmica/Pesquisador':'Acadêmica/Pesquisador',\n",
    "    'Desempregado e não estou buscando recolocação': \"Desempregado\",\n",
    "    'Vivo no Brasil e trabalho remoto para empresa de fora do Brasil (PJ)': \"Trabalho fora do Brasil\",\n",
    "    'Vivo fora do Brasil e trabalho para empresa de fora do Brasil': \"Trabalho fora do Brasil\",\n",
    "    #'Empregado (CLT)', \n",
    "    #'Empreendedor ou Empregado (CNPJ)',\n",
    "    #'Servidor Público', \n",
    "    #'Estagiário', \n",
    "    #'Freelancer',\n",
    "    'Prefiro não informar':None\n",
    "})\n",
    "df['Vínculo Empregativo'] = [a if b!=\"Gerente/Head/Diretor/VP\" else b if a ==\"Empreendedor ou Empregado (CNPJ)\" else a for a,b in zip(df['Vínculo Empregativo'], df[\"('P2_e ', 'Cargo como Gestor')\"])]\n",
    "df['Vínculo Empregativo'] = df['Vínculo Empregativo'].replace({'Gerente/Head/Diretor/VP':'Empreendedor (CNPJ)','Empreendedor ou Empregado (CNPJ)':'Empregado (CNPJ)'})\n",
    "\n",
    "#modelo\n",
    "df.replace({\"Modelo híbrido flexível (o funcionário tem liberdade para escolher quando estar no escritório presencialmente)\": \"Híbrido flexível\",\n",
    "            \"Modelo híbrido com dias fixos de trabalho presencial\": \"Híbrido presenciais fixos\",\n",
    "            \"Modelo 100% remoto\": \"Remoto\", \n",
    "            \"Modelo 100% presencial\": \"Presencial\",\n",
    "       },inplace=True)"
   ]
  },
  {
   "cell_type": "code",
   "execution_count": 5,
   "metadata": {},
   "outputs": [],
   "source": [
    "columns=df.columns"
   ]
  },
  {
   "cell_type": "code",
   "execution_count": 6,
   "metadata": {},
   "outputs": [
    {
     "data": {
      "image/png": "[encoded data removed]",
      "text/plain": [
       "<Figure size 864x432 with 1 Axes>"
      ]
     },
     "metadata": {
      "needs_background": "light"
     },
     "output_type": "display_data"
    }
   ],
   "source": [
    "# boxplot idade fizemos em Pandas (Check)\n",
    "df[\"('P1_a ', 'Idade')\"].plot(kind='box', figsize=(12,6), vert=False);\n",
    "\n",
    "# FARLEY FAÇA SUA MÁGICA!!!"
   ]
  },
  {
   "cell_type": "code",
   "execution_count": 7,
   "metadata": {},
   "outputs": [
    {
     "data": {
      "text/plain": [
       "<matplotlib.legend.Legend at 0x172e04570a0>"
      ]
     },
     "execution_count": 7,
     "metadata": {},
     "output_type": "execute_result"
    },
    {
     "data": {
      "image/png": "[encoded data removed]",
      "text/plain": [
       "<Figure size 432x288 with 1 Axes>"
      ]
     },
     "metadata": {
      "needs_background": "light"
     },
     "output_type": "display_data"
    }
   ],
   "source": [
    "from matplotlib.pyplot import legend\n",
    "\n",
    "\n",
    "ax = sns.boxplot(data=df, x=\"('P1_a ', 'Idade')\", y=\"('P1_b ', 'Genero')\", hue=\"('P1_b ', 'Genero')\", palette=['blue','red','green'], orient='h')\n",
    "ax.set(xlabel=\"\",ylabel=\"\",title='Boxplot Idade por Gênero')\n",
    "plt.legend([],[], frameon=False)"
   ]
  },
  {
   "cell_type": "code",
   "execution_count": 8,
   "metadata": {},
   "outputs": [
    {
     "ename": "NameError",
     "evalue": "name 'df_a' is not defined",
     "output_type": "error",
     "traceback": [
      "\u001b[1;31m---------------------------------------------------------------------------\u001b[0m",
      "\u001b[1;31mNameError\u001b[0m                                 Traceback (most recent call last)",
      "\u001b[1;32m<ipython-input-8-c4f23deaec2b>\u001b[0m in \u001b[0;36m<module>\u001b[1;34m\u001b[0m\n\u001b[1;32m----> 1\u001b[1;33m \u001b[0mdf_genero\u001b[0m \u001b[1;33m=\u001b[0m \u001b[0mdf_a\u001b[0m\u001b[1;33m[\u001b[0m\u001b[1;34m\"(\\'P1_b \\', \\'Genero\\')\"\u001b[0m\u001b[1;33m]\u001b[0m\u001b[1;33m.\u001b[0m\u001b[0mvalue_counts\u001b[0m\u001b[1;33m(\u001b[0m\u001b[1;33m)\u001b[0m\u001b[1;33m.\u001b[0m\u001b[0mreset_index\u001b[0m\u001b[1;33m(\u001b[0m\u001b[1;33m)\u001b[0m\u001b[1;33m\u001b[0m\u001b[1;33m\u001b[0m\u001b[0m\n\u001b[0m\u001b[0;32m      2\u001b[0m \u001b[0mplt\u001b[0m\u001b[1;33m.\u001b[0m\u001b[0mpie\u001b[0m\u001b[1;33m(\u001b[0m\u001b[1;34m\"(\\'P1_b \\', \\'Genero\\')\"\u001b[0m\u001b[1;33m,\u001b[0m \u001b[0mdata\u001b[0m\u001b[1;33m=\u001b[0m\u001b[0mdf_genero\u001b[0m\u001b[1;33m,\u001b[0m \u001b[0mlabels\u001b[0m \u001b[1;33m=\u001b[0m \u001b[1;34m'index'\u001b[0m\u001b[1;33m,\u001b[0m \u001b[0mautopct\u001b[0m\u001b[1;33m=\u001b[0m\u001b[1;34m'%.2f%%'\u001b[0m\u001b[1;33m,\u001b[0m \u001b[0mexplode\u001b[0m \u001b[1;33m=\u001b[0m \u001b[1;33m(\u001b[0m\u001b[1;36m0.1\u001b[0m\u001b[1;33m,\u001b[0m \u001b[1;36m0.1\u001b[0m\u001b[1;33m,\u001b[0m \u001b[1;36m0.1\u001b[0m\u001b[1;33m)\u001b[0m\u001b[1;33m)\u001b[0m\u001b[1;33m\u001b[0m\u001b[1;33m\u001b[0m\u001b[0m\n\u001b[0;32m      3\u001b[0m \u001b[0mplt\u001b[0m\u001b[1;33m.\u001b[0m\u001b[0mtitle\u001b[0m\u001b[1;33m(\u001b[0m\u001b[1;34m'Distribuição de gêneros'\u001b[0m\u001b[1;33m,\u001b[0m \u001b[0mfontsize\u001b[0m\u001b[1;33m=\u001b[0m\u001b[1;36m15\u001b[0m\u001b[1;33m)\u001b[0m\u001b[1;33m\u001b[0m\u001b[1;33m\u001b[0m\u001b[0m\n\u001b[0;32m      4\u001b[0m \u001b[0mplt\u001b[0m\u001b[1;33m.\u001b[0m\u001b[0mshow\u001b[0m\u001b[1;33m(\u001b[0m\u001b[1;33m)\u001b[0m\u001b[1;33m\u001b[0m\u001b[1;33m\u001b[0m\u001b[0m\n",
      "\u001b[1;31mNameError\u001b[0m: name 'df_a' is not defined"
     ]
    }
   ],
   "source": [
    "df_genero = df_a[\"(\\'P1_b \\', \\'Genero\\')\"].value_counts().reset_index()\n",
    "plt.pie(\"(\\'P1_b \\', \\'Genero\\')\", data=df_genero, labels = 'index', autopct='%.2f%%', explode = (0.1, 0.1, 0.1))\n",
    "plt.title('Distribuição de gêneros', fontsize=15)\n",
    "plt.show()"
   ]
  },
  {
   "cell_type": "code",
   "execution_count": null,
   "metadata": {},
   "outputs": [
    {
     "data": {
      "image/png": "[encoded data removed]",
      "text/plain": [
       "<Figure size 432x288 with 1 Axes>"
      ]
     },
     "metadata": {},
     "output_type": "display_data"
    }
   ],
   "source": [
    "df_regiao = df_a[ \"('P1_e_b ', 'Regiao onde mora')\"].value_counts().reset_index()\n",
    "plt.pie(\"('P1_e_b ', 'Regiao onde mora')\", data=df_regiao, labels = 'index', autopct='%.2f%%', explode = [0.1]*6)\n",
    "plt.title('Distribuição por regiões', fontsize=15)\n",
    "plt.show()"
   ]
  },
  {
   "cell_type": "code",
   "execution_count": null,
   "metadata": {},
   "outputs": [
    {
     "data": {
      "image/png": "[encoded data removed]",
      "text/plain": [
       "<Figure size 432x288 with 1 Axes>"
      ]
     },
     "metadata": {},
     "output_type": "display_data"
    },
    {
     "data": {
      "image/png": "[encoded data removed]",
      "text/plain": [
       "<Figure size 432x288 with 1 Axes>"
      ]
     },
     "metadata": {},
     "output_type": "display_data"
    },
    {
     "data": {
      "image/png": "[encoded data removed]",
      "text/plain": [
       "<Figure size 432x288 with 1 Axes>"
      ]
     },
     "metadata": {},
     "output_type": "display_data"
    },
    {
     "data": {
      "image/png": "[encoded data removed]",
      "text/plain": [
       "<Figure size 432x288 with 1 Axes>"
      ]
     },
     "metadata": {},
     "output_type": "display_data"
    },
    {
     "data": {
      "image/png": "[encoded data removed]",
      "text/plain": [
       "<Figure size 432x288 with 1 Axes>"
      ]
     },
     "metadata": {},
     "output_type": "display_data"
    },
    {
     "data": {
      "image/png": "[encoded data removed]",
      "text/plain": [
       "<Figure size 432x288 with 1 Axes>"
      ]
     },
     "metadata": {},
     "output_type": "display_data"
    },
    {
     "data": {
      "image/png": "[encoded data removed]",
      "text/plain": [
       "<Figure size 432x288 with 1 Axes>"
      ]
     },
     "metadata": {},
     "output_type": "display_data"
    },
    {
     "data": {
      "image/png": "[encoded data removed]",
      "text/plain": [
       "<Figure size 432x288 with 1 Axes>"
      ]
     },
     "metadata": {},
     "output_type": "display_data"
    },
    {
     "data": {
      "image/png": "[encoded data removed]",
      "text/plain": [
       "<Figure size 432x288 with 1 Axes>"
      ]
     },
     "metadata": {},
     "output_type": "display_data"
    },
    {
     "data": {
      "image/png": "[encoded data removed]",
      "text/plain": [
       "<Figure size 432x288 with 1 Axes>"
      ]
     },
     "metadata": {},
     "output_type": "display_data"
    }
   ],
   "source": [
    "for col in df_p1.columns:\n",
    "\n",
    "    df_var= df_a[col].value_counts().reset_index()\n",
    "    plt.pie(col, data=df_var, labels = 'index', autopct='%.2f%%', explode = [0.08]*df_var.shape[0])\n",
    "    plt.title('Distribuição de '+str(col), fontsize=15)\n",
    "    plt.show()"
   ]
  },
  {
   "cell_type": "code",
   "execution_count": 12,
   "metadata": {},
   "outputs": [
    {
     "data": {
      "image/png": "[encoded data removed]",
      "text/plain": [
       "<Figure size 1296x720 with 1 Axes>"
      ]
     },
     "metadata": {
      "needs_background": "light"
     },
     "output_type": "display_data"
    }
   ],
   "source": [
    "\n",
    "fig = plt.figure(figsize=(18,10))\n",
    "ax = sns.countplot(data=df, y=\"('P2_b ', 'Setor')\", palette='ch:22', order = df[\"('P2_b ', 'Setor')\"].value_counts().index, orient='h')\n",
    "ax.bar_label(ax.containers[0])\n",
    "ax.set(ylabel=\"\",xlabel=\"Contagem\")\n",
    "ax.set_title('Distribuição dos profissionais por setores', fontsize=15)\n",
    "ax.set_yticklabels(df[\"('P2_b ', 'Setor')\"].value_counts().index, size = 12)\n",
    "plt.show()"
   ]
  },
  {
   "cell_type": "code",
   "execution_count": null,
   "metadata": {},
   "outputs": [
    {
     "data": {
      "image/png": "[encoded data removed]",
      "text/plain": [
       "<Figure size 1296x432 with 1 Axes>"
      ]
     },
     "metadata": {
      "needs_background": "light"
     },
     "output_type": "display_data"
    }
   ],
   "source": [
    "df_idade = df[\"('P1_a ', 'Idade')\"].dropna().astype('int').reset_index()\n",
    "# df[\"('P1_a ', 'Idade')\"] = df[\"('P1_a ', 'Idade')\"].astype('int')"
   ]
  },
  {
   "cell_type": "code",
   "execution_count": null,
   "metadata": {},
   "outputs": [
    {
     "data": {
      "image/png": "[encoded data removed]",
      "text/plain": [
       "<Figure size 1800x600 with 1 Axes>"
      ]
     },
     "metadata": {},
     "output_type": "display_data"
    }
   ],
   "source": [
    "fig = plt.figure(figsize=(18,6))\n",
    "ax = sns.countplot(data=df_idade, x=\"('P1_a ', 'Idade')\", palette='ch:22')\n",
    "ax.bar_label(ax.containers[0])\n",
    "ax.set(xlabel=\"\",ylabel=\"Contagem\",title='Distribuição dos profissionais idades')\n",
    "plt.show()\n"
   ]
  },
  {
   "cell_type": "markdown",
   "metadata": {},
   "source": [
    "Idade \n",
    "P1_e_b Região (Pizza) por Salário P2_h *\n",
    "P2_h Salário (Barra \"Histograma\") por Região P1_e_b\n",
    "\n",
    "salário por escolaridade (barra) \n",
    "\n",
    "vinculos**\n",
    "\n",
    "P2_h Salário x Tempo experiência dados P2_i (Linhas)\n",
    "P2_h Salário x Tempo experiência TI P2_j (Linhas)\n",
    "P2_h Salário x Linguagem mais utilizada P4_e\n",
    "\n",
    "tempo de experiência dados histograma\n",
    "\n",
    "P4_eLinguagem mais utilizada (barras ou pizza)\n",
    "P4_eLinguagem mais utilizada Tempo experiência dados P2_i\n",
    "\n",
    "Cientista de Dados\n",
    "P8_d Atividade q mais gasta o tempo (Pizza)"
   ]
  },
  {
   "cell_type": "markdown",
   "metadata": {},
   "source": []
  },
  {
   "cell_type": "code",
   "execution_count": null,
   "metadata": {},
   "outputs": [
    {
     "data": {
      "image/png": "[encoded data removed]",
      "text/plain": [
       "<Figure size 1296x432 with 1 Axes>"
      ]
     },
     "metadata": {
      "needs_background": "light"
     },
     "output_type": "display_data"
    }
   ],
   "source": [
    "\n",
    "fig = plt.figure(figsize=(18,6))\n",
    "ax = sns.countplot(data=df, x=\"('P2_h ', 'Faixa salarial')\", palette='ch:22')\n",
    "ax.bar_label(ax.containers[0])\n",
    "ax.set(xlabel=\"\",ylabel=\"Contagem\",title='Distribuição dos profissionais por setores')\n",
    "#ax.set_yticklabels(df_a[\"('P2_b ', 'Setor')\"].value_counts().index, size = 12)\n",
    "#plt.xticks(rotation=80)\n",
    "plt.show()"
   ]
  },
  {
   "cell_type": "code",
   "execution_count": null,
   "metadata": {},
   "outputs": [
    {
     "data": {
      "image/png": "[encoded data removed]",
      "text/plain": [
       "<Figure size 576x288 with 1 Axes>"
      ]
     },
     "metadata": {
      "needs_background": "light"
     },
     "output_type": "display_data"
    }
   ],
   "source": [
    "fig = plt.figure(figsize=(8,4))\n",
    "ax = sns.countplot(data=df, x= \"('P2_g ', 'Nivel')\", palette='ch:22')\n",
    "ax.bar_label(ax.containers[0])\n",
    "ax.set(ylabel=\"Contagem\",xlabel=\"\",title='Distribuição dos profissionais por senioridade')\n",
    "ax.set_ylim(ymin=400)\n",
    "plt.show()\n"
   ]
  },
  {
   "cell_type": "code",
   "execution_count": null,
   "metadata": {},
   "outputs": [
    {
     "data": {
      "application/vnd.plotly.v1+json": {
       "config": {
        "plotlyServerURL": "https://plot.ly"
       },
       "data": [
        {
         "hovertemplate": "=Empreendedor (CNPJ)<br>Faixas salariais =%{x}<br>Proporção=%{y}<extra></extra>",
         "legendgroup": "Empreendedor (CNPJ)",
         "line": {
          "color": "#3366CC",
          "dash": "solid"
         },
         "marker": {
          "symbol": "circle"
         },
         "mode": "lines+markers",
         "name": "Empreendedor (CNPJ)",
         "orientation": "v",
         "showlegend": true,
         "type": "scatter",
         "x": [
          "até R$1k",
          "R$1k-2k",
          "R$2k-3k",
          "R$3k-4k",
          "R$4k-6k",
          "R$6k-8k",
          "R$8k-12k",
          "R$12k-16k",
          "R$16k-20k",
          "R$20k-25k",
          "R$25k-30k",
          "R$30k-40k",
          "R$40k+"
         ],
         "xaxis": "x",
         "y": [
          0,
          4.3478260869565215,
          2.1739130434782608,
          2.1739130434782608,
          6.521739130434782,
          6.521739130434782,
          6.521739130434782,
          13.043478260869565,
          30.434782608695656,
          8.695652173913043,
          8.695652173913043,
          4.3478260869565215,
          6.521739130434782
         ],
         "yaxis": "y"
        },
        {
         "hovertemplate": "=Empregado (CLT)<br>Faixas salariais =%{x}<br>Proporção=%{y}<extra></extra>",
         "legendgroup": "Empregado (CLT)",
         "line": {
          "color": "#DC3912",
          "dash": "solid"
         },
         "marker": {
          "symbol": "circle"
         },
         "mode": "lines+markers",
         "name": "Empregado (CLT)",
         "orientation": "v",
         "showlegend": true,
         "type": "scatter",
         "x": [
          "até R$1k",
          "R$1k-2k",
          "R$2k-3k",
          "R$3k-4k",
          "R$4k-6k",
          "R$6k-8k",
          "R$8k-12k",
          "R$12k-16k",
          "R$16k-20k",
          "R$20k-25k",
          "R$25k-30k",
          "R$30k-40k",
          "R$40k+"
         ],
         "xaxis": "x",
         "y": [
          0.2302820955670697,
          2.3028209556706964,
          6.850892343120322,
          8.635578583765112,
          19.516407599309154,
          19.45883707541739,
          21.876799078871617,
          11.57167530224525,
          4.8359240069084635,
          2.0149683362118593,
          1.2089810017271159,
          0.7484168105929765,
          0.7484168105929765
         ],
         "yaxis": "y"
        },
        {
         "hovertemplate": "=Empregado (CNPJ)<br>Faixas salariais =%{x}<br>Proporção=%{y}<extra></extra>",
         "legendgroup": "Empregado (CNPJ)",
         "line": {
          "color": "#FF9900",
          "dash": "solid"
         },
         "marker": {
          "symbol": "circle"
         },
         "mode": "lines+markers",
         "name": "Empregado (CNPJ)",
         "orientation": "v",
         "showlegend": true,
         "type": "scatter",
         "x": [
          "até R$1k",
          "R$1k-2k",
          "R$2k-3k",
          "R$3k-4k",
          "R$4k-6k",
          "R$6k-8k",
          "R$8k-12k",
          "R$12k-16k",
          "R$16k-20k",
          "R$20k-25k",
          "R$25k-30k",
          "R$30k-40k",
          "R$40k+"
         ],
         "xaxis": "x",
         "y": [
          2.2026431718061676,
          1.3215859030837005,
          4.405286343612335,
          7.488986784140969,
          16.299559471365637,
          14.537444933920703,
          25.55066079295154,
          13.215859030837004,
          6.167400881057269,
          2.2026431718061676,
          3.524229074889868,
          0.881057268722467,
          2.2026431718061676
         ],
         "yaxis": "y"
        },
        {
         "hovertemplate": "=Estagiário<br>Faixas salariais =%{x}<br>Proporção=%{y}<extra></extra>",
         "legendgroup": "Estagiário",
         "line": {
          "color": "#109618",
          "dash": "solid"
         },
         "marker": {
          "symbol": "circle"
         },
         "mode": "lines+markers",
         "name": "Estagiário",
         "orientation": "v",
         "showlegend": true,
         "type": "scatter",
         "x": [
          "até R$1k",
          "R$1k-2k",
          "R$2k-3k",
          "R$3k-4k",
          "R$4k-6k",
          "R$6k-8k",
          "R$8k-12k",
          "R$12k-16k",
          "R$16k-20k",
          "R$20k-25k",
          "R$25k-30k",
          "R$30k-40k",
          "R$40k+"
         ],
         "xaxis": "x",
         "y": [
          14.960629921259844,
          55.118110236220474,
          25.984251968503933,
          3.149606299212598,
          0.7874015748031495,
          0,
          0,
          0,
          0,
          0,
          0,
          0,
          0
         ],
         "yaxis": "y"
        },
        {
         "hovertemplate": "=Freelancer<br>Faixas salariais =%{x}<br>Proporção=%{y}<extra></extra>",
         "legendgroup": "Freelancer",
         "line": {
          "color": "#990099",
          "dash": "solid"
         },
         "marker": {
          "symbol": "circle"
         },
         "mode": "lines+markers",
         "name": "Freelancer",
         "orientation": "v",
         "showlegend": true,
         "type": "scatter",
         "x": [
          "até R$1k",
          "R$1k-2k",
          "R$2k-3k",
          "R$3k-4k",
          "R$4k-6k",
          "R$6k-8k",
          "R$8k-12k",
          "R$12k-16k",
          "R$16k-20k",
          "R$20k-25k",
          "R$25k-30k",
          "R$30k-40k",
          "R$40k+"
         ],
         "xaxis": "x",
         "y": [
          13.793103448275861,
          20.689655172413794,
          24.137931034482758,
          3.4482758620689653,
          10.344827586206897,
          0,
          20.689655172413794,
          3.4482758620689653,
          0,
          0,
          0,
          0,
          3.4482758620689653
         ],
         "yaxis": "y"
        },
        {
         "hovertemplate": "=Servidor Público<br>Faixas salariais =%{x}<br>Proporção=%{y}<extra></extra>",
         "legendgroup": "Servidor Público",
         "line": {
          "color": "#0099C6",
          "dash": "solid"
         },
         "marker": {
          "symbol": "circle"
         },
         "mode": "lines+markers",
         "name": "Servidor Público",
         "orientation": "v",
         "showlegend": true,
         "type": "scatter",
         "x": [
          "até R$1k",
          "R$1k-2k",
          "R$2k-3k",
          "R$3k-4k",
          "R$4k-6k",
          "R$6k-8k",
          "R$8k-12k",
          "R$12k-16k",
          "R$16k-20k",
          "R$20k-25k",
          "R$25k-30k",
          "R$30k-40k",
          "R$40k+"
         ],
         "xaxis": "x",
         "y": [
          0,
          4.464285714285714,
          6.25,
          6.25,
          13.392857142857142,
          14.285714285714285,
          19.642857142857142,
          16.071428571428573,
          7.142857142857142,
          6.25,
          2.6785714285714284,
          3.571428571428571,
          0
         ],
         "yaxis": "y"
        },
        {
         "hovertemplate": "=Trabalho fora do Brasil<br>Faixas salariais =%{x}<br>Proporção=%{y}<extra></extra>",
         "legendgroup": "Trabalho fora do Brasil",
         "line": {
          "color": "#DD4477",
          "dash": "solid"
         },
         "marker": {
          "symbol": "circle"
         },
         "mode": "lines+markers",
         "name": "Trabalho fora do Brasil",
         "orientation": "v",
         "showlegend": true,
         "type": "scatter",
         "x": [
          "até R$1k",
          "R$1k-2k",
          "R$2k-3k",
          "R$3k-4k",
          "R$4k-6k",
          "R$6k-8k",
          "R$8k-12k",
          "R$12k-16k",
          "R$16k-20k",
          "R$20k-25k",
          "R$25k-30k",
          "R$30k-40k",
          "R$40k+"
         ],
         "xaxis": "x",
         "y": [
          0,
          0,
          1.25,
          2.5,
          5,
          2.5,
          11.25,
          7.5,
          11.25,
          13.750000000000002,
          8.75,
          21.25,
          15
         ],
         "yaxis": "y"
        }
       ],
       "layout": {
        "legend": {
         "title": {
          "text": ""
         },
         "tracegroupgap": 0
        },
        "template": {
         "data": {
          "bar": [
           {
            "error_x": {
             "color": "#2a3f5f"
            },
            "error_y": {
             "color": "#2a3f5f"
            },
            "marker": {
             "line": {
              "color": "#E5ECF6",
              "width": 0.5
             },
             "pattern": {
              "fillmode": "overlay",
              "size": 10,
              "solidity": 0.2
             }
            },
            "type": "bar"
           }
          ],
          "barpolar": [
           {
            "marker": {
             "line": {
              "color": "#E5ECF6",
              "width": 0.5
             },
             "pattern": {
              "fillmode": "overlay",
              "size": 10,
              "solidity": 0.2
             }
            },
            "type": "barpolar"
           }
          ],
          "carpet": [
           {
            "aaxis": {
             "endlinecolor": "#2a3f5f",
             "gridcolor": "white",
             "linecolor": "white",
             "minorgridcolor": "white",
             "startlinecolor": "#2a3f5f"
            },
            "baxis": {
             "endlinecolor": "#2a3f5f",
             "gridcolor": "white",
             "linecolor": "white",
             "minorgridcolor": "white",
             "startlinecolor": "#2a3f5f"
            },
            "type": "carpet"
           }
          ],
          "choropleth": [
           {
            "colorbar": {
             "outlinewidth": 0,
             "ticks": ""
            },
            "type": "choropleth"
           }
          ],
          "contour": [
           {
            "colorbar": {
             "outlinewidth": 0,
             "ticks": ""
            },
            "colorscale": [
             [
              0,
              "#0d0887"
             ],
             [
              0.1111111111111111,
              "#46039f"
             ],
             [
              0.2222222222222222,
              "#7201a8"
             ],
             [
              0.3333333333333333,
              "#9c179e"
             ],
             [
              0.4444444444444444,
              "#bd3786"
             ],
             [
              0.5555555555555556,
              "#d8576b"
             ],
             [
              0.6666666666666666,
              "#ed7953"
             ],
             [
              0.7777777777777778,
              "#fb9f3a"
             ],
             [
              0.8888888888888888,
              "#fdca26"
             ],
             [
              1,
              "#f0f921"
             ]
            ],
            "type": "contour"
           }
          ],
          "contourcarpet": [
           {
            "colorbar": {
             "outlinewidth": 0,
             "ticks": ""
            },
            "type": "contourcarpet"
           }
          ],
          "heatmap": [
           {
            "colorbar": {
             "outlinewidth": 0,
             "ticks": ""
            },
            "colorscale": [
             [
              0,
              "#0d0887"
             ],
             [
              0.1111111111111111,
              "#46039f"
             ],
             [
              0.2222222222222222,
              "#7201a8"
             ],
             [
              0.3333333333333333,
              "#9c179e"
             ],
             [
              0.4444444444444444,
              "#bd3786"
             ],
             [
              0.5555555555555556,
              "#d8576b"
             ],
             [
              0.6666666666666666,
              "#ed7953"
             ],
             [
              0.7777777777777778,
              "#fb9f3a"
             ],
             [
              0.8888888888888888,
              "#fdca26"
             ],
             [
              1,
              "#f0f921"
             ]
            ],
            "type": "heatmap"
           }
          ],
          "heatmapgl": [
           {
            "colorbar": {
             "outlinewidth": 0,
             "ticks": ""
            },
            "colorscale": [
             [
              0,
              "#0d0887"
             ],
             [
              0.1111111111111111,
              "#46039f"
             ],
             [
              0.2222222222222222,
              "#7201a8"
             ],
             [
              0.3333333333333333,
              "#9c179e"
             ],
             [
              0.4444444444444444,
              "#bd3786"
             ],
             [
              0.5555555555555556,
              "#d8576b"
             ],
             [
              0.6666666666666666,
              "#ed7953"
             ],
             [
              0.7777777777777778,
              "#fb9f3a"
             ],
             [
              0.8888888888888888,
              "#fdca26"
             ],
             [
              1,
              "#f0f921"
             ]
            ],
            "type": "heatmapgl"
           }
          ],
          "histogram": [
           {
            "marker": {
             "pattern": {
              "fillmode": "overlay",
              "size": 10,
              "solidity": 0.2
             }
            },
            "type": "histogram"
           }
          ],
          "histogram2d": [
           {
            "colorbar": {
             "outlinewidth": 0,
             "ticks": ""
            },
            "colorscale": [
             [
              0,
              "#0d0887"
             ],
             [
              0.1111111111111111,
              "#46039f"
             ],
             [
              0.2222222222222222,
              "#7201a8"
             ],
             [
              0.3333333333333333,
              "#9c179e"
             ],
             [
              0.4444444444444444,
              "#bd3786"
             ],
             [
              0.5555555555555556,
              "#d8576b"
             ],
             [
              0.6666666666666666,
              "#ed7953"
             ],
             [
              0.7777777777777778,
              "#fb9f3a"
             ],
             [
              0.8888888888888888,
              "#fdca26"
             ],
             [
              1,
              "#f0f921"
             ]
            ],
            "type": "histogram2d"
           }
          ],
          "histogram2dcontour": [
           {
            "colorbar": {
             "outlinewidth": 0,
             "ticks": ""
            },
            "colorscale": [
             [
              0,
              "#0d0887"
             ],
             [
              0.1111111111111111,
              "#46039f"
             ],
             [
              0.2222222222222222,
              "#7201a8"
             ],
             [
              0.3333333333333333,
              "#9c179e"
             ],
             [
              0.4444444444444444,
              "#bd3786"
             ],
             [
              0.5555555555555556,
              "#d8576b"
             ],
             [
              0.6666666666666666,
              "#ed7953"
             ],
             [
              0.7777777777777778,
              "#fb9f3a"
             ],
             [
              0.8888888888888888,
              "#fdca26"
             ],
             [
              1,
              "#f0f921"
             ]
            ],
            "type": "histogram2dcontour"
           }
          ],
          "mesh3d": [
           {
            "colorbar": {
             "outlinewidth": 0,
             "ticks": ""
            },
            "type": "mesh3d"
           }
          ],
          "parcoords": [
           {
            "line": {
             "colorbar": {
              "outlinewidth": 0,
              "ticks": ""
             }
            },
            "type": "parcoords"
           }
          ],
          "pie": [
           {
            "automargin": true,
            "type": "pie"
           }
          ],
          "scatter": [
           {
            "marker": {
             "colorbar": {
              "outlinewidth": 0,
              "ticks": ""
             }
            },
            "type": "scatter"
           }
          ],
          "scatter3d": [
           {
            "line": {
             "colorbar": {
              "outlinewidth": 0,
              "ticks": ""
             }
            },
            "marker": {
             "colorbar": {
              "outlinewidth": 0,
              "ticks": ""
             }
            },
            "type": "scatter3d"
           }
          ],
          "scattercarpet": [
           {
            "marker": {
             "colorbar": {
              "outlinewidth": 0,
              "ticks": ""
             }
            },
            "type": "scattercarpet"
           }
          ],
          "scattergeo": [
           {
            "marker": {
             "colorbar": {
              "outlinewidth": 0,
              "ticks": ""
             }
            },
            "type": "scattergeo"
           }
          ],
          "scattergl": [
           {
            "marker": {
             "colorbar": {
              "outlinewidth": 0,
              "ticks": ""
             }
            },
            "type": "scattergl"
           }
          ],
          "scattermapbox": [
           {
            "marker": {
             "colorbar": {
              "outlinewidth": 0,
              "ticks": ""
             }
            },
            "type": "scattermapbox"
           }
          ],
          "scatterpolar": [
           {
            "marker": {
             "colorbar": {
              "outlinewidth": 0,
              "ticks": ""
             }
            },
            "type": "scatterpolar"
           }
          ],
          "scatterpolargl": [
           {
            "marker": {
             "colorbar": {
              "outlinewidth": 0,
              "ticks": ""
             }
            },
            "type": "scatterpolargl"
           }
          ],
          "scatterternary": [
           {
            "marker": {
             "colorbar": {
              "outlinewidth": 0,
              "ticks": ""
             }
            },
            "type": "scatterternary"
           }
          ],
          "surface": [
           {
            "colorbar": {
             "outlinewidth": 0,
             "ticks": ""
            },
            "colorscale": [
             [
              0,
              "#0d0887"
             ],
             [
              0.1111111111111111,
              "#46039f"
             ],
             [
              0.2222222222222222,
              "#7201a8"
             ],
             [
              0.3333333333333333,
              "#9c179e"
             ],
             [
              0.4444444444444444,
              "#bd3786"
             ],
             [
              0.5555555555555556,
              "#d8576b"
             ],
             [
              0.6666666666666666,
              "#ed7953"
             ],
             [
              0.7777777777777778,
              "#fb9f3a"
             ],
             [
              0.8888888888888888,
              "#fdca26"
             ],
             [
              1,
              "#f0f921"
             ]
            ],
            "type": "surface"
           }
          ],
          "table": [
           {
            "cells": {
             "fill": {
              "color": "#EBF0F8"
             },
             "line": {
              "color": "white"
             }
            },
            "header": {
             "fill": {
              "color": "#C8D4E3"
             },
             "line": {
              "color": "white"
             }
            },
            "type": "table"
           }
          ]
         },
         "layout": {
          "annotationdefaults": {
           "arrowcolor": "#2a3f5f",
           "arrowhead": 0,
           "arrowwidth": 1
          },
          "autotypenumbers": "strict",
          "coloraxis": {
           "colorbar": {
            "outlinewidth": 0,
            "ticks": ""
           }
          },
          "colorscale": {
           "diverging": [
            [
             0,
             "#8e0152"
            ],
            [
             0.1,
             "#c51b7d"
            ],
            [
             0.2,
             "#de77ae"
            ],
            [
             0.3,
             "#f1b6da"
            ],
            [
             0.4,
             "#fde0ef"
            ],
            [
             0.5,
             "#f7f7f7"
            ],
            [
             0.6,
             "#e6f5d0"
            ],
            [
             0.7,
             "#b8e186"
            ],
            [
             0.8,
             "#7fbc41"
            ],
            [
             0.9,
             "#4d9221"
            ],
            [
             1,
             "#276419"
            ]
           ],
           "sequential": [
            [
             0,
             "#0d0887"
            ],
            [
             0.1111111111111111,
             "#46039f"
            ],
            [
             0.2222222222222222,
             "#7201a8"
            ],
            [
             0.3333333333333333,
             "#9c179e"
            ],
            [
             0.4444444444444444,
             "#bd3786"
            ],
            [
             0.5555555555555556,
             "#d8576b"
            ],
            [
             0.6666666666666666,
             "#ed7953"
            ],
            [
             0.7777777777777778,
             "#fb9f3a"
            ],
            [
             0.8888888888888888,
             "#fdca26"
            ],
            [
             1,
             "#f0f921"
            ]
           ],
           "sequentialminus": [
            [
             0,
             "#0d0887"
            ],
            [
             0.1111111111111111,
             "#46039f"
            ],
            [
             0.2222222222222222,
             "#7201a8"
            ],
            [
             0.3333333333333333,
             "#9c179e"
            ],
            [
             0.4444444444444444,
             "#bd3786"
            ],
            [
             0.5555555555555556,
             "#d8576b"
            ],
            [
             0.6666666666666666,
             "#ed7953"
            ],
            [
             0.7777777777777778,
             "#fb9f3a"
            ],
            [
             0.8888888888888888,
             "#fdca26"
            ],
            [
             1,
             "#f0f921"
            ]
           ]
          },
          "colorway": [
           "#636efa",
           "#EF553B",
           "#00cc96",
           "#ab63fa",
           "#FFA15A",
           "#19d3f3",
           "#FF6692",
           "#B6E880",
           "#FF97FF",
           "#FECB52"
          ],
          "font": {
           "color": "#2a3f5f"
          },
          "geo": {
           "bgcolor": "white",
           "lakecolor": "white",
           "landcolor": "#E5ECF6",
           "showlakes": true,
           "showland": true,
           "subunitcolor": "white"
          },
          "hoverlabel": {
           "align": "left"
          },
          "hovermode": "closest",
          "mapbox": {
           "style": "light"
          },
          "paper_bgcolor": "white",
          "plot_bgcolor": "#E5ECF6",
          "polar": {
           "angularaxis": {
            "gridcolor": "white",
            "linecolor": "white",
            "ticks": ""
           },
           "bgcolor": "#E5ECF6",
           "radialaxis": {
            "gridcolor": "white",
            "linecolor": "white",
            "ticks": ""
           }
          },
          "scene": {
           "xaxis": {
            "backgroundcolor": "#E5ECF6",
            "gridcolor": "white",
            "gridwidth": 2,
            "linecolor": "white",
            "showbackground": true,
            "ticks": "",
            "zerolinecolor": "white"
           },
           "yaxis": {
            "backgroundcolor": "#E5ECF6",
            "gridcolor": "white",
            "gridwidth": 2,
            "linecolor": "white",
            "showbackground": true,
            "ticks": "",
            "zerolinecolor": "white"
           },
           "zaxis": {
            "backgroundcolor": "#E5ECF6",
            "gridcolor": "white",
            "gridwidth": 2,
            "linecolor": "white",
            "showbackground": true,
            "ticks": "",
            "zerolinecolor": "white"
           }
          },
          "shapedefaults": {
           "line": {
            "color": "#2a3f5f"
           }
          },
          "ternary": {
           "aaxis": {
            "gridcolor": "white",
            "linecolor": "white",
            "ticks": ""
           },
           "baxis": {
            "gridcolor": "white",
            "linecolor": "white",
            "ticks": ""
           },
           "bgcolor": "#E5ECF6",
           "caxis": {
            "gridcolor": "white",
            "linecolor": "white",
            "ticks": ""
           }
          },
          "title": {
           "x": 0.05
          },
          "xaxis": {
           "automargin": true,
           "gridcolor": "white",
           "linecolor": "white",
           "ticks": "",
           "title": {
            "standoff": 15
           },
           "zerolinecolor": "white",
           "zerolinewidth": 2
          },
          "yaxis": {
           "automargin": true,
           "gridcolor": "white",
           "linecolor": "white",
           "ticks": "",
           "title": {
            "standoff": 15
           },
           "zerolinecolor": "white",
           "zerolinewidth": 2
          }
         }
        },
        "title": {
         "text": "Proporções de faixas-salariais por tipo vínculo empregativo"
        },
        "xaxis": {
         "anchor": "y",
         "domain": [
          0,
          1
         ],
         "title": {
          "text": "Faixas salariais "
         }
        },
        "yaxis": {
         "anchor": "x",
         "domain": [
          0,
          1
         ],
         "title": {
          "text": "Proporção"
         }
        }
       }
      }
     },
     "metadata": {},
     "output_type": "display_data"
    }
   ],
   "source": [
    "salary_prop = pd.crosstab(df[\"('P2_h ', 'Faixa salarial')\"],df['Vínculo Empregativo'],normalize='columns')*100\n",
    "\n",
    "fig = px.line(salary_prop, x=salary_prop.index, y=salary_prop.columns, markers=True, title=\"Proporções de faixas-salariais por tipo vínculo empregativo\",\n",
    " labels={\n",
    "                     \"value\": \"Proporção\",\n",
    "                     \"('P2_h ', 'Faixa salarial')\": \"Faixas salariais \",\n",
    "                     \"Vínculo Empregativo\": \"\"\n",
    "                 }, color_discrete_sequence=px.colors.qualitative.G10)\n",
    "fig.show()\n"
   ]
  },
  {
   "cell_type": "code",
   "execution_count": null,
   "metadata": {},
   "outputs": [
    {
     "data": {
      "application/vnd.plotly.v1+json": {
       "config": {
        "plotlyServerURL": "https://plot.ly"
       },
       "data": [
        {
         "hovertemplate": "=Centro-oeste<br>Faixas salariais =%{x}<br>Proporção=%{y}<extra></extra>",
         "legendgroup": "Centro-oeste",
         "line": {
          "color": "#3366CC",
          "dash": "solid"
         },
         "marker": {
          "symbol": "circle"
         },
         "mode": "lines+markers",
         "name": "Centro-oeste",
         "orientation": "v",
         "showlegend": true,
         "type": "scatter",
         "x": [
          "até R$1k",
          "R$1k-2k",
          "R$2k-3k",
          "R$3k-4k",
          "R$4k-6k",
          "R$6k-8k",
          "R$8k-12k",
          "R$12k-16k",
          "R$16k-20k",
          "R$20k-25k",
          "R$25k-30k",
          "R$30k-40k",
          "R$40k+"
         ],
         "xaxis": "x",
         "y": [
          0.08456659619450317,
          0.42283298097251587,
          0.5496828752642706,
          0.3382663847780127,
          1.1839323467230445,
          0.8456659619450317,
          1.437632135306554,
          1.0993657505285412,
          0.718816067653277,
          0.2536997885835095,
          0.21141649048625794,
          0.12684989429175475,
          0
         ],
         "yaxis": "y"
        },
        {
         "hovertemplate": "=Exterior<br>Faixas salariais =%{x}<br>Proporção=%{y}<extra></extra>",
         "legendgroup": "Exterior",
         "line": {
          "color": "#DC3912",
          "dash": "solid"
         },
         "marker": {
          "symbol": "circle"
         },
         "mode": "lines+markers",
         "name": "Exterior",
         "orientation": "v",
         "showlegend": true,
         "type": "scatter",
         "x": [
          "até R$1k",
          "R$1k-2k",
          "R$2k-3k",
          "R$3k-4k",
          "R$4k-6k",
          "R$6k-8k",
          "R$8k-12k",
          "R$12k-16k",
          "R$16k-20k",
          "R$20k-25k",
          "R$25k-30k",
          "R$30k-40k",
          "R$40k+"
         ],
         "xaxis": "x",
         "y": [
          0,
          0.042283298097251586,
          0.042283298097251586,
          0.042283298097251586,
          0.21141649048625794,
          0.08456659619450317,
          0.2959830866807611,
          0.16913319238900634,
          0.12684989429175475,
          0.16913319238900634,
          0.042283298097251586,
          0.2536997885835095,
          0.2536997885835095
         ],
         "yaxis": "y"
        },
        {
         "hovertemplate": "=Nordeste<br>Faixas salariais =%{x}<br>Proporção=%{y}<extra></extra>",
         "legendgroup": "Nordeste",
         "line": {
          "color": "#FF9900",
          "dash": "solid"
         },
         "marker": {
          "symbol": "circle"
         },
         "mode": "lines+markers",
         "name": "Nordeste",
         "orientation": "v",
         "showlegend": true,
         "type": "scatter",
         "x": [
          "até R$1k",
          "R$1k-2k",
          "R$2k-3k",
          "R$3k-4k",
          "R$4k-6k",
          "R$6k-8k",
          "R$8k-12k",
          "R$12k-16k",
          "R$16k-20k",
          "R$20k-25k",
          "R$25k-30k",
          "R$30k-40k",
          "R$40k+"
         ],
         "xaxis": "x",
         "y": [
          0.42283298097251587,
          0.8879492600422833,
          0.8456659619450317,
          1.014799154334038,
          2.4101479915433406,
          1.5644820295983086,
          1.6067653276955602,
          0.7610993657505285,
          0.21141649048625794,
          0.12684989429175475,
          0.16913319238900634,
          0.042283298097251586,
          0.08456659619450317
         ],
         "yaxis": "y"
        },
        {
         "hovertemplate": "=Norte<br>Faixas salariais =%{x}<br>Proporção=%{y}<extra></extra>",
         "legendgroup": "Norte",
         "line": {
          "color": "#109618",
          "dash": "solid"
         },
         "marker": {
          "symbol": "circle"
         },
         "mode": "lines+markers",
         "name": "Norte",
         "orientation": "v",
         "showlegend": true,
         "type": "scatter",
         "x": [
          "até R$1k",
          "R$1k-2k",
          "R$2k-3k",
          "R$3k-4k",
          "R$4k-6k",
          "R$6k-8k",
          "R$8k-12k",
          "R$12k-16k",
          "R$16k-20k",
          "R$20k-25k",
          "R$25k-30k",
          "R$30k-40k",
          "R$40k+"
         ],
         "xaxis": "x",
         "y": [
          0.08456659619450317,
          0.042283298097251586,
          0.12684989429175475,
          0.16913319238900634,
          0.16913319238900634,
          0.21141649048625794,
          0.12684989429175475,
          0.08456659619450317,
          0,
          0.042283298097251586,
          0,
          0.042283298097251586,
          0
         ],
         "yaxis": "y"
        },
        {
         "hovertemplate": "=Sudeste<br>Faixas salariais =%{x}<br>Proporção=%{y}<extra></extra>",
         "legendgroup": "Sudeste",
         "line": {
          "color": "#990099",
          "dash": "solid"
         },
         "marker": {
          "symbol": "circle"
         },
         "mode": "lines+markers",
         "name": "Sudeste",
         "orientation": "v",
         "showlegend": true,
         "type": "scatter",
         "x": [
          "até R$1k",
          "R$1k-2k",
          "R$2k-3k",
          "R$3k-4k",
          "R$4k-6k",
          "R$6k-8k",
          "R$8k-12k",
          "R$12k-16k",
          "R$16k-20k",
          "R$20k-25k",
          "R$25k-30k",
          "R$30k-40k",
          "R$40k+"
         ],
         "xaxis": "x",
         "y": [
          0.6342494714587738,
          3.171247357293869,
          5.200845665961945,
          4.693446088794926,
          9.978858350951374,
          10.909090909090908,
          13.530655391120508,
          7.6109936575052854,
          3.551797040169133,
          1.6490486257928119,
          1.3107822410147991,
          1.0570824524312896,
          0.9302325581395349
         ],
         "yaxis": "y"
        },
        {
         "hovertemplate": "=Sul<br>Faixas salariais =%{x}<br>Proporção=%{y}<extra></extra>",
         "legendgroup": "Sul",
         "line": {
          "color": "#0099C6",
          "dash": "solid"
         },
         "marker": {
          "symbol": "circle"
         },
         "mode": "lines+markers",
         "name": "Sul",
         "orientation": "v",
         "showlegend": true,
         "type": "scatter",
         "x": [
          "até R$1k",
          "R$1k-2k",
          "R$2k-3k",
          "R$3k-4k",
          "R$4k-6k",
          "R$6k-8k",
          "R$8k-12k",
          "R$12k-16k",
          "R$16k-20k",
          "R$20k-25k",
          "R$25k-30k",
          "R$30k-40k",
          "R$40k+"
         ],
         "xaxis": "x",
         "y": [
          0.12684989429175475,
          0.7610993657505285,
          0.8456659619450317,
          1.4799154334038054,
          3.0866807610993656,
          3.0021141649048624,
          3.255813953488372,
          1.3953488372093024,
          0.8456659619450317,
          0.38054968287526425,
          0.08456659619450317,
          0.08456659619450317,
          0.16913319238900634
         ],
         "yaxis": "y"
        }
       ],
       "layout": {
        "legend": {
         "title": {
          "text": ""
         },
         "tracegroupgap": 0
        },
        "template": {
         "data": {
          "bar": [
           {
            "error_x": {
             "color": "#2a3f5f"
            },
            "error_y": {
             "color": "#2a3f5f"
            },
            "marker": {
             "line": {
              "color": "#E5ECF6",
              "width": 0.5
             },
             "pattern": {
              "fillmode": "overlay",
              "size": 10,
              "solidity": 0.2
             }
            },
            "type": "bar"
           }
          ],
          "barpolar": [
           {
            "marker": {
             "line": {
              "color": "#E5ECF6",
              "width": 0.5
             },
             "pattern": {
              "fillmode": "overlay",
              "size": 10,
              "solidity": 0.2
             }
            },
            "type": "barpolar"
           }
          ],
          "carpet": [
           {
            "aaxis": {
             "endlinecolor": "#2a3f5f",
             "gridcolor": "white",
             "linecolor": "white",
             "minorgridcolor": "white",
             "startlinecolor": "#2a3f5f"
            },
            "baxis": {
             "endlinecolor": "#2a3f5f",
             "gridcolor": "white",
             "linecolor": "white",
             "minorgridcolor": "white",
             "startlinecolor": "#2a3f5f"
            },
            "type": "carpet"
           }
          ],
          "choropleth": [
           {
            "colorbar": {
             "outlinewidth": 0,
             "ticks": ""
            },
            "type": "choropleth"
           }
          ],
          "contour": [
           {
            "colorbar": {
             "outlinewidth": 0,
             "ticks": ""
            },
            "colorscale": [
             [
              0,
              "#0d0887"
             ],
             [
              0.1111111111111111,
              "#46039f"
             ],
             [
              0.2222222222222222,
              "#7201a8"
             ],
             [
              0.3333333333333333,
              "#9c179e"
             ],
             [
              0.4444444444444444,
              "#bd3786"
             ],
             [
              0.5555555555555556,
              "#d8576b"
             ],
             [
              0.6666666666666666,
              "#ed7953"
             ],
             [
              0.7777777777777778,
              "#fb9f3a"
             ],
             [
              0.8888888888888888,
              "#fdca26"
             ],
             [
              1,
              "#f0f921"
             ]
            ],
            "type": "contour"
           }
          ],
          "contourcarpet": [
           {
            "colorbar": {
             "outlinewidth": 0,
             "ticks": ""
            },
            "type": "contourcarpet"
           }
          ],
          "heatmap": [
           {
            "colorbar": {
             "outlinewidth": 0,
             "ticks": ""
            },
            "colorscale": [
             [
              0,
              "#0d0887"
             ],
             [
              0.1111111111111111,
              "#46039f"
             ],
             [
              0.2222222222222222,
              "#7201a8"
             ],
             [
              0.3333333333333333,
              "#9c179e"
             ],
             [
              0.4444444444444444,
              "#bd3786"
             ],
             [
              0.5555555555555556,
              "#d8576b"
             ],
             [
              0.6666666666666666,
              "#ed7953"
             ],
             [
              0.7777777777777778,
              "#fb9f3a"
             ],
             [
              0.8888888888888888,
              "#fdca26"
             ],
             [
              1,
              "#f0f921"
             ]
            ],
            "type": "heatmap"
           }
          ],
          "heatmapgl": [
           {
            "colorbar": {
             "outlinewidth": 0,
             "ticks": ""
            },
            "colorscale": [
             [
              0,
              "#0d0887"
             ],
             [
              0.1111111111111111,
              "#46039f"
             ],
             [
              0.2222222222222222,
              "#7201a8"
             ],
             [
              0.3333333333333333,
              "#9c179e"
             ],
             [
              0.4444444444444444,
              "#bd3786"
             ],
             [
              0.5555555555555556,
              "#d8576b"
             ],
             [
              0.6666666666666666,
              "#ed7953"
             ],
             [
              0.7777777777777778,
              "#fb9f3a"
             ],
             [
              0.8888888888888888,
              "#fdca26"
             ],
             [
              1,
              "#f0f921"
             ]
            ],
            "type": "heatmapgl"
           }
          ],
          "histogram": [
           {
            "marker": {
             "pattern": {
              "fillmode": "overlay",
              "size": 10,
              "solidity": 0.2
             }
            },
            "type": "histogram"
           }
          ],
          "histogram2d": [
           {
            "colorbar": {
             "outlinewidth": 0,
             "ticks": ""
            },
            "colorscale": [
             [
              0,
              "#0d0887"
             ],
             [
              0.1111111111111111,
              "#46039f"
             ],
             [
              0.2222222222222222,
              "#7201a8"
             ],
             [
              0.3333333333333333,
              "#9c179e"
             ],
             [
              0.4444444444444444,
              "#bd3786"
             ],
             [
              0.5555555555555556,
              "#d8576b"
             ],
             [
              0.6666666666666666,
              "#ed7953"
             ],
             [
              0.7777777777777778,
              "#fb9f3a"
             ],
             [
              0.8888888888888888,
              "#fdca26"
             ],
             [
              1,
              "#f0f921"
             ]
            ],
            "type": "histogram2d"
           }
          ],
          "histogram2dcontour": [
           {
            "colorbar": {
             "outlinewidth": 0,
             "ticks": ""
            },
            "colorscale": [
             [
              0,
              "#0d0887"
             ],
             [
              0.1111111111111111,
              "#46039f"
             ],
             [
              0.2222222222222222,
              "#7201a8"
             ],
             [
              0.3333333333333333,
              "#9c179e"
             ],
             [
              0.4444444444444444,
              "#bd3786"
             ],
             [
              0.5555555555555556,
              "#d8576b"
             ],
             [
              0.6666666666666666,
              "#ed7953"
             ],
             [
              0.7777777777777778,
              "#fb9f3a"
             ],
             [
              0.8888888888888888,
              "#fdca26"
             ],
             [
              1,
              "#f0f921"
             ]
            ],
            "type": "histogram2dcontour"
           }
          ],
          "mesh3d": [
           {
            "colorbar": {
             "outlinewidth": 0,
             "ticks": ""
            },
            "type": "mesh3d"
           }
          ],
          "parcoords": [
           {
            "line": {
             "colorbar": {
              "outlinewidth": 0,
              "ticks": ""
             }
            },
            "type": "parcoords"
           }
          ],
          "pie": [
           {
            "automargin": true,
            "type": "pie"
           }
          ],
          "scatter": [
           {
            "marker": {
             "colorbar": {
              "outlinewidth": 0,
              "ticks": ""
             }
            },
            "type": "scatter"
           }
          ],
          "scatter3d": [
           {
            "line": {
             "colorbar": {
              "outlinewidth": 0,
              "ticks": ""
             }
            },
            "marker": {
             "colorbar": {
              "outlinewidth": 0,
              "ticks": ""
             }
            },
            "type": "scatter3d"
           }
          ],
          "scattercarpet": [
           {
            "marker": {
             "colorbar": {
              "outlinewidth": 0,
              "ticks": ""
             }
            },
            "type": "scattercarpet"
           }
          ],
          "scattergeo": [
           {
            "marker": {
             "colorbar": {
              "outlinewidth": 0,
              "ticks": ""
             }
            },
            "type": "scattergeo"
           }
          ],
          "scattergl": [
           {
            "marker": {
             "colorbar": {
              "outlinewidth": 0,
              "ticks": ""
             }
            },
            "type": "scattergl"
           }
          ],
          "scattermapbox": [
           {
            "marker": {
             "colorbar": {
              "outlinewidth": 0,
              "ticks": ""
             }
            },
            "type": "scattermapbox"
           }
          ],
          "scatterpolar": [
           {
            "marker": {
             "colorbar": {
              "outlinewidth": 0,
              "ticks": ""
             }
            },
            "type": "scatterpolar"
           }
          ],
          "scatterpolargl": [
           {
            "marker": {
             "colorbar": {
              "outlinewidth": 0,
              "ticks": ""
             }
            },
            "type": "scatterpolargl"
           }
          ],
          "scatterternary": [
           {
            "marker": {
             "colorbar": {
              "outlinewidth": 0,
              "ticks": ""
             }
            },
            "type": "scatterternary"
           }
          ],
          "surface": [
           {
            "colorbar": {
             "outlinewidth": 0,
             "ticks": ""
            },
            "colorscale": [
             [
              0,
              "#0d0887"
             ],
             [
              0.1111111111111111,
              "#46039f"
             ],
             [
              0.2222222222222222,
              "#7201a8"
             ],
             [
              0.3333333333333333,
              "#9c179e"
             ],
             [
              0.4444444444444444,
              "#bd3786"
             ],
             [
              0.5555555555555556,
              "#d8576b"
             ],
             [
              0.6666666666666666,
              "#ed7953"
             ],
             [
              0.7777777777777778,
              "#fb9f3a"
             ],
             [
              0.8888888888888888,
              "#fdca26"
             ],
             [
              1,
              "#f0f921"
             ]
            ],
            "type": "surface"
           }
          ],
          "table": [
           {
            "cells": {
             "fill": {
              "color": "#EBF0F8"
             },
             "line": {
              "color": "white"
             }
            },
            "header": {
             "fill": {
              "color": "#C8D4E3"
             },
             "line": {
              "color": "white"
             }
            },
            "type": "table"
           }
          ]
         },
         "layout": {
          "annotationdefaults": {
           "arrowcolor": "#2a3f5f",
           "arrowhead": 0,
           "arrowwidth": 1
          },
          "autotypenumbers": "strict",
          "coloraxis": {
           "colorbar": {
            "outlinewidth": 0,
            "ticks": ""
           }
          },
          "colorscale": {
           "diverging": [
            [
             0,
             "#8e0152"
            ],
            [
             0.1,
             "#c51b7d"
            ],
            [
             0.2,
             "#de77ae"
            ],
            [
             0.3,
             "#f1b6da"
            ],
            [
             0.4,
             "#fde0ef"
            ],
            [
             0.5,
             "#f7f7f7"
            ],
            [
             0.6,
             "#e6f5d0"
            ],
            [
             0.7,
             "#b8e186"
            ],
            [
             0.8,
             "#7fbc41"
            ],
            [
             0.9,
             "#4d9221"
            ],
            [
             1,
             "#276419"
            ]
           ],
           "sequential": [
            [
             0,
             "#0d0887"
            ],
            [
             0.1111111111111111,
             "#46039f"
            ],
            [
             0.2222222222222222,
             "#7201a8"
            ],
            [
             0.3333333333333333,
             "#9c179e"
            ],
            [
             0.4444444444444444,
             "#bd3786"
            ],
            [
             0.5555555555555556,
             "#d8576b"
            ],
            [
             0.6666666666666666,
             "#ed7953"
            ],
            [
             0.7777777777777778,
             "#fb9f3a"
            ],
            [
             0.8888888888888888,
             "#fdca26"
            ],
            [
             1,
             "#f0f921"
            ]
           ],
           "sequentialminus": [
            [
             0,
             "#0d0887"
            ],
            [
             0.1111111111111111,
             "#46039f"
            ],
            [
             0.2222222222222222,
             "#7201a8"
            ],
            [
             0.3333333333333333,
             "#9c179e"
            ],
            [
             0.4444444444444444,
             "#bd3786"
            ],
            [
             0.5555555555555556,
             "#d8576b"
            ],
            [
             0.6666666666666666,
             "#ed7953"
            ],
            [
             0.7777777777777778,
             "#fb9f3a"
            ],
            [
             0.8888888888888888,
             "#fdca26"
            ],
            [
             1,
             "#f0f921"
            ]
           ]
          },
          "colorway": [
           "#636efa",
           "#EF553B",
           "#00cc96",
           "#ab63fa",
           "#FFA15A",
           "#19d3f3",
           "#FF6692",
           "#B6E880",
           "#FF97FF",
           "#FECB52"
          ],
          "font": {
           "color": "#2a3f5f"
          },
          "geo": {
           "bgcolor": "white",
           "lakecolor": "white",
           "landcolor": "#E5ECF6",
           "showlakes": true,
           "showland": true,
           "subunitcolor": "white"
          },
          "hoverlabel": {
           "align": "left"
          },
          "hovermode": "closest",
          "mapbox": {
           "style": "light"
          },
          "paper_bgcolor": "white",
          "plot_bgcolor": "#E5ECF6",
          "polar": {
           "angularaxis": {
            "gridcolor": "white",
            "linecolor": "white",
            "ticks": ""
           },
           "bgcolor": "#E5ECF6",
           "radialaxis": {
            "gridcolor": "white",
            "linecolor": "white",
            "ticks": ""
           }
          },
          "scene": {
           "xaxis": {
            "backgroundcolor": "#E5ECF6",
            "gridcolor": "white",
            "gridwidth": 2,
            "linecolor": "white",
            "showbackground": true,
            "ticks": "",
            "zerolinecolor": "white"
           },
           "yaxis": {
            "backgroundcolor": "#E5ECF6",
            "gridcolor": "white",
            "gridwidth": 2,
            "linecolor": "white",
            "showbackground": true,
            "ticks": "",
            "zerolinecolor": "white"
           },
           "zaxis": {
            "backgroundcolor": "#E5ECF6",
            "gridcolor": "white",
            "gridwidth": 2,
            "linecolor": "white",
            "showbackground": true,
            "ticks": "",
            "zerolinecolor": "white"
           }
          },
          "shapedefaults": {
           "line": {
            "color": "#2a3f5f"
           }
          },
          "ternary": {
           "aaxis": {
            "gridcolor": "white",
            "linecolor": "white",
            "ticks": ""
           },
           "baxis": {
            "gridcolor": "white",
            "linecolor": "white",
            "ticks": ""
           },
           "bgcolor": "#E5ECF6",
           "caxis": {
            "gridcolor": "white",
            "linecolor": "white",
            "ticks": ""
           }
          },
          "title": {
           "x": 0.05
          },
          "xaxis": {
           "automargin": true,
           "gridcolor": "white",
           "linecolor": "white",
           "ticks": "",
           "title": {
            "standoff": 15
           },
           "zerolinecolor": "white",
           "zerolinewidth": 2
          },
          "yaxis": {
           "automargin": true,
           "gridcolor": "white",
           "linecolor": "white",
           "ticks": "",
           "title": {
            "standoff": 15
           },
           "zerolinecolor": "white",
           "zerolinewidth": 2
          }
         }
        },
        "title": {
         "text": "Proporções de faixas-salariais por região"
        },
        "xaxis": {
         "anchor": "y",
         "domain": [
          0,
          1
         ],
         "title": {
          "text": "Faixas salariais "
         }
        },
        "yaxis": {
         "anchor": "x",
         "domain": [
          0,
          1
         ],
         "title": {
          "text": "Proporção"
         }
        }
       }
      }
     },
     "metadata": {},
     "output_type": "display_data"
    }
   ],
   "source": [
    "regiao_prop = pd.crosstab(df[\"('P2_h ', 'Faixa salarial')\"],df[\"('P1_e_b ', 'Regiao onde mora')\"],normalize=True)*100\n",
    "regiao_prop\n",
    "\n",
    "fig = px.line(regiao_prop, x=regiao_prop.index, y=regiao_prop.columns, markers=True, title=\"Proporções de faixas-salariais por região\",\n",
    " labels={\n",
    "                     \"value\": \"Proporção\",\n",
    "                     \"('P2_h ', 'Faixa salarial')\": \"Faixas salariais \",\n",
    "                     \"('P1_e_b ', 'Regiao onde mora')\": \"\"\n",
    "                 }, color_discrete_sequence=px.colors.qualitative.G10)\n",
    "\n",
    "fig.show()"
   ]
  },
  {
   "cell_type": "code",
   "execution_count": null,
   "metadata": {},
   "outputs": [
    {
     "data": {
      "application/vnd.plotly.v1+json": {
       "config": {
        "plotlyServerURL": "https://plot.ly"
       },
       "data": [
        {
         "hovertemplate": "=Feminino<br>Faixas salariais =%{x}<br>Proporção=%{y}<extra></extra>",
         "legendgroup": "Feminino",
         "line": {
          "color": "Red",
          "dash": "solid"
         },
         "marker": {
          "symbol": "circle"
         },
         "mode": "lines+markers",
         "name": "Feminino",
         "orientation": "v",
         "showlegend": true,
         "type": "scatter",
         "x": [
          "até R$1k",
          "R$1k-2k",
          "R$2k-3k",
          "R$3k-4k",
          "R$4k-6k",
          "R$6k-8k",
          "R$8k-12k",
          "R$12k-16k",
          "R$16k-20k",
          "R$20k-25k",
          "R$25k-30k",
          "R$30k-40k",
          "R$40k+"
         ],
         "xaxis": "x",
         "y": [
          1.146788990825688,
          5.275229357798166,
          9.174311926605505,
          9.174311926605505,
          19.03669724770642,
          18.34862385321101,
          22.24770642201835,
          7.79816513761468,
          3.669724770642202,
          1.834862385321101,
          0.9174311926605505,
          0.6880733944954129,
          0.6880733944954129
         ],
         "yaxis": "y"
        },
        {
         "hovertemplate": "=Masculino<br>Faixas salariais =%{x}<br>Proporção=%{y}<extra></extra>",
         "legendgroup": "Masculino",
         "line": {
          "color": "Blue",
          "dash": "solid"
         },
         "marker": {
          "symbol": "circle"
         },
         "mode": "lines+markers",
         "name": "Masculino",
         "orientation": "v",
         "showlegend": true,
         "type": "scatter",
         "x": [
          "até R$1k",
          "R$1k-2k",
          "R$2k-3k",
          "R$3k-4k",
          "R$4k-6k",
          "R$6k-8k",
          "R$8k-12k",
          "R$12k-16k",
          "R$16k-20k",
          "R$20k-25k",
          "R$25k-30k",
          "R$30k-40k",
          "R$40k+"
         ],
         "xaxis": "x",
         "y": [
          1.4033264033264035,
          5.301455301455301,
          7.276507276507277,
          7.4324324324324325,
          16.476091476091476,
          16.268191268191266,
          19.854469854469855,
          11.902286902286903,
          5.873180873180874,
          2.806652806652807,
          2.027027027027027,
          1.7671517671517671,
          1.6112266112266114
         ],
         "yaxis": "y"
        },
        {
         "hovertemplate": "=Outro<br>Faixas salariais =%{x}<br>Proporção=%{y}<extra></extra>",
         "legendgroup": "Outro",
         "line": {
          "color": "Black",
          "dash": "solid"
         },
         "marker": {
          "symbol": "circle"
         },
         "mode": "lines+markers",
         "name": "Outro",
         "orientation": "v",
         "showlegend": true,
         "type": "scatter",
         "x": [
          "até R$1k",
          "R$1k-2k",
          "R$2k-3k",
          "R$3k-4k",
          "R$4k-6k",
          "R$6k-8k",
          "R$8k-12k",
          "R$12k-16k",
          "R$16k-20k",
          "R$20k-25k",
          "R$25k-30k",
          "R$30k-40k",
          "R$40k+"
         ],
         "xaxis": "x",
         "y": [
          0,
          20,
          0,
          0,
          60,
          0,
          0,
          0,
          0,
          0,
          0,
          20,
          0
         ],
         "yaxis": "y"
        }
       ],
       "layout": {
        "legend": {
         "title": {
          "text": ""
         },
         "tracegroupgap": 0
        },
        "template": {
         "data": {
          "bar": [
           {
            "error_x": {
             "color": "#2a3f5f"
            },
            "error_y": {
             "color": "#2a3f5f"
            },
            "marker": {
             "line": {
              "color": "#E5ECF6",
              "width": 0.5
             },
             "pattern": {
              "fillmode": "overlay",
              "size": 10,
              "solidity": 0.2
             }
            },
            "type": "bar"
           }
          ],
          "barpolar": [
           {
            "marker": {
             "line": {
              "color": "#E5ECF6",
              "width": 0.5
             },
             "pattern": {
              "fillmode": "overlay",
              "size": 10,
              "solidity": 0.2
             }
            },
            "type": "barpolar"
           }
          ],
          "carpet": [
           {
            "aaxis": {
             "endlinecolor": "#2a3f5f",
             "gridcolor": "white",
             "linecolor": "white",
             "minorgridcolor": "white",
             "startlinecolor": "#2a3f5f"
            },
            "baxis": {
             "endlinecolor": "#2a3f5f",
             "gridcolor": "white",
             "linecolor": "white",
             "minorgridcolor": "white",
             "startlinecolor": "#2a3f5f"
            },
            "type": "carpet"
           }
          ],
          "choropleth": [
           {
            "colorbar": {
             "outlinewidth": 0,
             "ticks": ""
            },
            "type": "choropleth"
           }
          ],
          "contour": [
           {
            "colorbar": {
             "outlinewidth": 0,
             "ticks": ""
            },
            "colorscale": [
             [
              0,
              "#0d0887"
             ],
             [
              0.1111111111111111,
              "#46039f"
             ],
             [
              0.2222222222222222,
              "#7201a8"
             ],
             [
              0.3333333333333333,
              "#9c179e"
             ],
             [
              0.4444444444444444,
              "#bd3786"
             ],
             [
              0.5555555555555556,
              "#d8576b"
             ],
             [
              0.6666666666666666,
              "#ed7953"
             ],
             [
              0.7777777777777778,
              "#fb9f3a"
             ],
             [
              0.8888888888888888,
              "#fdca26"
             ],
             [
              1,
              "#f0f921"
             ]
            ],
            "type": "contour"
           }
          ],
          "contourcarpet": [
           {
            "colorbar": {
             "outlinewidth": 0,
             "ticks": ""
            },
            "type": "contourcarpet"
           }
          ],
          "heatmap": [
           {
            "colorbar": {
             "outlinewidth": 0,
             "ticks": ""
            },
            "colorscale": [
             [
              0,
              "#0d0887"
             ],
             [
              0.1111111111111111,
              "#46039f"
             ],
             [
              0.2222222222222222,
              "#7201a8"
             ],
             [
              0.3333333333333333,
              "#9c179e"
             ],
             [
              0.4444444444444444,
              "#bd3786"
             ],
             [
              0.5555555555555556,
              "#d8576b"
             ],
             [
              0.6666666666666666,
              "#ed7953"
             ],
             [
              0.7777777777777778,
              "#fb9f3a"
             ],
             [
              0.8888888888888888,
              "#fdca26"
             ],
             [
              1,
              "#f0f921"
             ]
            ],
            "type": "heatmap"
           }
          ],
          "heatmapgl": [
           {
            "colorbar": {
             "outlinewidth": 0,
             "ticks": ""
            },
            "colorscale": [
             [
              0,
              "#0d0887"
             ],
             [
              0.1111111111111111,
              "#46039f"
             ],
             [
              0.2222222222222222,
              "#7201a8"
             ],
             [
              0.3333333333333333,
              "#9c179e"
             ],
             [
              0.4444444444444444,
              "#bd3786"
             ],
             [
              0.5555555555555556,
              "#d8576b"
             ],
             [
              0.6666666666666666,
              "#ed7953"
             ],
             [
              0.7777777777777778,
              "#fb9f3a"
             ],
             [
              0.8888888888888888,
              "#fdca26"
             ],
             [
              1,
              "#f0f921"
             ]
            ],
            "type": "heatmapgl"
           }
          ],
          "histogram": [
           {
            "marker": {
             "pattern": {
              "fillmode": "overlay",
              "size": 10,
              "solidity": 0.2
             }
            },
            "type": "histogram"
           }
          ],
          "histogram2d": [
           {
            "colorbar": {
             "outlinewidth": 0,
             "ticks": ""
            },
            "colorscale": [
             [
              0,
              "#0d0887"
             ],
             [
              0.1111111111111111,
              "#46039f"
             ],
             [
              0.2222222222222222,
              "#7201a8"
             ],
             [
              0.3333333333333333,
              "#9c179e"
             ],
             [
              0.4444444444444444,
              "#bd3786"
             ],
             [
              0.5555555555555556,
              "#d8576b"
             ],
             [
              0.6666666666666666,
              "#ed7953"
             ],
             [
              0.7777777777777778,
              "#fb9f3a"
             ],
             [
              0.8888888888888888,
              "#fdca26"
             ],
             [
              1,
              "#f0f921"
             ]
            ],
            "type": "histogram2d"
           }
          ],
          "histogram2dcontour": [
           {
            "colorbar": {
             "outlinewidth": 0,
             "ticks": ""
            },
            "colorscale": [
             [
              0,
              "#0d0887"
             ],
             [
              0.1111111111111111,
              "#46039f"
             ],
             [
              0.2222222222222222,
              "#7201a8"
             ],
             [
              0.3333333333333333,
              "#9c179e"
             ],
             [
              0.4444444444444444,
              "#bd3786"
             ],
             [
              0.5555555555555556,
              "#d8576b"
             ],
             [
              0.6666666666666666,
              "#ed7953"
             ],
             [
              0.7777777777777778,
              "#fb9f3a"
             ],
             [
              0.8888888888888888,
              "#fdca26"
             ],
             [
              1,
              "#f0f921"
             ]
            ],
            "type": "histogram2dcontour"
           }
          ],
          "mesh3d": [
           {
            "colorbar": {
             "outlinewidth": 0,
             "ticks": ""
            },
            "type": "mesh3d"
           }
          ],
          "parcoords": [
           {
            "line": {
             "colorbar": {
              "outlinewidth": 0,
              "ticks": ""
             }
            },
            "type": "parcoords"
           }
          ],
          "pie": [
           {
            "automargin": true,
            "type": "pie"
           }
          ],
          "scatter": [
           {
            "marker": {
             "colorbar": {
              "outlinewidth": 0,
              "ticks": ""
             }
            },
            "type": "scatter"
           }
          ],
          "scatter3d": [
           {
            "line": {
             "colorbar": {
              "outlinewidth": 0,
              "ticks": ""
             }
            },
            "marker": {
             "colorbar": {
              "outlinewidth": 0,
              "ticks": ""
             }
            },
            "type": "scatter3d"
           }
          ],
          "scattercarpet": [
           {
            "marker": {
             "colorbar": {
              "outlinewidth": 0,
              "ticks": ""
             }
            },
            "type": "scattercarpet"
           }
          ],
          "scattergeo": [
           {
            "marker": {
             "colorbar": {
              "outlinewidth": 0,
              "ticks": ""
             }
            },
            "type": "scattergeo"
           }
          ],
          "scattergl": [
           {
            "marker": {
             "colorbar": {
              "outlinewidth": 0,
              "ticks": ""
             }
            },
            "type": "scattergl"
           }
          ],
          "scattermapbox": [
           {
            "marker": {
             "colorbar": {
              "outlinewidth": 0,
              "ticks": ""
             }
            },
            "type": "scattermapbox"
           }
          ],
          "scatterpolar": [
           {
            "marker": {
             "colorbar": {
              "outlinewidth": 0,
              "ticks": ""
             }
            },
            "type": "scatterpolar"
           }
          ],
          "scatterpolargl": [
           {
            "marker": {
             "colorbar": {
              "outlinewidth": 0,
              "ticks": ""
             }
            },
            "type": "scatterpolargl"
           }
          ],
          "scatterternary": [
           {
            "marker": {
             "colorbar": {
              "outlinewidth": 0,
              "ticks": ""
             }
            },
            "type": "scatterternary"
           }
          ],
          "surface": [
           {
            "colorbar": {
             "outlinewidth": 0,
             "ticks": ""
            },
            "colorscale": [
             [
              0,
              "#0d0887"
             ],
             [
              0.1111111111111111,
              "#46039f"
             ],
             [
              0.2222222222222222,
              "#7201a8"
             ],
             [
              0.3333333333333333,
              "#9c179e"
             ],
             [
              0.4444444444444444,
              "#bd3786"
             ],
             [
              0.5555555555555556,
              "#d8576b"
             ],
             [
              0.6666666666666666,
              "#ed7953"
             ],
             [
              0.7777777777777778,
              "#fb9f3a"
             ],
             [
              0.8888888888888888,
              "#fdca26"
             ],
             [
              1,
              "#f0f921"
             ]
            ],
            "type": "surface"
           }
          ],
          "table": [
           {
            "cells": {
             "fill": {
              "color": "#EBF0F8"
             },
             "line": {
              "color": "white"
             }
            },
            "header": {
             "fill": {
              "color": "#C8D4E3"
             },
             "line": {
              "color": "white"
             }
            },
            "type": "table"
           }
          ]
         },
         "layout": {
          "annotationdefaults": {
           "arrowcolor": "#2a3f5f",
           "arrowhead": 0,
           "arrowwidth": 1
          },
          "autotypenumbers": "strict",
          "coloraxis": {
           "colorbar": {
            "outlinewidth": 0,
            "ticks": ""
           }
          },
          "colorscale": {
           "diverging": [
            [
             0,
             "#8e0152"
            ],
            [
             0.1,
             "#c51b7d"
            ],
            [
             0.2,
             "#de77ae"
            ],
            [
             0.3,
             "#f1b6da"
            ],
            [
             0.4,
             "#fde0ef"
            ],
            [
             0.5,
             "#f7f7f7"
            ],
            [
             0.6,
             "#e6f5d0"
            ],
            [
             0.7,
             "#b8e186"
            ],
            [
             0.8,
             "#7fbc41"
            ],
            [
             0.9,
             "#4d9221"
            ],
            [
             1,
             "#276419"
            ]
           ],
           "sequential": [
            [
             0,
             "#0d0887"
            ],
            [
             0.1111111111111111,
             "#46039f"
            ],
            [
             0.2222222222222222,
             "#7201a8"
            ],
            [
             0.3333333333333333,
             "#9c179e"
            ],
            [
             0.4444444444444444,
             "#bd3786"
            ],
            [
             0.5555555555555556,
             "#d8576b"
            ],
            [
             0.6666666666666666,
             "#ed7953"
            ],
            [
             0.7777777777777778,
             "#fb9f3a"
            ],
            [
             0.8888888888888888,
             "#fdca26"
            ],
            [
             1,
             "#f0f921"
            ]
           ],
           "sequentialminus": [
            [
             0,
             "#0d0887"
            ],
            [
             0.1111111111111111,
             "#46039f"
            ],
            [
             0.2222222222222222,
             "#7201a8"
            ],
            [
             0.3333333333333333,
             "#9c179e"
            ],
            [
             0.4444444444444444,
             "#bd3786"
            ],
            [
             0.5555555555555556,
             "#d8576b"
            ],
            [
             0.6666666666666666,
             "#ed7953"
            ],
            [
             0.7777777777777778,
             "#fb9f3a"
            ],
            [
             0.8888888888888888,
             "#fdca26"
            ],
            [
             1,
             "#f0f921"
            ]
           ]
          },
          "colorway": [
           "#636efa",
           "#EF553B",
           "#00cc96",
           "#ab63fa",
           "#FFA15A",
           "#19d3f3",
           "#FF6692",
           "#B6E880",
           "#FF97FF",
           "#FECB52"
          ],
          "font": {
           "color": "#2a3f5f"
          },
          "geo": {
           "bgcolor": "white",
           "lakecolor": "white",
           "landcolor": "#E5ECF6",
           "showlakes": true,
           "showland": true,
           "subunitcolor": "white"
          },
          "hoverlabel": {
           "align": "left"
          },
          "hovermode": "closest",
          "mapbox": {
           "style": "light"
          },
          "paper_bgcolor": "white",
          "plot_bgcolor": "#E5ECF6",
          "polar": {
           "angularaxis": {
            "gridcolor": "white",
            "linecolor": "white",
            "ticks": ""
           },
           "bgcolor": "#E5ECF6",
           "radialaxis": {
            "gridcolor": "white",
            "linecolor": "white",
            "ticks": ""
           }
          },
          "scene": {
           "xaxis": {
            "backgroundcolor": "#E5ECF6",
            "gridcolor": "white",
            "gridwidth": 2,
            "linecolor": "white",
            "showbackground": true,
            "ticks": "",
            "zerolinecolor": "white"
           },
           "yaxis": {
            "backgroundcolor": "#E5ECF6",
            "gridcolor": "white",
            "gridwidth": 2,
            "linecolor": "white",
            "showbackground": true,
            "ticks": "",
            "zerolinecolor": "white"
           },
           "zaxis": {
            "backgroundcolor": "#E5ECF6",
            "gridcolor": "white",
            "gridwidth": 2,
            "linecolor": "white",
            "showbackground": true,
            "ticks": "",
            "zerolinecolor": "white"
           }
          },
          "shapedefaults": {
           "line": {
            "color": "#2a3f5f"
           }
          },
          "ternary": {
           "aaxis": {
            "gridcolor": "white",
            "linecolor": "white",
            "ticks": ""
           },
           "baxis": {
            "gridcolor": "white",
            "linecolor": "white",
            "ticks": ""
           },
           "bgcolor": "#E5ECF6",
           "caxis": {
            "gridcolor": "white",
            "linecolor": "white",
            "ticks": ""
           }
          },
          "title": {
           "x": 0.05
          },
          "xaxis": {
           "automargin": true,
           "gridcolor": "white",
           "linecolor": "white",
           "ticks": "",
           "title": {
            "standoff": 15
           },
           "zerolinecolor": "white",
           "zerolinewidth": 2
          },
          "yaxis": {
           "automargin": true,
           "gridcolor": "white",
           "linecolor": "white",
           "ticks": "",
           "title": {
            "standoff": 15
           },
           "zerolinecolor": "white",
           "zerolinewidth": 2
          }
         }
        },
        "title": {
         "text": "Proporções de faixas-salariais por gênero"
        },
        "xaxis": {
         "anchor": "y",
         "domain": [
          0,
          1
         ],
         "title": {
          "text": "Faixas salariais "
         }
        },
        "yaxis": {
         "anchor": "x",
         "domain": [
          0,
          1
         ],
         "title": {
          "text": "Proporção"
         }
        }
       }
      }
     },
     "metadata": {},
     "output_type": "display_data"
    }
   ],
   "source": [
    "sexo_prop = pd.crosstab(df[\"('P2_h ', 'Faixa salarial')\"],df[\"('P1_b ', 'Genero')\"],normalize='columns')*100\n",
    "sexo_prop\n",
    "\n",
    "fig = px.line(sexo_prop, x=sexo_prop.index, y=sexo_prop.columns, markers=True, title=\"Proporções de faixas-salariais por gênero\",\n",
    " labels={\n",
    "                     \"value\": \"Proporção\",\n",
    "                     \"('P2_h ', 'Faixa salarial')\": \"Faixas salariais \",\n",
    "                     \"('P1_b ', 'Genero')\": \"\"\n",
    "                 }, color_discrete_sequence=['Red','Blue','Black'])\n",
    "                \n",
    "\n",
    "fig.show()"
   ]
  },
  {
   "cell_type": "code",
   "execution_count": null,
   "metadata": {},
   "outputs": [
    {
     "data": {
      "application/vnd.plotly.v1+json": {
       "config": {
        "plotlyServerURL": "https://plot.ly"
       },
       "data": [
        {
         "hovertemplate": "=Gestor<br>Faixas salariais =%{x}<br>Proporção=%{y}<extra></extra>",
         "legendgroup": "Gestor",
         "line": {
          "color": "#636efa",
          "dash": "solid"
         },
         "marker": {
          "symbol": "circle"
         },
         "mode": "lines+markers",
         "name": "Gestor",
         "orientation": "v",
         "showlegend": true,
         "type": "scatter",
         "x": [
          "até R$1k",
          "R$1k-2k",
          "R$2k-3k",
          "R$3k-4k",
          "R$4k-6k",
          "R$6k-8k",
          "R$8k-12k",
          "R$12k-16k",
          "R$16k-20k",
          "R$20k-25k",
          "R$25k-30k",
          "R$30k-40k",
          "R$40k+"
         ],
         "xaxis": "x",
         "y": [
          1.574803149606299,
          0.7874015748031495,
          1.3779527559055118,
          2.3622047244094486,
          6.299212598425196,
          12.007874015748031,
          19.88188976377953,
          20.866141732283463,
          13.779527559055119,
          8.267716535433072,
          4.921259842519685,
          3.543307086614173,
          4.330708661417323
         ],
         "yaxis": "y"
        },
        {
         "hovertemplate": "=Júnior<br>Faixas salariais =%{x}<br>Proporção=%{y}<extra></extra>",
         "legendgroup": "Júnior",
         "line": {
          "color": "#EF553B",
          "dash": "solid"
         },
         "marker": {
          "symbol": "circle"
         },
         "mode": "lines+markers",
         "name": "Júnior",
         "orientation": "v",
         "showlegend": true,
         "type": "scatter",
         "x": [
          "até R$1k",
          "R$1k-2k",
          "R$2k-3k",
          "R$3k-4k",
          "R$4k-6k",
          "R$6k-8k",
          "R$8k-12k",
          "R$12k-16k",
          "R$16k-20k",
          "R$20k-25k",
          "R$25k-30k",
          "R$30k-40k",
          "R$40k+"
         ],
         "xaxis": "x",
         "y": [
          3.542673107890499,
          18.035426731078903,
          22.383252818035427,
          18.357487922705314,
          25.76489533011272,
          6.602254428341385,
          4.3478260869565215,
          0.644122383252818,
          0,
          0.1610305958132045,
          0,
          0.1610305958132045,
          0
         ],
         "yaxis": "y"
        },
        {
         "hovertemplate": "=Pleno<br>Faixas salariais =%{x}<br>Proporção=%{y}<extra></extra>",
         "legendgroup": "Pleno",
         "line": {
          "color": "#00cc96",
          "dash": "solid"
         },
         "marker": {
          "symbol": "circle"
         },
         "mode": "lines+markers",
         "name": "Pleno",
         "orientation": "v",
         "showlegend": true,
         "type": "scatter",
         "x": [
          "até R$1k",
          "R$1k-2k",
          "R$2k-3k",
          "R$3k-4k",
          "R$4k-6k",
          "R$6k-8k",
          "R$8k-12k",
          "R$12k-16k",
          "R$16k-20k",
          "R$20k-25k",
          "R$25k-30k",
          "R$30k-40k",
          "R$40k+"
         ],
         "xaxis": "x",
         "y": [
          0.303951367781155,
          1.3677811550151975,
          4.25531914893617,
          7.446808510638298,
          25.379939209726444,
          30.243161094224924,
          22.9483282674772,
          3.951367781155015,
          1.6717325227963524,
          0.911854103343465,
          0.911854103343465,
          0.303951367781155,
          0.303951367781155
         ],
         "yaxis": "y"
        },
        {
         "hovertemplate": "=Sênior<br>Faixas salariais =%{x}<br>Proporção=%{y}<extra></extra>",
         "legendgroup": "Sênior",
         "line": {
          "color": "#ab63fa",
          "dash": "solid"
         },
         "marker": {
          "symbol": "circle"
         },
         "mode": "lines+markers",
         "name": "Sênior",
         "orientation": "v",
         "showlegend": true,
         "type": "scatter",
         "x": [
          "até R$1k",
          "R$1k-2k",
          "R$2k-3k",
          "R$3k-4k",
          "R$4k-6k",
          "R$6k-8k",
          "R$8k-12k",
          "R$12k-16k",
          "R$16k-20k",
          "R$20k-25k",
          "R$25k-30k",
          "R$30k-40k",
          "R$40k+"
         ],
         "xaxis": "x",
         "y": [
          0,
          0.17301038062283738,
          1.0380622837370241,
          1.384083044982699,
          7.612456747404845,
          15.916955017301039,
          34.602076124567475,
          21.972318339100347,
          8.304498269896193,
          2.249134948096886,
          2.0761245674740483,
          2.941176470588235,
          1.7301038062283738
         ],
         "yaxis": "y"
        }
       ],
       "layout": {
        "legend": {
         "title": {
          "text": ""
         },
         "tracegroupgap": 0
        },
        "template": {
         "data": {
          "bar": [
           {
            "error_x": {
             "color": "#2a3f5f"
            },
            "error_y": {
             "color": "#2a3f5f"
            },
            "marker": {
             "line": {
              "color": "#E5ECF6",
              "width": 0.5
             },
             "pattern": {
              "fillmode": "overlay",
              "size": 10,
              "solidity": 0.2
             }
            },
            "type": "bar"
           }
          ],
          "barpolar": [
           {
            "marker": {
             "line": {
              "color": "#E5ECF6",
              "width": 0.5
             },
             "pattern": {
              "fillmode": "overlay",
              "size": 10,
              "solidity": 0.2
             }
            },
            "type": "barpolar"
           }
          ],
          "carpet": [
           {
            "aaxis": {
             "endlinecolor": "#2a3f5f",
             "gridcolor": "white",
             "linecolor": "white",
             "minorgridcolor": "white",
             "startlinecolor": "#2a3f5f"
            },
            "baxis": {
             "endlinecolor": "#2a3f5f",
             "gridcolor": "white",
             "linecolor": "white",
             "minorgridcolor": "white",
             "startlinecolor": "#2a3f5f"
            },
            "type": "carpet"
           }
          ],
          "choropleth": [
           {
            "colorbar": {
             "outlinewidth": 0,
             "ticks": ""
            },
            "type": "choropleth"
           }
          ],
          "contour": [
           {
            "colorbar": {
             "outlinewidth": 0,
             "ticks": ""
            },
            "colorscale": [
             [
              0,
              "#0d0887"
             ],
             [
              0.1111111111111111,
              "#46039f"
             ],
             [
              0.2222222222222222,
              "#7201a8"
             ],
             [
              0.3333333333333333,
              "#9c179e"
             ],
             [
              0.4444444444444444,
              "#bd3786"
             ],
             [
              0.5555555555555556,
              "#d8576b"
             ],
             [
              0.6666666666666666,
              "#ed7953"
             ],
             [
              0.7777777777777778,
              "#fb9f3a"
             ],
             [
              0.8888888888888888,
              "#fdca26"
             ],
             [
              1,
              "#f0f921"
             ]
            ],
            "type": "contour"
           }
          ],
          "contourcarpet": [
           {
            "colorbar": {
             "outlinewidth": 0,
             "ticks": ""
            },
            "type": "contourcarpet"
           }
          ],
          "heatmap": [
           {
            "colorbar": {
             "outlinewidth": 0,
             "ticks": ""
            },
            "colorscale": [
             [
              0,
              "#0d0887"
             ],
             [
              0.1111111111111111,
              "#46039f"
             ],
             [
              0.2222222222222222,
              "#7201a8"
             ],
             [
              0.3333333333333333,
              "#9c179e"
             ],
             [
              0.4444444444444444,
              "#bd3786"
             ],
             [
              0.5555555555555556,
              "#d8576b"
             ],
             [
              0.6666666666666666,
              "#ed7953"
             ],
             [
              0.7777777777777778,
              "#fb9f3a"
             ],
             [
              0.8888888888888888,
              "#fdca26"
             ],
             [
              1,
              "#f0f921"
             ]
            ],
            "type": "heatmap"
           }
          ],
          "heatmapgl": [
           {
            "colorbar": {
             "outlinewidth": 0,
             "ticks": ""
            },
            "colorscale": [
             [
              0,
              "#0d0887"
             ],
             [
              0.1111111111111111,
              "#46039f"
             ],
             [
              0.2222222222222222,
              "#7201a8"
             ],
             [
              0.3333333333333333,
              "#9c179e"
             ],
             [
              0.4444444444444444,
              "#bd3786"
             ],
             [
              0.5555555555555556,
              "#d8576b"
             ],
             [
              0.6666666666666666,
              "#ed7953"
             ],
             [
              0.7777777777777778,
              "#fb9f3a"
             ],
             [
              0.8888888888888888,
              "#fdca26"
             ],
             [
              1,
              "#f0f921"
             ]
            ],
            "type": "heatmapgl"
           }
          ],
          "histogram": [
           {
            "marker": {
             "pattern": {
              "fillmode": "overlay",
              "size": 10,
              "solidity": 0.2
             }
            },
            "type": "histogram"
           }
          ],
          "histogram2d": [
           {
            "colorbar": {
             "outlinewidth": 0,
             "ticks": ""
            },
            "colorscale": [
             [
              0,
              "#0d0887"
             ],
             [
              0.1111111111111111,
              "#46039f"
             ],
             [
              0.2222222222222222,
              "#7201a8"
             ],
             [
              0.3333333333333333,
              "#9c179e"
             ],
             [
              0.4444444444444444,
              "#bd3786"
             ],
             [
              0.5555555555555556,
              "#d8576b"
             ],
             [
              0.6666666666666666,
              "#ed7953"
             ],
             [
              0.7777777777777778,
              "#fb9f3a"
             ],
             [
              0.8888888888888888,
              "#fdca26"
             ],
             [
              1,
              "#f0f921"
             ]
            ],
            "type": "histogram2d"
           }
          ],
          "histogram2dcontour": [
           {
            "colorbar": {
             "outlinewidth": 0,
             "ticks": ""
            },
            "colorscale": [
             [
              0,
              "#0d0887"
             ],
             [
              0.1111111111111111,
              "#46039f"
             ],
             [
              0.2222222222222222,
              "#7201a8"
             ],
             [
              0.3333333333333333,
              "#9c179e"
             ],
             [
              0.4444444444444444,
              "#bd3786"
             ],
             [
              0.5555555555555556,
              "#d8576b"
             ],
             [
              0.6666666666666666,
              "#ed7953"
             ],
             [
              0.7777777777777778,
              "#fb9f3a"
             ],
             [
              0.8888888888888888,
              "#fdca26"
             ],
             [
              1,
              "#f0f921"
             ]
            ],
            "type": "histogram2dcontour"
           }
          ],
          "mesh3d": [
           {
            "colorbar": {
             "outlinewidth": 0,
             "ticks": ""
            },
            "type": "mesh3d"
           }
          ],
          "parcoords": [
           {
            "line": {
             "colorbar": {
              "outlinewidth": 0,
              "ticks": ""
             }
            },
            "type": "parcoords"
           }
          ],
          "pie": [
           {
            "automargin": true,
            "type": "pie"
           }
          ],
          "scatter": [
           {
            "marker": {
             "colorbar": {
              "outlinewidth": 0,
              "ticks": ""
             }
            },
            "type": "scatter"
           }
          ],
          "scatter3d": [
           {
            "line": {
             "colorbar": {
              "outlinewidth": 0,
              "ticks": ""
             }
            },
            "marker": {
             "colorbar": {
              "outlinewidth": 0,
              "ticks": ""
             }
            },
            "type": "scatter3d"
           }
          ],
          "scattercarpet": [
           {
            "marker": {
             "colorbar": {
              "outlinewidth": 0,
              "ticks": ""
             }
            },
            "type": "scattercarpet"
           }
          ],
          "scattergeo": [
           {
            "marker": {
             "colorbar": {
              "outlinewidth": 0,
              "ticks": ""
             }
            },
            "type": "scattergeo"
           }
          ],
          "scattergl": [
           {
            "marker": {
             "colorbar": {
              "outlinewidth": 0,
              "ticks": ""
             }
            },
            "type": "scattergl"
           }
          ],
          "scattermapbox": [
           {
            "marker": {
             "colorbar": {
              "outlinewidth": 0,
              "ticks": ""
             }
            },
            "type": "scattermapbox"
           }
          ],
          "scatterpolar": [
           {
            "marker": {
             "colorbar": {
              "outlinewidth": 0,
              "ticks": ""
             }
            },
            "type": "scatterpolar"
           }
          ],
          "scatterpolargl": [
           {
            "marker": {
             "colorbar": {
              "outlinewidth": 0,
              "ticks": ""
             }
            },
            "type": "scatterpolargl"
           }
          ],
          "scatterternary": [
           {
            "marker": {
             "colorbar": {
              "outlinewidth": 0,
              "ticks": ""
             }
            },
            "type": "scatterternary"
           }
          ],
          "surface": [
           {
            "colorbar": {
             "outlinewidth": 0,
             "ticks": ""
            },
            "colorscale": [
             [
              0,
              "#0d0887"
             ],
             [
              0.1111111111111111,
              "#46039f"
             ],
             [
              0.2222222222222222,
              "#7201a8"
             ],
             [
              0.3333333333333333,
              "#9c179e"
             ],
             [
              0.4444444444444444,
              "#bd3786"
             ],
             [
              0.5555555555555556,
              "#d8576b"
             ],
             [
              0.6666666666666666,
              "#ed7953"
             ],
             [
              0.7777777777777778,
              "#fb9f3a"
             ],
             [
              0.8888888888888888,
              "#fdca26"
             ],
             [
              1,
              "#f0f921"
             ]
            ],
            "type": "surface"
           }
          ],
          "table": [
           {
            "cells": {
             "fill": {
              "color": "#EBF0F8"
             },
             "line": {
              "color": "white"
             }
            },
            "header": {
             "fill": {
              "color": "#C8D4E3"
             },
             "line": {
              "color": "white"
             }
            },
            "type": "table"
           }
          ]
         },
         "layout": {
          "annotationdefaults": {
           "arrowcolor": "#2a3f5f",
           "arrowhead": 0,
           "arrowwidth": 1
          },
          "autotypenumbers": "strict",
          "coloraxis": {
           "colorbar": {
            "outlinewidth": 0,
            "ticks": ""
           }
          },
          "colorscale": {
           "diverging": [
            [
             0,
             "#8e0152"
            ],
            [
             0.1,
             "#c51b7d"
            ],
            [
             0.2,
             "#de77ae"
            ],
            [
             0.3,
             "#f1b6da"
            ],
            [
             0.4,
             "#fde0ef"
            ],
            [
             0.5,
             "#f7f7f7"
            ],
            [
             0.6,
             "#e6f5d0"
            ],
            [
             0.7,
             "#b8e186"
            ],
            [
             0.8,
             "#7fbc41"
            ],
            [
             0.9,
             "#4d9221"
            ],
            [
             1,
             "#276419"
            ]
           ],
           "sequential": [
            [
             0,
             "#0d0887"
            ],
            [
             0.1111111111111111,
             "#46039f"
            ],
            [
             0.2222222222222222,
             "#7201a8"
            ],
            [
             0.3333333333333333,
             "#9c179e"
            ],
            [
             0.4444444444444444,
             "#bd3786"
            ],
            [
             0.5555555555555556,
             "#d8576b"
            ],
            [
             0.6666666666666666,
             "#ed7953"
            ],
            [
             0.7777777777777778,
             "#fb9f3a"
            ],
            [
             0.8888888888888888,
             "#fdca26"
            ],
            [
             1,
             "#f0f921"
            ]
           ],
           "sequentialminus": [
            [
             0,
             "#0d0887"
            ],
            [
             0.1111111111111111,
             "#46039f"
            ],
            [
             0.2222222222222222,
             "#7201a8"
            ],
            [
             0.3333333333333333,
             "#9c179e"
            ],
            [
             0.4444444444444444,
             "#bd3786"
            ],
            [
             0.5555555555555556,
             "#d8576b"
            ],
            [
             0.6666666666666666,
             "#ed7953"
            ],
            [
             0.7777777777777778,
             "#fb9f3a"
            ],
            [
             0.8888888888888888,
             "#fdca26"
            ],
            [
             1,
             "#f0f921"
            ]
           ]
          },
          "colorway": [
           "#636efa",
           "#EF553B",
           "#00cc96",
           "#ab63fa",
           "#FFA15A",
           "#19d3f3",
           "#FF6692",
           "#B6E880",
           "#FF97FF",
           "#FECB52"
          ],
          "font": {
           "color": "#2a3f5f"
          },
          "geo": {
           "bgcolor": "white",
           "lakecolor": "white",
           "landcolor": "#E5ECF6",
           "showlakes": true,
           "showland": true,
           "subunitcolor": "white"
          },
          "hoverlabel": {
           "align": "left"
          },
          "hovermode": "closest",
          "mapbox": {
           "style": "light"
          },
          "paper_bgcolor": "white",
          "plot_bgcolor": "#E5ECF6",
          "polar": {
           "angularaxis": {
            "gridcolor": "white",
            "linecolor": "white",
            "ticks": ""
           },
           "bgcolor": "#E5ECF6",
           "radialaxis": {
            "gridcolor": "white",
            "linecolor": "white",
            "ticks": ""
           }
          },
          "scene": {
           "xaxis": {
            "backgroundcolor": "#E5ECF6",
            "gridcolor": "white",
            "gridwidth": 2,
            "linecolor": "white",
            "showbackground": true,
            "ticks": "",
            "zerolinecolor": "white"
           },
           "yaxis": {
            "backgroundcolor": "#E5ECF6",
            "gridcolor": "white",
            "gridwidth": 2,
            "linecolor": "white",
            "showbackground": true,
            "ticks": "",
            "zerolinecolor": "white"
           },
           "zaxis": {
            "backgroundcolor": "#E5ECF6",
            "gridcolor": "white",
            "gridwidth": 2,
            "linecolor": "white",
            "showbackground": true,
            "ticks": "",
            "zerolinecolor": "white"
           }
          },
          "shapedefaults": {
           "line": {
            "color": "#2a3f5f"
           }
          },
          "ternary": {
           "aaxis": {
            "gridcolor": "white",
            "linecolor": "white",
            "ticks": ""
           },
           "baxis": {
            "gridcolor": "white",
            "linecolor": "white",
            "ticks": ""
           },
           "bgcolor": "#E5ECF6",
           "caxis": {
            "gridcolor": "white",
            "linecolor": "white",
            "ticks": ""
           }
          },
          "title": {
           "x": 0.05
          },
          "xaxis": {
           "automargin": true,
           "gridcolor": "white",
           "linecolor": "white",
           "ticks": "",
           "title": {
            "standoff": 15
           },
           "zerolinecolor": "white",
           "zerolinewidth": 2
          },
          "yaxis": {
           "automargin": true,
           "gridcolor": "white",
           "linecolor": "white",
           "ticks": "",
           "title": {
            "standoff": 15
           },
           "zerolinecolor": "white",
           "zerolinewidth": 2
          }
         }
        },
        "title": {
         "text": "Proporções de faixas-salariais por nível de senioridade"
        },
        "xaxis": {
         "anchor": "y",
         "domain": [
          0,
          1
         ],
         "title": {
          "text": "Faixas salariais "
         }
        },
        "yaxis": {
         "anchor": "x",
         "domain": [
          0,
          1
         ],
         "title": {
          "text": "Proporção"
         }
        }
       }
      }
     },
     "metadata": {},
     "output_type": "display_data"
    }
   ],
   "source": [
    "nivel_prop = pd.crosstab(df[\"('P2_h ', 'Faixa salarial')\"],df[\"('P2_g ', 'Nivel')\"],normalize='columns')*100\n",
    "nivel_prop\n",
    "\n",
    "fig = px.line(nivel_prop, x=nivel_prop.index, y=nivel_prop.columns, markers=True,title=\"Proporções de faixas-salariais por nível de senioridade\",\n",
    " labels={\n",
    "                     \"value\": \"Proporção\",\n",
    "                     \"('P2_h ', 'Faixa salarial')\": \"Faixas salariais \",\n",
    "                     \"('P2_g ', 'Nivel')\": \"\"\n",
    "                 })\n",
    "                \n",
    "\n",
    "fig.show()"
   ]
  },
  {
   "cell_type": "code",
   "execution_count": null,
   "metadata": {},
   "outputs": [
    {
     "data": {
      "application/vnd.plotly.v1+json": {
       "config": {
        "plotlyServerURL": "https://plot.ly"
       },
       "data": [
        {
         "hovertemplate": "=Não tenho experiência na área de dados<br>Faixas salariais =%{x}<br>Proporção=%{y}<extra></extra>",
         "legendgroup": "Não tenho experiência na área de dados",
         "line": {
          "color": "#2E91E5",
          "dash": "solid"
         },
         "marker": {
          "symbol": "circle"
         },
         "mode": "lines+markers",
         "name": "Não tenho experiência na área de dados",
         "orientation": "v",
         "showlegend": true,
         "type": "scatter",
         "x": [
          "até R$1k",
          "R$1k-2k",
          "R$2k-3k",
          "R$3k-4k",
          "R$4k-6k",
          "R$6k-8k",
          "R$8k-12k",
          "R$12k-16k",
          "R$16k-20k",
          "R$20k-25k",
          "R$25k-30k",
          "R$30k-40k",
          "R$40k+"
         ],
         "xaxis": "x",
         "y": [
          2.459016393442623,
          12.295081967213115,
          18.0327868852459,
          9.836065573770492,
          22.950819672131146,
          13.934426229508196,
          11.475409836065573,
          3.278688524590164,
          4.098360655737705,
          0,
          0.819672131147541,
          0,
          0.819672131147541
         ],
         "yaxis": "y"
        },
        {
         "hovertemplate": "=Menos de 1 ano<br>Faixas salariais =%{x}<br>Proporção=%{y}<extra></extra>",
         "legendgroup": "Menos de 1 ano",
         "line": {
          "color": "#E15F99",
          "dash": "solid"
         },
         "marker": {
          "symbol": "circle"
         },
         "mode": "lines+markers",
         "name": "Menos de 1 ano",
         "orientation": "v",
         "showlegend": true,
         "type": "scatter",
         "x": [
          "até R$1k",
          "R$1k-2k",
          "R$2k-3k",
          "R$3k-4k",
          "R$4k-6k",
          "R$6k-8k",
          "R$8k-12k",
          "R$12k-16k",
          "R$16k-20k",
          "R$20k-25k",
          "R$25k-30k",
          "R$30k-40k",
          "R$40k+"
         ],
         "xaxis": "x",
         "y": [
          3.3854166666666665,
          16.927083333333336,
          17.96875,
          15.104166666666666,
          23.958333333333336,
          10.9375,
          7.8125,
          2.34375,
          0.78125,
          0,
          0.5208333333333333,
          0.26041666666666663,
          0
         ],
         "yaxis": "y"
        },
        {
         "hovertemplate": "=de 1 a 2 anos<br>Faixas salariais =%{x}<br>Proporção=%{y}<extra></extra>",
         "legendgroup": "de 1 a 2 anos",
         "line": {
          "color": "#1CA71C",
          "dash": "solid"
         },
         "marker": {
          "symbol": "circle"
         },
         "mode": "lines+markers",
         "name": "de 1 a 2 anos",
         "orientation": "v",
         "showlegend": true,
         "type": "scatter",
         "x": [
          "até R$1k",
          "R$1k-2k",
          "R$2k-3k",
          "R$3k-4k",
          "R$4k-6k",
          "R$6k-8k",
          "R$8k-12k",
          "R$12k-16k",
          "R$16k-20k",
          "R$20k-25k",
          "R$25k-30k",
          "R$30k-40k",
          "R$40k+"
         ],
         "xaxis": "x",
         "y": [
          1.7937219730941705,
          7.174887892376682,
          13.004484304932735,
          16.143497757847534,
          23.54260089686099,
          17.713004484304935,
          12.556053811659194,
          3.587443946188341,
          1.345291479820628,
          0.4484304932735426,
          1.345291479820628,
          0.672645739910314,
          0.672645739910314
         ],
         "yaxis": "y"
        },
        {
         "hovertemplate": "=de 2 a 3 anos<br>Faixas salariais =%{x}<br>Proporção=%{y}<extra></extra>",
         "legendgroup": "de 2 a 3 anos",
         "line": {
          "color": "#FB0D0D",
          "dash": "solid"
         },
         "marker": {
          "symbol": "circle"
         },
         "mode": "lines+markers",
         "name": "de 2 a 3 anos",
         "orientation": "v",
         "showlegend": true,
         "type": "scatter",
         "x": [
          "até R$1k",
          "R$1k-2k",
          "R$2k-3k",
          "R$3k-4k",
          "R$4k-6k",
          "R$6k-8k",
          "R$8k-12k",
          "R$12k-16k",
          "R$16k-20k",
          "R$20k-25k",
          "R$25k-30k",
          "R$30k-40k",
          "R$40k+"
         ],
         "xaxis": "x",
         "y": [
          0.6160164271047228,
          1.642710472279261,
          3.696098562628337,
          4.312114989733059,
          21.149897330595483,
          25.667351129363446,
          26.899383983572893,
          9.034907597535934,
          3.696098562628337,
          1.642710472279261,
          1.0266940451745379,
          0.41067761806981523,
          0.20533880903490762
         ],
         "yaxis": "y"
        },
        {
         "hovertemplate": "=de 4 a 5 anos<br>Faixas salariais =%{x}<br>Proporção=%{y}<extra></extra>",
         "legendgroup": "de 4 a 5 anos",
         "line": {
          "color": "#DA16FF",
          "dash": "solid"
         },
         "marker": {
          "symbol": "circle"
         },
         "mode": "lines+markers",
         "name": "de 4 a 5 anos",
         "orientation": "v",
         "showlegend": true,
         "type": "scatter",
         "x": [
          "até R$1k",
          "R$1k-2k",
          "R$2k-3k",
          "R$3k-4k",
          "R$4k-6k",
          "R$6k-8k",
          "R$8k-12k",
          "R$12k-16k",
          "R$16k-20k",
          "R$20k-25k",
          "R$25k-30k",
          "R$30k-40k",
          "R$40k+"
         ],
         "xaxis": "x",
         "y": [
          0.5141388174807198,
          0.7712082262210797,
          1.5424164524421593,
          1.5424164524421593,
          10.796915167095115,
          17.223650385604113,
          32.13367609254499,
          17.480719794344473,
          9.254498714652955,
          4.113110539845758,
          1.7994858611825193,
          1.2853470437017995,
          1.5424164524421593
         ],
         "yaxis": "y"
        },
        {
         "hovertemplate": "=de 6 a 10 anos<br>Faixas salariais =%{x}<br>Proporção=%{y}<extra></extra>",
         "legendgroup": "de 6 a 10 anos",
         "line": {
          "color": "#222A2A",
          "dash": "solid"
         },
         "marker": {
          "symbol": "circle"
         },
         "mode": "lines+markers",
         "name": "de 6 a 10 anos",
         "orientation": "v",
         "showlegend": true,
         "type": "scatter",
         "x": [
          "até R$1k",
          "R$1k-2k",
          "R$2k-3k",
          "R$3k-4k",
          "R$4k-6k",
          "R$6k-8k",
          "R$8k-12k",
          "R$12k-16k",
          "R$16k-20k",
          "R$20k-25k",
          "R$25k-30k",
          "R$30k-40k",
          "R$40k+"
         ],
         "xaxis": "x",
         "y": [
          0,
          0.7246376811594203,
          1.8115942028985508,
          4.3478260869565215,
          6.884057971014493,
          13.768115942028986,
          25.724637681159418,
          19.92753623188406,
          8.333333333333332,
          6.159420289855073,
          3.985507246376811,
          3.6231884057971016,
          4.710144927536232
         ],
         "yaxis": "y"
        },
        {
         "hovertemplate": "=Mais de 10 anos<br>Faixas salariais =%{x}<br>Proporção=%{y}<extra></extra>",
         "legendgroup": "Mais de 10 anos",
         "line": {
          "color": "#B68100",
          "dash": "solid"
         },
         "marker": {
          "symbol": "circle"
         },
         "mode": "lines+markers",
         "name": "Mais de 10 anos",
         "orientation": "v",
         "showlegend": true,
         "type": "scatter",
         "x": [
          "até R$1k",
          "R$1k-2k",
          "R$2k-3k",
          "R$3k-4k",
          "R$4k-6k",
          "R$6k-8k",
          "R$8k-12k",
          "R$12k-16k",
          "R$16k-20k",
          "R$20k-25k",
          "R$25k-30k",
          "R$30k-40k",
          "R$40k+"
         ],
         "xaxis": "x",
         "y": [
          1.1494252873563218,
          0.38314176245210724,
          0.7662835249042145,
          0.7662835249042145,
          5.363984674329502,
          9.578544061302683,
          19.923371647509576,
          25.67049808429119,
          14.559386973180077,
          7.2796934865900385,
          4.21455938697318,
          6.513409961685824,
          3.8314176245210727
         ],
         "yaxis": "y"
        }
       ],
       "layout": {
        "legend": {
         "title": {
          "text": ""
         },
         "tracegroupgap": 0
        },
        "template": {
         "data": {
          "bar": [
           {
            "error_x": {
             "color": "#2a3f5f"
            },
            "error_y": {
             "color": "#2a3f5f"
            },
            "marker": {
             "line": {
              "color": "#E5ECF6",
              "width": 0.5
             },
             "pattern": {
              "fillmode": "overlay",
              "size": 10,
              "solidity": 0.2
             }
            },
            "type": "bar"
           }
          ],
          "barpolar": [
           {
            "marker": {
             "line": {
              "color": "#E5ECF6",
              "width": 0.5
             },
             "pattern": {
              "fillmode": "overlay",
              "size": 10,
              "solidity": 0.2
             }
            },
            "type": "barpolar"
           }
          ],
          "carpet": [
           {
            "aaxis": {
             "endlinecolor": "#2a3f5f",
             "gridcolor": "white",
             "linecolor": "white",
             "minorgridcolor": "white",
             "startlinecolor": "#2a3f5f"
            },
            "baxis": {
             "endlinecolor": "#2a3f5f",
             "gridcolor": "white",
             "linecolor": "white",
             "minorgridcolor": "white",
             "startlinecolor": "#2a3f5f"
            },
            "type": "carpet"
           }
          ],
          "choropleth": [
           {
            "colorbar": {
             "outlinewidth": 0,
             "ticks": ""
            },
            "type": "choropleth"
           }
          ],
          "contour": [
           {
            "colorbar": {
             "outlinewidth": 0,
             "ticks": ""
            },
            "colorscale": [
             [
              0,
              "#0d0887"
             ],
             [
              0.1111111111111111,
              "#46039f"
             ],
             [
              0.2222222222222222,
              "#7201a8"
             ],
             [
              0.3333333333333333,
              "#9c179e"
             ],
             [
              0.4444444444444444,
              "#bd3786"
             ],
             [
              0.5555555555555556,
              "#d8576b"
             ],
             [
              0.6666666666666666,
              "#ed7953"
             ],
             [
              0.7777777777777778,
              "#fb9f3a"
             ],
             [
              0.8888888888888888,
              "#fdca26"
             ],
             [
              1,
              "#f0f921"
             ]
            ],
            "type": "contour"
           }
          ],
          "contourcarpet": [
           {
            "colorbar": {
             "outlinewidth": 0,
             "ticks": ""
            },
            "type": "contourcarpet"
           }
          ],
          "heatmap": [
           {
            "colorbar": {
             "outlinewidth": 0,
             "ticks": ""
            },
            "colorscale": [
             [
              0,
              "#0d0887"
             ],
             [
              0.1111111111111111,
              "#46039f"
             ],
             [
              0.2222222222222222,
              "#7201a8"
             ],
             [
              0.3333333333333333,
              "#9c179e"
             ],
             [
              0.4444444444444444,
              "#bd3786"
             ],
             [
              0.5555555555555556,
              "#d8576b"
             ],
             [
              0.6666666666666666,
              "#ed7953"
             ],
             [
              0.7777777777777778,
              "#fb9f3a"
             ],
             [
              0.8888888888888888,
              "#fdca26"
             ],
             [
              1,
              "#f0f921"
             ]
            ],
            "type": "heatmap"
           }
          ],
          "heatmapgl": [
           {
            "colorbar": {
             "outlinewidth": 0,
             "ticks": ""
            },
            "colorscale": [
             [
              0,
              "#0d0887"
             ],
             [
              0.1111111111111111,
              "#46039f"
             ],
             [
              0.2222222222222222,
              "#7201a8"
             ],
             [
              0.3333333333333333,
              "#9c179e"
             ],
             [
              0.4444444444444444,
              "#bd3786"
             ],
             [
              0.5555555555555556,
              "#d8576b"
             ],
             [
              0.6666666666666666,
              "#ed7953"
             ],
             [
              0.7777777777777778,
              "#fb9f3a"
             ],
             [
              0.8888888888888888,
              "#fdca26"
             ],
             [
              1,
              "#f0f921"
             ]
            ],
            "type": "heatmapgl"
           }
          ],
          "histogram": [
           {
            "marker": {
             "pattern": {
              "fillmode": "overlay",
              "size": 10,
              "solidity": 0.2
             }
            },
            "type": "histogram"
           }
          ],
          "histogram2d": [
           {
            "colorbar": {
             "outlinewidth": 0,
             "ticks": ""
            },
            "colorscale": [
             [
              0,
              "#0d0887"
             ],
             [
              0.1111111111111111,
              "#46039f"
             ],
             [
              0.2222222222222222,
              "#7201a8"
             ],
             [
              0.3333333333333333,
              "#9c179e"
             ],
             [
              0.4444444444444444,
              "#bd3786"
             ],
             [
              0.5555555555555556,
              "#d8576b"
             ],
             [
              0.6666666666666666,
              "#ed7953"
             ],
             [
              0.7777777777777778,
              "#fb9f3a"
             ],
             [
              0.8888888888888888,
              "#fdca26"
             ],
             [
              1,
              "#f0f921"
             ]
            ],
            "type": "histogram2d"
           }
          ],
          "histogram2dcontour": [
           {
            "colorbar": {
             "outlinewidth": 0,
             "ticks": ""
            },
            "colorscale": [
             [
              0,
              "#0d0887"
             ],
             [
              0.1111111111111111,
              "#46039f"
             ],
             [
              0.2222222222222222,
              "#7201a8"
             ],
             [
              0.3333333333333333,
              "#9c179e"
             ],
             [
              0.4444444444444444,
              "#bd3786"
             ],
             [
              0.5555555555555556,
              "#d8576b"
             ],
             [
              0.6666666666666666,
              "#ed7953"
             ],
             [
              0.7777777777777778,
              "#fb9f3a"
             ],
             [
              0.8888888888888888,
              "#fdca26"
             ],
             [
              1,
              "#f0f921"
             ]
            ],
            "type": "histogram2dcontour"
           }
          ],
          "mesh3d": [
           {
            "colorbar": {
             "outlinewidth": 0,
             "ticks": ""
            },
            "type": "mesh3d"
           }
          ],
          "parcoords": [
           {
            "line": {
             "colorbar": {
              "outlinewidth": 0,
              "ticks": ""
             }
            },
            "type": "parcoords"
           }
          ],
          "pie": [
           {
            "automargin": true,
            "type": "pie"
           }
          ],
          "scatter": [
           {
            "fillpattern": {
             "fillmode": "overlay",
             "size": 10,
             "solidity": 0.2
            },
            "type": "scatter"
           }
          ],
          "scatter3d": [
           {
            "line": {
             "colorbar": {
              "outlinewidth": 0,
              "ticks": ""
             }
            },
            "marker": {
             "colorbar": {
              "outlinewidth": 0,
              "ticks": ""
             }
            },
            "type": "scatter3d"
           }
          ],
          "scattercarpet": [
           {
            "marker": {
             "colorbar": {
              "outlinewidth": 0,
              "ticks": ""
             }
            },
            "type": "scattercarpet"
           }
          ],
          "scattergeo": [
           {
            "marker": {
             "colorbar": {
              "outlinewidth": 0,
              "ticks": ""
             }
            },
            "type": "scattergeo"
           }
          ],
          "scattergl": [
           {
            "marker": {
             "colorbar": {
              "outlinewidth": 0,
              "ticks": ""
             }
            },
            "type": "scattergl"
           }
          ],
          "scattermapbox": [
           {
            "marker": {
             "colorbar": {
              "outlinewidth": 0,
              "ticks": ""
             }
            },
            "type": "scattermapbox"
           }
          ],
          "scatterpolar": [
           {
            "marker": {
             "colorbar": {
              "outlinewidth": 0,
              "ticks": ""
             }
            },
            "type": "scatterpolar"
           }
          ],
          "scatterpolargl": [
           {
            "marker": {
             "colorbar": {
              "outlinewidth": 0,
              "ticks": ""
             }
            },
            "type": "scatterpolargl"
           }
          ],
          "scatterternary": [
           {
            "marker": {
             "colorbar": {
              "outlinewidth": 0,
              "ticks": ""
             }
            },
            "type": "scatterternary"
           }
          ],
          "surface": [
           {
            "colorbar": {
             "outlinewidth": 0,
             "ticks": ""
            },
            "colorscale": [
             [
              0,
              "#0d0887"
             ],
             [
              0.1111111111111111,
              "#46039f"
             ],
             [
              0.2222222222222222,
              "#7201a8"
             ],
             [
              0.3333333333333333,
              "#9c179e"
             ],
             [
              0.4444444444444444,
              "#bd3786"
             ],
             [
              0.5555555555555556,
              "#d8576b"
             ],
             [
              0.6666666666666666,
              "#ed7953"
             ],
             [
              0.7777777777777778,
              "#fb9f3a"
             ],
             [
              0.8888888888888888,
              "#fdca26"
             ],
             [
              1,
              "#f0f921"
             ]
            ],
            "type": "surface"
           }
          ],
          "table": [
           {
            "cells": {
             "fill": {
              "color": "#EBF0F8"
             },
             "line": {
              "color": "white"
             }
            },
            "header": {
             "fill": {
              "color": "#C8D4E3"
             },
             "line": {
              "color": "white"
             }
            },
            "type": "table"
           }
          ]
         },
         "layout": {
          "annotationdefaults": {
           "arrowcolor": "#2a3f5f",
           "arrowhead": 0,
           "arrowwidth": 1
          },
          "autotypenumbers": "strict",
          "coloraxis": {
           "colorbar": {
            "outlinewidth": 0,
            "ticks": ""
           }
          },
          "colorscale": {
           "diverging": [
            [
             0,
             "#8e0152"
            ],
            [
             0.1,
             "#c51b7d"
            ],
            [
             0.2,
             "#de77ae"
            ],
            [
             0.3,
             "#f1b6da"
            ],
            [
             0.4,
             "#fde0ef"
            ],
            [
             0.5,
             "#f7f7f7"
            ],
            [
             0.6,
             "#e6f5d0"
            ],
            [
             0.7,
             "#b8e186"
            ],
            [
             0.8,
             "#7fbc41"
            ],
            [
             0.9,
             "#4d9221"
            ],
            [
             1,
             "#276419"
            ]
           ],
           "sequential": [
            [
             0,
             "#0d0887"
            ],
            [
             0.1111111111111111,
             "#46039f"
            ],
            [
             0.2222222222222222,
             "#7201a8"
            ],
            [
             0.3333333333333333,
             "#9c179e"
            ],
            [
             0.4444444444444444,
             "#bd3786"
            ],
            [
             0.5555555555555556,
             "#d8576b"
            ],
            [
             0.6666666666666666,
             "#ed7953"
            ],
            [
             0.7777777777777778,
             "#fb9f3a"
            ],
            [
             0.8888888888888888,
             "#fdca26"
            ],
            [
             1,
             "#f0f921"
            ]
           ],
           "sequentialminus": [
            [
             0,
             "#0d0887"
            ],
            [
             0.1111111111111111,
             "#46039f"
            ],
            [
             0.2222222222222222,
             "#7201a8"
            ],
            [
             0.3333333333333333,
             "#9c179e"
            ],
            [
             0.4444444444444444,
             "#bd3786"
            ],
            [
             0.5555555555555556,
             "#d8576b"
            ],
            [
             0.6666666666666666,
             "#ed7953"
            ],
            [
             0.7777777777777778,
             "#fb9f3a"
            ],
            [
             0.8888888888888888,
             "#fdca26"
            ],
            [
             1,
             "#f0f921"
            ]
           ]
          },
          "colorway": [
           "#636efa",
           "#EF553B",
           "#00cc96",
           "#ab63fa",
           "#FFA15A",
           "#19d3f3",
           "#FF6692",
           "#B6E880",
           "#FF97FF",
           "#FECB52"
          ],
          "font": {
           "color": "#2a3f5f"
          },
          "geo": {
           "bgcolor": "white",
           "lakecolor": "white",
           "landcolor": "#E5ECF6",
           "showlakes": true,
           "showland": true,
           "subunitcolor": "white"
          },
          "hoverlabel": {
           "align": "left"
          },
          "hovermode": "closest",
          "mapbox": {
           "style": "light"
          },
          "paper_bgcolor": "white",
          "plot_bgcolor": "#E5ECF6",
          "polar": {
           "angularaxis": {
            "gridcolor": "white",
            "linecolor": "white",
            "ticks": ""
           },
           "bgcolor": "#E5ECF6",
           "radialaxis": {
            "gridcolor": "white",
            "linecolor": "white",
            "ticks": ""
           }
          },
          "scene": {
           "xaxis": {
            "backgroundcolor": "#E5ECF6",
            "gridcolor": "white",
            "gridwidth": 2,
            "linecolor": "white",
            "showbackground": true,
            "ticks": "",
            "zerolinecolor": "white"
           },
           "yaxis": {
            "backgroundcolor": "#E5ECF6",
            "gridcolor": "white",
            "gridwidth": 2,
            "linecolor": "white",
            "showbackground": true,
            "ticks": "",
            "zerolinecolor": "white"
           },
           "zaxis": {
            "backgroundcolor": "#E5ECF6",
            "gridcolor": "white",
            "gridwidth": 2,
            "linecolor": "white",
            "showbackground": true,
            "ticks": "",
            "zerolinecolor": "white"
           }
          },
          "shapedefaults": {
           "line": {
            "color": "#2a3f5f"
           }
          },
          "ternary": {
           "aaxis": {
            "gridcolor": "white",
            "linecolor": "white",
            "ticks": ""
           },
           "baxis": {
            "gridcolor": "white",
            "linecolor": "white",
            "ticks": ""
           },
           "bgcolor": "#E5ECF6",
           "caxis": {
            "gridcolor": "white",
            "linecolor": "white",
            "ticks": ""
           }
          },
          "title": {
           "x": 0.05
          },
          "xaxis": {
           "automargin": true,
           "gridcolor": "white",
           "linecolor": "white",
           "ticks": "",
           "title": {
            "standoff": 15
           },
           "zerolinecolor": "white",
           "zerolinewidth": 2
          },
          "yaxis": {
           "automargin": true,
           "gridcolor": "white",
           "linecolor": "white",
           "ticks": "",
           "title": {
            "standoff": 15
           },
           "zerolinecolor": "white",
           "zerolinewidth": 2
          }
         }
        },
        "title": {
         "text": "Proporções de faixas-salariais por tempo de experiência em Dados"
        },
        "xaxis": {
         "anchor": "y",
         "domain": [
          0,
          1
         ],
         "title": {
          "text": "Faixas salariais "
         }
        },
        "yaxis": {
         "anchor": "x",
         "domain": [
          0,
          1
         ],
         "title": {
          "text": "Proporção"
         }
        }
       }
      }
     },
     "metadata": {},
     "output_type": "display_data"
    }
   ],
   "source": [
    "experiencia_prop = pd.crosstab(df[\"('P2_h ', 'Faixa salarial')\"],df[\"('P2_i ', 'Quanto tempo de experiência na área de dados você tem?')\"],normalize='columns')*100\n",
    "experiencia_prop\n",
    "\n",
    "fig = px.line(experiencia_prop, x=experiencia_prop.index, y=experiencia_prop.columns, markers=True, title=\"Proporções de faixas-salariais por tempo de experiência em Dados\",\n",
    " labels={\n",
    "                     \"value\": \"Proporção\",\n",
    "                     \"('P2_h ', 'Faixa salarial')\": \"Faixas salariais \",\n",
    "                     \"('P2_i ', 'Quanto tempo de experiência na área de dados você tem?')\": \"\"\n",
    "                 }, color_discrete_sequence=px.colors.qualitative.Dark24)\n",
    "                \n",
    "\n",
    "fig.show()"
   ]
  },
  {
   "cell_type": "code",
   "execution_count": null,
   "metadata": {},
   "outputs": [
    {
     "data": {
      "text/plain": [
       "array(['Híbrido presenciais fixos', 'Remoto', 'Híbrido flexível',\n",
       "       'Presencial', 'ignore'], dtype=object)"
      ]
     },
     "execution_count": 102,
     "metadata": {},
     "output_type": "execute_result"
    }
   ],
   "source": [
    "df[\"('P2_r ', 'Qual a forma de trabalho ideal para você?')\"].replace({np.nan:\"ignore\"},inplace=True)\n",
    "df[\"('P2_r ', 'Qual a forma de trabalho ideal para você?')\"].unique()"
   ]
  },
  {
   "cell_type": "code",
   "execution_count": null,
   "metadata": {},
   "outputs": [
    {
     "data": {
      "application/vnd.plotly.v1+json": {
       "config": {
        "plotlyServerURL": "https://plot.ly"
       },
       "data": [
        {
         "branchvalues": "total",
         "domain": {
          "x": [
           0,
           1
          ],
          "y": [
           0,
           1
          ]
         },
         "hovertemplate": "labels=%{label}<br>count=%{value}<br>parent=%{parent}<br>id=%{id}<extra></extra>",
         "ids": [
          "Híbrido flexível/Híbrido flexível",
          "Híbrido presenciais fixos/Híbrido flexível",
          "Presencial/Híbrido flexível",
          "Remoto/Híbrido flexível",
          "Híbrido flexível/Híbrido presenciais fixos",
          "Híbrido presenciais fixos/Híbrido presenciais fixos",
          "Presencial/Híbrido presenciais fixos",
          "Remoto/Híbrido presenciais fixos",
          "Híbrido flexível/Presencial",
          "Híbrido presenciais fixos/Presencial",
          "Presencial/Presencial",
          "Remoto/Presencial",
          "Híbrido flexível/Remoto",
          "Híbrido presenciais fixos/Remoto",
          "Presencial/Remoto",
          "Remoto/Remoto",
          "Híbrido flexível",
          "Híbrido presenciais fixos",
          "Presencial",
          "Remoto"
         ],
         "labels": [
          "Híbrido flexível",
          "Híbrido flexível",
          "Híbrido flexível",
          "Híbrido flexível",
          "Híbrido presenciais fixos",
          "Híbrido presenciais fixos",
          "Híbrido presenciais fixos",
          "Híbrido presenciais fixos",
          "Presencial",
          "Presencial",
          "Presencial",
          "Presencial",
          "Remoto",
          "Remoto",
          "Remoto",
          "Remoto",
          "Híbrido flexível",
          "Híbrido presenciais fixos",
          "Presencial",
          "Remoto"
         ],
         "name": "",
         "parents": [
          "Híbrido flexível",
          "Híbrido presenciais fixos",
          "Presencial",
          "Remoto",
          "Híbrido flexível",
          "Híbrido presenciais fixos",
          "Presencial",
          "Remoto",
          "Híbrido flexível",
          "Híbrido presenciais fixos",
          "Presencial",
          "Remoto",
          "Híbrido flexível",
          "Híbrido presenciais fixos",
          "Presencial",
          "Remoto",
          "",
          "",
          "",
          ""
         ],
         "textinfo": "percent entry+label",
         "type": "sunburst",
         "values": [
          397,
          129,
          184,
          678,
          17,
          61,
          83,
          53,
          1,
          3,
          18,
          5,
          46,
          48,
          43,
          599,
          461,
          241,
          328,
          1335
         ]
        }
       ],
       "layout": {
        "legend": {
         "tracegroupgap": 0
        },
        "margin": {
         "t": 60
        },
        "template": {
         "data": {
          "bar": [
           {
            "error_x": {
             "color": "#2a3f5f"
            },
            "error_y": {
             "color": "#2a3f5f"
            },
            "marker": {
             "line": {
              "color": "#E5ECF6",
              "width": 0.5
             },
             "pattern": {
              "fillmode": "overlay",
              "size": 10,
              "solidity": 0.2
             }
            },
            "type": "bar"
           }
          ],
          "barpolar": [
           {
            "marker": {
             "line": {
              "color": "#E5ECF6",
              "width": 0.5
             },
             "pattern": {
              "fillmode": "overlay",
              "size": 10,
              "solidity": 0.2
             }
            },
            "type": "barpolar"
           }
          ],
          "carpet": [
           {
            "aaxis": {
             "endlinecolor": "#2a3f5f",
             "gridcolor": "white",
             "linecolor": "white",
             "minorgridcolor": "white",
             "startlinecolor": "#2a3f5f"
            },
            "baxis": {
             "endlinecolor": "#2a3f5f",
             "gridcolor": "white",
             "linecolor": "white",
             "minorgridcolor": "white",
             "startlinecolor": "#2a3f5f"
            },
            "type": "carpet"
           }
          ],
          "choropleth": [
           {
            "colorbar": {
             "outlinewidth": 0,
             "ticks": ""
            },
            "type": "choropleth"
           }
          ],
          "contour": [
           {
            "colorbar": {
             "outlinewidth": 0,
             "ticks": ""
            },
            "colorscale": [
             [
              0,
              "#0d0887"
             ],
             [
              0.1111111111111111,
              "#46039f"
             ],
             [
              0.2222222222222222,
              "#7201a8"
             ],
             [
              0.3333333333333333,
              "#9c179e"
             ],
             [
              0.4444444444444444,
              "#bd3786"
             ],
             [
              0.5555555555555556,
              "#d8576b"
             ],
             [
              0.6666666666666666,
              "#ed7953"
             ],
             [
              0.7777777777777778,
              "#fb9f3a"
             ],
             [
              0.8888888888888888,
              "#fdca26"
             ],
             [
              1,
              "#f0f921"
             ]
            ],
            "type": "contour"
           }
          ],
          "contourcarpet": [
           {
            "colorbar": {
             "outlinewidth": 0,
             "ticks": ""
            },
            "type": "contourcarpet"
           }
          ],
          "heatmap": [
           {
            "colorbar": {
             "outlinewidth": 0,
             "ticks": ""
            },
            "colorscale": [
             [
              0,
              "#0d0887"
             ],
             [
              0.1111111111111111,
              "#46039f"
             ],
             [
              0.2222222222222222,
              "#7201a8"
             ],
             [
              0.3333333333333333,
              "#9c179e"
             ],
             [
              0.4444444444444444,
              "#bd3786"
             ],
             [
              0.5555555555555556,
              "#d8576b"
             ],
             [
              0.6666666666666666,
              "#ed7953"
             ],
             [
              0.7777777777777778,
              "#fb9f3a"
             ],
             [
              0.8888888888888888,
              "#fdca26"
             ],
             [
              1,
              "#f0f921"
             ]
            ],
            "type": "heatmap"
           }
          ],
          "heatmapgl": [
           {
            "colorbar": {
             "outlinewidth": 0,
             "ticks": ""
            },
            "colorscale": [
             [
              0,
              "#0d0887"
             ],
             [
              0.1111111111111111,
              "#46039f"
             ],
             [
              0.2222222222222222,
              "#7201a8"
             ],
             [
              0.3333333333333333,
              "#9c179e"
             ],
             [
              0.4444444444444444,
              "#bd3786"
             ],
             [
              0.5555555555555556,
              "#d8576b"
             ],
             [
              0.6666666666666666,
              "#ed7953"
             ],
             [
              0.7777777777777778,
              "#fb9f3a"
             ],
             [
              0.8888888888888888,
              "#fdca26"
             ],
             [
              1,
              "#f0f921"
             ]
            ],
            "type": "heatmapgl"
           }
          ],
          "histogram": [
           {
            "marker": {
             "pattern": {
              "fillmode": "overlay",
              "size": 10,
              "solidity": 0.2
             }
            },
            "type": "histogram"
           }
          ],
          "histogram2d": [
           {
            "colorbar": {
             "outlinewidth": 0,
             "ticks": ""
            },
            "colorscale": [
             [
              0,
              "#0d0887"
             ],
             [
              0.1111111111111111,
              "#46039f"
             ],
             [
              0.2222222222222222,
              "#7201a8"
             ],
             [
              0.3333333333333333,
              "#9c179e"
             ],
             [
              0.4444444444444444,
              "#bd3786"
             ],
             [
              0.5555555555555556,
              "#d8576b"
             ],
             [
              0.6666666666666666,
              "#ed7953"
             ],
             [
              0.7777777777777778,
              "#fb9f3a"
             ],
             [
              0.8888888888888888,
              "#fdca26"
             ],
             [
              1,
              "#f0f921"
             ]
            ],
            "type": "histogram2d"
           }
          ],
          "histogram2dcontour": [
           {
            "colorbar": {
             "outlinewidth": 0,
             "ticks": ""
            },
            "colorscale": [
             [
              0,
              "#0d0887"
             ],
             [
              0.1111111111111111,
              "#46039f"
             ],
             [
              0.2222222222222222,
              "#7201a8"
             ],
             [
              0.3333333333333333,
              "#9c179e"
             ],
             [
              0.4444444444444444,
              "#bd3786"
             ],
             [
              0.5555555555555556,
              "#d8576b"
             ],
             [
              0.6666666666666666,
              "#ed7953"
             ],
             [
              0.7777777777777778,
              "#fb9f3a"
             ],
             [
              0.8888888888888888,
              "#fdca26"
             ],
             [
              1,
              "#f0f921"
             ]
            ],
            "type": "histogram2dcontour"
           }
          ],
          "mesh3d": [
           {
            "colorbar": {
             "outlinewidth": 0,
             "ticks": ""
            },
            "type": "mesh3d"
           }
          ],
          "parcoords": [
           {
            "line": {
             "colorbar": {
              "outlinewidth": 0,
              "ticks": ""
             }
            },
            "type": "parcoords"
           }
          ],
          "pie": [
           {
            "automargin": true,
            "type": "pie"
           }
          ],
          "scatter": [
           {
            "fillpattern": {
             "fillmode": "overlay",
             "size": 10,
             "solidity": 0.2
            },
            "type": "scatter"
           }
          ],
          "scatter3d": [
           {
            "line": {
             "colorbar": {
              "outlinewidth": 0,
              "ticks": ""
             }
            },
            "marker": {
             "colorbar": {
              "outlinewidth": 0,
              "ticks": ""
             }
            },
            "type": "scatter3d"
           }
          ],
          "scattercarpet": [
           {
            "marker": {
             "colorbar": {
              "outlinewidth": 0,
              "ticks": ""
             }
            },
            "type": "scattercarpet"
           }
          ],
          "scattergeo": [
           {
            "marker": {
             "colorbar": {
              "outlinewidth": 0,
              "ticks": ""
             }
            },
            "type": "scattergeo"
           }
          ],
          "scattergl": [
           {
            "marker": {
             "colorbar": {
              "outlinewidth": 0,
              "ticks": ""
             }
            },
            "type": "scattergl"
           }
          ],
          "scattermapbox": [
           {
            "marker": {
             "colorbar": {
              "outlinewidth": 0,
              "ticks": ""
             }
            },
            "type": "scattermapbox"
           }
          ],
          "scatterpolar": [
           {
            "marker": {
             "colorbar": {
              "outlinewidth": 0,
              "ticks": ""
             }
            },
            "type": "scatterpolar"
           }
          ],
          "scatterpolargl": [
           {
            "marker": {
             "colorbar": {
              "outlinewidth": 0,
              "ticks": ""
             }
            },
            "type": "scatterpolargl"
           }
          ],
          "scatterternary": [
           {
            "marker": {
             "colorbar": {
              "outlinewidth": 0,
              "ticks": ""
             }
            },
            "type": "scatterternary"
           }
          ],
          "surface": [
           {
            "colorbar": {
             "outlinewidth": 0,
             "ticks": ""
            },
            "colorscale": [
             [
              0,
              "#0d0887"
             ],
             [
              0.1111111111111111,
              "#46039f"
             ],
             [
              0.2222222222222222,
              "#7201a8"
             ],
             [
              0.3333333333333333,
              "#9c179e"
             ],
             [
              0.4444444444444444,
              "#bd3786"
             ],
             [
              0.5555555555555556,
              "#d8576b"
             ],
             [
              0.6666666666666666,
              "#ed7953"
             ],
             [
              0.7777777777777778,
              "#fb9f3a"
             ],
             [
              0.8888888888888888,
              "#fdca26"
             ],
             [
              1,
              "#f0f921"
             ]
            ],
            "type": "surface"
           }
          ],
          "table": [
           {
            "cells": {
             "fill": {
              "color": "#EBF0F8"
             },
             "line": {
              "color": "white"
             }
            },
            "header": {
             "fill": {
              "color": "#C8D4E3"
             },
             "line": {
              "color": "white"
             }
            },
            "type": "table"
           }
          ]
         },
         "layout": {
          "annotationdefaults": {
           "arrowcolor": "#2a3f5f",
           "arrowhead": 0,
           "arrowwidth": 1
          },
          "autotypenumbers": "strict",
          "coloraxis": {
           "colorbar": {
            "outlinewidth": 0,
            "ticks": ""
           }
          },
          "colorscale": {
           "diverging": [
            [
             0,
             "#8e0152"
            ],
            [
             0.1,
             "#c51b7d"
            ],
            [
             0.2,
             "#de77ae"
            ],
            [
             0.3,
             "#f1b6da"
            ],
            [
             0.4,
             "#fde0ef"
            ],
            [
             0.5,
             "#f7f7f7"
            ],
            [
             0.6,
             "#e6f5d0"
            ],
            [
             0.7,
             "#b8e186"
            ],
            [
             0.8,
             "#7fbc41"
            ],
            [
             0.9,
             "#4d9221"
            ],
            [
             1,
             "#276419"
            ]
           ],
           "sequential": [
            [
             0,
             "#0d0887"
            ],
            [
             0.1111111111111111,
             "#46039f"
            ],
            [
             0.2222222222222222,
             "#7201a8"
            ],
            [
             0.3333333333333333,
             "#9c179e"
            ],
            [
             0.4444444444444444,
             "#bd3786"
            ],
            [
             0.5555555555555556,
             "#d8576b"
            ],
            [
             0.6666666666666666,
             "#ed7953"
            ],
            [
             0.7777777777777778,
             "#fb9f3a"
            ],
            [
             0.8888888888888888,
             "#fdca26"
            ],
            [
             1,
             "#f0f921"
            ]
           ],
           "sequentialminus": [
            [
             0,
             "#0d0887"
            ],
            [
             0.1111111111111111,
             "#46039f"
            ],
            [
             0.2222222222222222,
             "#7201a8"
            ],
            [
             0.3333333333333333,
             "#9c179e"
            ],
            [
             0.4444444444444444,
             "#bd3786"
            ],
            [
             0.5555555555555556,
             "#d8576b"
            ],
            [
             0.6666666666666666,
             "#ed7953"
            ],
            [
             0.7777777777777778,
             "#fb9f3a"
            ],
            [
             0.8888888888888888,
             "#fdca26"
            ],
            [
             1,
             "#f0f921"
            ]
           ]
          },
          "colorway": [
           "#636efa",
           "#EF553B",
           "#00cc96",
           "#ab63fa",
           "#FFA15A",
           "#19d3f3",
           "#FF6692",
           "#B6E880",
           "#FF97FF",
           "#FECB52"
          ],
          "font": {
           "color": "#2a3f5f"
          },
          "geo": {
           "bgcolor": "white",
           "lakecolor": "white",
           "landcolor": "#E5ECF6",
           "showlakes": true,
           "showland": true,
           "subunitcolor": "white"
          },
          "hoverlabel": {
           "align": "left"
          },
          "hovermode": "closest",
          "mapbox": {
           "style": "light"
          },
          "paper_bgcolor": "white",
          "plot_bgcolor": "#E5ECF6",
          "polar": {
           "angularaxis": {
            "gridcolor": "white",
            "linecolor": "white",
            "ticks": ""
           },
           "bgcolor": "#E5ECF6",
           "radialaxis": {
            "gridcolor": "white",
            "linecolor": "white",
            "ticks": ""
           }
          },
          "scene": {
           "xaxis": {
            "backgroundcolor": "#E5ECF6",
            "gridcolor": "white",
            "gridwidth": 2,
            "linecolor": "white",
            "showbackground": true,
            "ticks": "",
            "zerolinecolor": "white"
           },
           "yaxis": {
            "backgroundcolor": "#E5ECF6",
            "gridcolor": "white",
            "gridwidth": 2,
            "linecolor": "white",
            "showbackground": true,
            "ticks": "",
            "zerolinecolor": "white"
           },
           "zaxis": {
            "backgroundcolor": "#E5ECF6",
            "gridcolor": "white",
            "gridwidth": 2,
            "linecolor": "white",
            "showbackground": true,
            "ticks": "",
            "zerolinecolor": "white"
           }
          },
          "shapedefaults": {
           "line": {
            "color": "#2a3f5f"
           }
          },
          "ternary": {
           "aaxis": {
            "gridcolor": "white",
            "linecolor": "white",
            "ticks": ""
           },
           "baxis": {
            "gridcolor": "white",
            "linecolor": "white",
            "ticks": ""
           },
           "bgcolor": "#E5ECF6",
           "caxis": {
            "gridcolor": "white",
            "linecolor": "white",
            "ticks": ""
           }
          },
          "title": {
           "x": 0.05
          },
          "xaxis": {
           "automargin": true,
           "gridcolor": "white",
           "linecolor": "white",
           "ticks": "",
           "title": {
            "standoff": 15
           },
           "zerolinecolor": "white",
           "zerolinewidth": 2
          },
          "yaxis": {
           "automargin": true,
           "gridcolor": "white",
           "linecolor": "white",
           "ticks": "",
           "title": {
            "standoff": 15
           },
           "zerolinecolor": "white",
           "zerolinewidth": 2
          }
         }
        }
       }
      }
     },
     "metadata": {},
     "output_type": "display_data"
    }
   ],
   "source": [
    "\n",
    "fig = px.sunburst(df[df[\"('P2_r ', 'Qual a forma de trabalho ideal para você?')\"]!=\"ignore\"], path=[\"('P2_q ', 'Atualmente qual a sua forma de trabalho?')\", \"('P2_r ', 'Qual a forma de trabalho ideal para você?')\"])\n",
    "fig.update_traces(textinfo=\"percent entry+label\")\n",
    "fig.show()"
   ]
  },
  {
   "cell_type": "code",
   "execution_count": 9,
   "metadata": {},
   "outputs": [
    {
     "data": {
      "text/plain": [
       "SQL, Python                                    510\n",
       "Python, SQL                                    166\n",
       "SQL                                            158\n",
       "Não utilizo nenhuma das linguagens listadas    155\n",
       "Python                                          96\n",
       "                                              ... \n",
       "Python, SQL, Julia                               1\n",
       "SQL, R, Python, SAS/Stata, Matlab                1\n",
       "SQL, R, Python, Java                             1\n",
       "SAS/Stata, Java                                  1\n",
       "Python, SQL, Java, JavaScript                    1\n",
       "Name: ('P4_d ', 'Quais das linguagens listadas abaixo você utiliza no trabalho?'), Length: 221, dtype: int64"
      ]
     },
     "execution_count": 9,
     "metadata": {},
     "output_type": "execute_result"
    }
   ],
   "source": [
    "df[\"('P4_d ', 'Quais das linguagens listadas abaixo você utiliza no trabalho?')\"].value_counts()"
   ]
  },
  {
   "cell_type": "code",
   "execution_count": 11,
   "metadata": {},
   "outputs": [
    {
     "data": {
      "text/plain": [
       "Python                                         736\n",
       "SQL                                            731\n",
       "Não utilizo nenhuma das linguagens listadas    166\n",
       "R                                               81\n",
       "Visual Basic/VBA                                46\n",
       "JavaScript                                      22\n",
       "Scala                                           19\n",
       "SAS/Stata                                       18\n",
       "C/C++/C#                                        13\n",
       "Java                                            12\n",
       "PHP                                              8\n",
       ".NET                                             4\n",
       "Matlab                                           1\n",
       "Name: ('P4_e ', 'Entre as linguagens listadas abaixo, qual é a que você mais utiliza no trabalho?'), dtype: int64"
      ]
     },
     "execution_count": 11,
     "metadata": {},
     "output_type": "execute_result"
    }
   ],
   "source": [
    "df[\"('P4_e ', 'Entre as linguagens listadas abaixo, qual é a que você mais utiliza no trabalho?')\"].value_counts()"
   ]
  },
  {
   "cell_type": "code",
   "execution_count": 14,
   "metadata": {},
   "outputs": [
    {
     "data": {
      "image/png": "[encoded data removed]",
      "text/plain": [
       "<Figure size 1296x720 with 1 Axes>"
      ]
     },
     "metadata": {
      "needs_background": "light"
     },
     "output_type": "display_data"
    }
   ],
   "source": [
    "fig = plt.figure(figsize=(18,10))\n",
    "ax = sns.countplot(data=df, y=\"('P4_e ', 'Entre as linguagens listadas abaixo, qual é a que você mais utiliza no trabalho?')\", palette='ch:22', order = df[\"('P4_e ', 'Entre as linguagens listadas abaixo, qual é a que você mais utiliza no trabalho?')\"].value_counts().index, orient='h')\n",
    "ax.bar_label(ax.containers[0])\n",
    "ax.set(ylabel=\"\",xlabel=\"Contagem\")\n",
    "ax.set_title('Distribuição dos profissionais por setores', fontsize=15)\n",
    "ax.set_yticklabels(df[\"('P4_e ', 'Entre as linguagens listadas abaixo, qual é a que você mais utiliza no trabalho?')\"].value_counts().index, size = 12)\n",
    "plt.show()"
   ]
  },
  {
   "cell_type": "code",
   "execution_count": 15,
   "metadata": {},
   "outputs": [
    {
     "data": {
      "text/plain": [
       "[\"('P0', 'id')\",\n",
       " \"('P1_a ', 'Idade')\",\n",
       " \"('P1_a_a ', 'Faixa idade')\",\n",
       " \"('P1_b ', 'Genero')\",\n",
       " \"('P1_e ', 'Estado onde mora')\",\n",
       " \"('P1_e_a ', 'uf onde mora')\",\n",
       " \"('P1_e_b ', 'Regiao onde mora')\",\n",
       " \"('P1_g_b ', 'Regiao de origem')\",\n",
       " \"('P1_g_c ', 'Mudou de Estado?')\",\n",
       " \"('P1_h ', 'Nivel de Ensino')\",\n",
       " \"('P1_i ', 'Área de Formação')\",\n",
       " \"('P2_a ', 'Qual sua situação atual de trabalho?')\",\n",
       " \"('P2_b ', 'Setor')\",\n",
       " \"('P2_c ', 'Numero de Funcionarios')\",\n",
       " \"('P2_d ', 'Gestor?')\",\n",
       " \"('P2_e ', 'Cargo como Gestor')\",\n",
       " \"('P2_f ', 'Cargo Atual')\",\n",
       " \"('P2_g ', 'Nivel')\",\n",
       " \"('P2_h ', 'Faixa salarial')\",\n",
       " \"('P2_i ', 'Quanto tempo de experiência na área de dados você tem?')\",\n",
       " \"('P2_j ', 'Quanto tempo de experiência na área de TI/Engenharia de Software você teve antes de começar a trabalhar na área de dados?')\",\n",
       " \"('P2_k ', 'Você está satisfeito na sua empresa atual?')\",\n",
       " \"('P2_l ', 'Qual o principal motivo da sua insatisfação com a empresa atual?')\",\n",
       " \"('P2_l_a ', 'Falta de oportunidade de crescimento no emprego atual')\",\n",
       " \"('P2_l_b ', 'Salário atual não corresponde ao mercado')\",\n",
       " \"('P2_l_c ', 'Não tenho uma boa relação com meu líder/gestor')\",\n",
       " \"('P2_l_d ', 'Gostaria de trabalhar em em outra área de atuação')\",\n",
       " \"('P2_l_e ', 'Gostaria de receber mais benefícios')\",\n",
       " \"('P2_l_f ', 'O clima de trabalho/ambiente não é bom')\",\n",
       " \"('P2_l_g ', 'Falta de maturidade analítica na empresa')\",\n",
       " \"('P2_m ', 'Você participou de entrevistas de emprego nos últimos 6 meses?')\",\n",
       " \"('P2_n ', 'Você pretende mudar de emprego nos próximos 6 meses?')\",\n",
       " \"('P2_o ', 'Quais os principais critérios que você leva em consideração no momento de decidir onde trabalhar?')\",\n",
       " \"('P2_o_a ', 'Remuneração/Salário')\",\n",
       " \"('P2_o_b ', 'Benefícios')\",\n",
       " \"('P2_o_c ', 'Propósito do trabalho e da empresa')\",\n",
       " \"('P2_o_d ', 'Flexibilidade de trabalho remoto')\",\n",
       " \"('P2_o_e ', 'Ambiente e clima de trabalho')\",\n",
       " \"('P2_o_f ', 'Oportunidade de aprendizado e trabalhar com referências na área')\",\n",
       " \"('P2_o_g ', 'Plano de carreira e oportunidades de crescimento profissional')\",\n",
       " \"('P2_o_h ', 'Maturidade da empresa em termos de tecnologia e dados')\",\n",
       " \"('P2_o_i ', 'Qualidade dos gestores e líderes')\",\n",
       " \"('P2_o_j ', 'Reputação que a empresa tem no mercado')\",\n",
       " \"('P2_q ', 'Atualmente qual a sua forma de trabalho?')\",\n",
       " \"('P2_r ', 'Qual a forma de trabalho ideal para você?')\",\n",
       " \"('P2_s ', 'Caso sua empresa decida pelo modelo 100% presencial qual será sua atitude?')\",\n",
       " \"('P3_a ', 'Qual o número aproximado de pessoas que atuam com dados na sua empresa hoje?')\",\n",
       " \"('P3_b ', 'Quais desses papéis/cargos fazem parte do time (ou chapter) de dados da sua empresa?')\",\n",
       " \"('P3_b_a ', 'Analytics Engineer')\",\n",
       " \"('P3_b_b ', 'Engenharia de Dados/Data Engineer')\",\n",
       " \"('P3_b_c ', 'Analista de Dados/Data Analyst')\",\n",
       " \"('P3_b_d ', 'Cientista de Dados/Data Scientist')\",\n",
       " \"('P3_b_e ', 'Database Administrator/DBA')\",\n",
       " \"('P3_b_f ', 'Analista de Business Intelligence/BI')\",\n",
       " \"('P3_b_g ', 'Arquiteto de Dados/Data Architect')\",\n",
       " \"('P3_b_h ', 'Data Product Manager/DPM')\",\n",
       " \"('P3_b_i ', 'Business Analyst')\",\n",
       " \"('P3_c ', 'Quais dessas responsabilidades fazem parte da sua rotina atual de trabalho como gestor?')\",\n",
       " \"('P3_c_a ', 'Pensar na visão de longo prazo de dados da empresa e fortalecimento da cultura analítica da companhia.')\",\n",
       " \"('P3_c_b ', 'Organização de treinamentos e iniciativas com o objetivo de aumentar a maturidade analítica das áreas de negócios.')\",\n",
       " \"('P3_c_c ', 'Atração, seleção e contratação de talentos para o time de dados.')\",\n",
       " \"('P3_c_d ', 'Decisão sobre contratação de ferramentas e tecnologias relacionadas a dados.')\",\n",
       " \"('P3_c_e ', 'Sou gestor da equipe responsável pela engenharia de dados e por manter o Data Lake da empresa como fonte única dos dados, garantindo a qualidade e confiabilidade da informação.')\",\n",
       " \"('P3_c_f ', 'Sou gestor da equipe responsável pela entrega de dados, estudos, relatórios e dashboards para as áreas de negócio da empresa.')\",\n",
       " \"('P3_c_g ', 'Sou gestor da equipe responsável por iniciativas e projetos envolvendo Inteligência Artificial e Machine Learning.')\",\n",
       " \"('P3_c_h ', 'Apesar de ser gestor ainda atuo na parte técnica, construindo soluções/análises/modelos etc.')\",\n",
       " \"('P3_c_i ', 'Gestão de projetos de dados, cuidando das etapas, equipes envolvidas, atingimento dos objetivos etc.')\",\n",
       " \"('P3_c_j ', 'Gestão de produtos de dados, cuidando da visão dos produtos, backlog, feedback de usuários etc.')\",\n",
       " \"('P3_c_k ', 'Gestão de pessoas, apoio no desenvolvimento das pessoas, evolução de carreira')\",\n",
       " \"('P3_d ', 'Quais são os 3 maiores desafios que você tem como gestor no atual momento?')\",\n",
       " \"('P3_d_ ', 'a Contratar novos talentos.')\",\n",
       " \"('P3_d_ ', 'b Reter talentos.')\",\n",
       " \"('P3_d_ ', 'c Convencer a empresa a aumentar os investimentos na área de dados.')\",\n",
       " \"('P3_d_ ', 'd Gestão de equipes no ambiente remoto.')\",\n",
       " \"('P3_d_ ', 'e Gestão de projetos envolvendo áreas multidisciplinares da empresa.')\",\n",
       " \"('P3_d_ ', 'f Organizar as informações e garantir a qualidade e confiabilidade.')\",\n",
       " \"('P3_d_ ', 'g Conseguir processar e armazenar um alto volume de dados.')\",\n",
       " \"('P3_d_ ', 'h Conseguir gerar valor para as áreas de negócios através de estudos e experimentos.')\",\n",
       " \"('P3_d_ ', 'i Desenvolver e manter modelos Machine Learning em produção.')\",\n",
       " \"('P3_d_ ', 'j Gerenciar a expectativa das áreas de negócio em relação as entregas das equipes de dados.')\",\n",
       " \"('P3_d_ ', 'k Garantir a manutenção dos projetos e modelos em produção, em meio ao crescimento da empresa.')\",\n",
       " \"('P3_d_l ', 'Conseguir levar inovação para a empresa através dos dados.')\",\n",
       " \"('P3_d_m ', 'Garantir retorno do investimento (ROI) em projetos de dados.')\",\n",
       " \"('P3_d_n ', 'Dividir o tempo entre entregas técnicas e gestão.')\",\n",
       " \"('P4_a_a ', 'Mesmo que esse não seja seu cargo formal, você considera que sua atuação no dia a dia, reflete alguma das opções listadas abaixo?')\",\n",
       " \"('P4_a ', 'Atuacao')\",\n",
       " \"('P4_b ', 'Quais das fontes de dados listadas você já analisou ou processou no trabalho?')\",\n",
       " \"('P4_b_a ', 'Dados relacionais (estruturados em bancos SQL)')\",\n",
       " \"('P4_b_b ', 'Dados armazenados em bancos NoSQL')\",\n",
       " \"('P4_b_c ', 'Imagens')\",\n",
       " \"('P4_b_d ', 'Textos/Documentos')\",\n",
       " \"('P4_b_e ', 'Vídeos')\",\n",
       " \"('P4_b_f ', 'Áudios')\",\n",
       " \"('P4_b_g ', 'Planilhas')\",\n",
       " \"('P4_b_h ', 'Dados georeferenciados')\",\n",
       " \"('P4_c ', 'Entre as fontes de dados listadas, quais você utiliza na maior parte do tempo?')\",\n",
       " \"('P4_c_a ', 'Dados relacionais (estruturados em bancos SQL)')\",\n",
       " \"('P4_c_b ', 'Dados armazenados em bancos NoSQL')\",\n",
       " \"('P4_c_c ', 'Imagens')\",\n",
       " \"('P4_c_d ', 'Textos/Documentos')\",\n",
       " \"('P4_c_e ', 'Vídeos')\",\n",
       " \"('P4_c_f ', 'Áudios')\",\n",
       " \"('P4_c_g ', 'Planilhas')\",\n",
       " \"('P4_c_h ', 'Dados georeferenciados')\",\n",
       " \"('P4_d ', 'Quais das linguagens listadas abaixo você utiliza no trabalho?')\",\n",
       " \"('P4_d_a ', 'SQL')\",\n",
       " \"('P4_d_b ', 'R ')\",\n",
       " \"('P4_d_c ', 'Python')\",\n",
       " \"('P4_d_d ', 'C/C++/C#')\",\n",
       " \"('P4_d_e ', '.NET')\",\n",
       " \"('P4_d_f ', 'Java')\",\n",
       " \"('P4_d_g ', 'Julia')\",\n",
       " \"('P4_d_h ', 'SAS/Stata')\",\n",
       " \"('P4_d_i ', 'Visual Basic/VBA')\",\n",
       " \"('P4_d_j ', 'Scala')\",\n",
       " \"('P4_d_k ', 'Matlab')\",\n",
       " \"('P4_d_l ', 'PHP')\",\n",
       " \"('P4_d_m ', 'Javascript')\",\n",
       " \"('P4_d_n ', 'Não utilizo nenhuma linguagem')\",\n",
       " \"('P4_e ', 'Entre as linguagens listadas abaixo, qual é a que você mais utiliza no trabalho?')\",\n",
       " \"('P4_e_a ', 'SQL')\",\n",
       " \"('P4_e_b ', 'R ')\",\n",
       " \"('P4_e_c ', 'Python')\",\n",
       " \"('P4_e_d ', 'C/C++/C#')\",\n",
       " \"('P4_e_e ', '.NET')\",\n",
       " \"('P4_e_f ', 'Java')\",\n",
       " \"('P4_e_g ', 'Julia')\",\n",
       " \"('P4_e_h ', 'SAS/Stata')\",\n",
       " \"('P4_e_i ', 'Visual Basic/VBA')\",\n",
       " \"('P4_e_j ', 'Scala')\",\n",
       " \"('P4_e_k ', 'Matlab')\",\n",
       " \"('P4_e_l ', 'PHP')\",\n",
       " \"('P4_e_m ', 'Javascript')\",\n",
       " \"('P4_e_n ', 'Não utilizo nenhuma linguagem')\",\n",
       " \"('P4_f ', 'Quais dos bancos de dados/fontes de dados listados abaixo você utiliza no trabalho?')\",\n",
       " \"('P4_f_a ', 'MySQL')\",\n",
       " \"('P4_f_b ', 'Oracle')\",\n",
       " \"('P4_f_c ', 'SQL SERVER')\",\n",
       " \"('P4_f_d ', 'SAP')\",\n",
       " \"('P4_f_e ', 'Amazon Aurora ou RDS')\",\n",
       " \"('P4_f_f ', 'Amazon DynamoDB')\",\n",
       " \"('P4_f_g ', 'CoachDB')\",\n",
       " \"('P4_f_h ', 'Cassandra')\",\n",
       " \"('P4_f_i ', 'MongoDB')\",\n",
       " \"('P4_f_j ', 'MariaDB')\",\n",
       " \"('P4_f_k ', 'Datomic')\",\n",
       " \"('P4_f_l ', 'S3')\",\n",
       " \"('P4_f_m ', 'PostgreSQL')\",\n",
       " \"('P4_f_n ', 'ElasticSearch')\",\n",
       " \"('P4_f_o ', 'DB2')\",\n",
       " \"('P4_f_p ', 'Microsoft Access')\",\n",
       " \"('P4_f_q ', 'SQLite')\",\n",
       " \"('P4_f_r ', 'Sybase')\",\n",
       " \"('P4_f_s ', 'Firebase')\",\n",
       " \"('P4_f_t ', 'Vertica')\",\n",
       " \"('P4_f_u ', 'Redis')\",\n",
       " \"('P4_f_v ', 'Neo4J')\",\n",
       " \"('P4_f_x ', 'Google BigQuery')\",\n",
       " \"('P4_f_y ', 'Google Firestore')\",\n",
       " \"('P4_f_z ', 'Amazon Redshift')\",\n",
       " \"('P4_f_z1 ', 'Amazon Athena')\",\n",
       " \"('P4_f_z2 ', 'Snowflake')\",\n",
       " \"('P4_f_z3 ', 'Databricks')\",\n",
       " \"('P4_f_z4 ', 'HBase')\",\n",
       " \"('P4_f_z5 ', 'Presto')\",\n",
       " \"('P4_f_z6 ', 'Splunk')\",\n",
       " \"('P4_f_z7 ', 'SAP HANA')\",\n",
       " \"('P4_f_z8 ', 'Hive')\",\n",
       " \"('P4_f_z9 ', 'Firebird')\",\n",
       " \"('P4_g ', 'Quais das opções de Cloud listadas abaixo você utiliza no trabalho?')\",\n",
       " \"('P4_g_a ', 'Amazon Web Services (AWS)')\",\n",
       " \"('P4_g_b ', 'Google Cloud (GCP)')\",\n",
       " \"('P4_g_c ', 'Azure (Microsoft)')\",\n",
       " \"('P4_g_d ', 'Oracle Cloud')\",\n",
       " \"('P4_g_e ', 'IBM')\",\n",
       " \"('P4_g_f ', 'Servidores On Premise/Não utilizamos Cloud')\",\n",
       " \"('P4_g_g ', 'Cloud Própria')\",\n",
       " \"('P4_h ', 'Quais as Ferramentas de Business Intelligence você utiliza no trabalho?')\",\n",
       " \"('P4_h_a ', 'Microsoft PowerBI')\",\n",
       " \"('P4_h_b ', 'Qlik View/Qlik Sense')\",\n",
       " \"('P4_h_c ', 'Tableau')\",\n",
       " \"('P4_h_d ', 'Metabase')\",\n",
       " \"('P4_h_e ', 'Superset')\",\n",
       " \"('P4_h_f ', 'Redash')\",\n",
       " \"('P4_h_g ', 'MicroStrategy')\",\n",
       " \"('P4_h_h ', 'IBM Analytics/Cognos')\",\n",
       " \"('P4_h_i ', 'SAP Business Objects')\",\n",
       " \"('P4_h_j ', 'Oracle Business Intelligence')\",\n",
       " \"('P4_h_k ', 'Amazon QuickSight')\",\n",
       " \"('P4_h_l ', 'Salesforce/Einstein Analytics')\",\n",
       " \"('P4_h_m ', 'Mode')\",\n",
       " \"('P4_h_n ', 'Alteryx')\",\n",
       " \"('P4_h_o ', 'Birst')\",\n",
       " \"('P4_h_p ', 'Looker')\",\n",
       " \"('P4_h_q ', 'Google Data Studio')\",\n",
       " \"('P4_h_r ', 'SAS Visual Analytics')\",\n",
       " \"('P4_h_s ', 'Grafana')\",\n",
       " \"('P4_h_t ', 'TIBCO Spotfire')\",\n",
       " \"('P4_h_u ', 'Pentaho')\",\n",
       " \"('P4_h_v ', 'Fazemos todas as análises utilizando apenas Excel ou planilhas do google')\",\n",
       " \"('P4_h_x ', 'Não utilizo nenhuma ferramenta de BI no trabalho')\",\n",
       " \"('P5_b ', 'Qual oportunidade você está buscando?')\",\n",
       " \"('P5_c ', 'Há quanto tempo você busca uma oportunidade na área de dados?')\",\n",
       " \"('P5_d ', 'Como tem sido a busca por um emprego na área de dados?')\",\n",
       " \"('P6_a ', 'Quais das opções abaixo fazem parte da sua rotina no trabalho atual como engenheiro de dados?')\",\n",
       " \"('P6_a_a ', 'Desenvolvo pipelines de dados utilizando linguagens de programação como Python, Scala, Java etc.')\",\n",
       " \"('P6_a_b ', 'Realizo construções de ETL's em ferramentas como Pentaho, Talend, Dataflow etc.')\",\n",
       " \"('P6_a_c ', 'Crio consultas através da linguagem SQL para exportar informações e compartilhar com as áreas de negócio.')\",\n",
       " \"('P6_a_d ', 'Atuo na integração de diferentes fontes de dados através de plataformas proprietárias como Stitch Data, Fivetran etc.')\",\n",
       " \"('P6_a_e ', 'Modelo soluções de arquitetura de dados, criando componentes de ingestão de dados, transformação e recuperação da informação.')\",\n",
       " \"('P6_a_f ', 'Desenvolvo/cuido da manutenção de repositórios de dados baseados em streaming de eventos como Data Lakes e Data Lakehouses.')\",\n",
       " \"('P6_a_g ', 'Atuo na modelagem dos dados, com o objetivo de criar conjuntos de dados como Data Warehouses, Data Marts etc.')\",\n",
       " \"('P6_a_h ', 'Cuido da qualidade dos dados, metadados e dicionário de dados.')\",\n",
       " \"('P6_a_i ', 'Nenhuma das opções listadas refletem meu dia a dia.')\",\n",
       " \"('P6_b ', 'Quais as ferramentas/tecnologias de ETL que você utiliza no trabalho como Data Engineer?')\",\n",
       " \"('P6_b_a ', 'Scripts Python')\",\n",
       " \"('P6_b_b ', 'SQL & Stored Procedures')\",\n",
       " \"('P6_b_c ', 'Apache Airflow')\",\n",
       " \"('P6_b_d ', 'Luigi')\",\n",
       " \"('P6_b_e ', 'AWS Glue')\",\n",
       " \"('P6_b_f ', 'Talend')\",\n",
       " \"('P6_b_g ', 'Stitch')\",\n",
       " \"('P6_b_h ', 'Fivetran')\",\n",
       " \"('P6_b_i ', 'Google Dataflow')\",\n",
       " \"('P6_b_j ', 'Oracle Data Integrator')\",\n",
       " \"('P6_b_k ', 'IBM DataStage')\",\n",
       " \"('P6_b_l ', 'SAP BW ETL')\",\n",
       " \"('P6_b_m ', 'SQL Server Integration Services (SSIS)')\",\n",
       " \"('P6_b_n ', 'SAS Data Integration')\",\n",
       " \"('P6_b_o ', 'Qlik Sense')\",\n",
       " \"('P6_b_p ', 'Knime')\",\n",
       " \"('P6_b_q ', 'Não utilizo ferramentas de ETL')\",\n",
       " \"('P6_c ', 'Sua organização possui um Data Lake?')\",\n",
       " \"('P6_d ', 'Qual tecnologia utilizada como plataforma do Data Lake?')\",\n",
       " \"('P6_e ', 'Sua organização possui um Data Warehouse?')\",\n",
       " \"('P6_f ', 'Qual tecnologia utilizada como plataforma do Data Warehouse?')\",\n",
       " \"('P6_g ', 'Quais as ferramentas de gestão de Qualidade de dados, Metadados e catálogo de dados você utiliza no trabalho?')\",\n",
       " \"('P6_g_a ', 'great_expectations')\",\n",
       " \"('P6_g_b ', 'dbt')\",\n",
       " \"('P6_g_c ', 'AWS Deequ')\",\n",
       " \"('P6_g_d ', 'Apache Griffin')\",\n",
       " \"('P6_g_e ', 'Datafold')\",\n",
       " \"('P6_g_f ', 'Amundsen')\",\n",
       " \"('P6_g_g ', 'Monte Carlo')\",\n",
       " \"('P6_g_h ', 'SODA')\",\n",
       " \"('P6_g_i ', 'Big Eye')\",\n",
       " \"('P6_g_j ', 'Data Band')\",\n",
       " \"('P6_g_k ', 'Anomalo')\",\n",
       " \"('P6_g_l ', 'Metaplane')\",\n",
       " \"('P6_g_m ', 'Acceldata')\",\n",
       " \"('P6_h ', 'Em qual das opções abaixo você gasta a maior parte do seu tempo?')\",\n",
       " \"('P6_h_a ', 'Desenvolvendo pipelines de dados utilizando linguagens de programação como Python, Scala, Java etc.')\",\n",
       " \"('P6_h_b ', 'Realizando construções de ETL's em ferramentas como Pentaho, Talend, Dataflow etc.')\",\n",
       " \"('P6_h_c ', 'Criando consultas através da linguagem SQL para exportar informações e compartilhar com as áreas de negócio.')\",\n",
       " \"('P6_h_d ', 'Atuando na integração de diferentes fontes de dados através de plataformas proprietárias como Stitch Data, Fivetran etc.')\",\n",
       " \"('P6_h_e ', 'Modelando soluções de arquitetura de dados, criando componentes de ingestão de dados, transformação e recuperação da informação.')\",\n",
       " \"('P6_h_f ', 'Desenvolvendo/cuidando da manutenção de repositórios de dados baseados em streaming de eventos como Data Lakes e Data Lakehouses.')\",\n",
       " \"('P6_h_g ', 'Atuando na modelagem dos dados, com o objetivo de criar conjuntos de dados como Data Warehouses, Data Marts etc.')\",\n",
       " \"('P6_h_h ', 'Cuidando da qualidade dos dados, metadados e dicionário de dados.')\",\n",
       " \"('P7_a ', 'Quais das opções abaixo fazem parte da sua rotina no trabalho atual com análise de dados?')\",\n",
       " \"('P7_a_a ', 'Processo e analiso dados utilizando linguagens de programação como Python, R etc.')\",\n",
       " \"('P7_a_b ', 'Realizo construções de dashboards em ferramentas de BI como PowerBI, Tableau, Looker, Qlik etc.')\",\n",
       " \"('P7_a_c ', 'Utilizo API's para extrair dados e complementar minhas análises.')\",\n",
       " \"('P7_a_d ', 'Realizo experimentos e estudos utilizando metodologias estatísticas como teste de hipótese, modelos de regressão etc.')\",\n",
       " \"('P7_a_e ', 'Desenvolvo/cuido da manutenção de ETL's utilizando tecnologias como Talend, Pentaho, Airflow, Dataflow etc.')\",\n",
       " \"('P7_a_f ', 'Atuo na modelagem dos dados, com o objetivo de criar conjuntos de dados, Data Warehouses, Data Marts etc.')\",\n",
       " \"('P7_a_g ', 'Desenvolvo/cuido da manutenção de planilhas para atender as áreas de negócio.')\",\n",
       " \"('P7_a_h ', 'Utilizo ferramentas avançadas de estatística como SAS')\",\n",
       " \"('P7_b ', 'Quais as ferramentas/tecnologias de ETL que você utiliza no trabalho como Data Analyst?')\",\n",
       " \"('P7_b_a ', 'Scripts Python')\",\n",
       " \"('P7_b_b ', 'SQL & Stored Procedures')\",\n",
       " \"('P7_b_c ', 'Apache Airflow')\",\n",
       " \"('P7_b_d ', 'Luigi')\",\n",
       " \"('P7_b_e ', 'AWS Glue')\",\n",
       " \"('P7_b_f ', 'Talend')\",\n",
       " \"('P7_b_g ', 'Stitch')\",\n",
       " \"('P7_b_h ', 'Fivetran')\",\n",
       " \"('P7_b_i ', 'Google Dataflow')\",\n",
       " \"('P7_b_j ', 'Oracle Data Integrator')\",\n",
       " \"('P7_b_k ', 'IBM DataStage')\",\n",
       " \"('P7_b_l ', 'SAP BW ETL')\",\n",
       " \"('P7_b_m ', 'SQL Server Integration Services (SSIS)')\",\n",
       " \"('P7_b_n ', 'SAS Data Integration')\",\n",
       " \"('P7_b_o ', 'Qlik Sense')\",\n",
       " \"('P7_b_p ', 'Knime')\",\n",
       " \"('P7_b_q ', 'Não utilizo ferramentas de ETL')\",\n",
       " \"('P7_c ', 'Sua empresa utiliza alguma das ferramentas listadas para dar mais autonomia em análise de dados para as áreas de negócio?')\",\n",
       " \"('P7_c_a ', 'Ferramentas de AutoML como H2O.ai, Data Robot, BigML etc.')\",\n",
       " '(\\'P7_c_b \\', \\'\"\"Point and Click\"\" Analytics como Alteryx, Knime, Rapidminer etc.\\')',\n",
       " \"('P7_c_c ', 'Product metricts & Insights como Mixpanel, Amplitude, Adobe Analytics.')\",\n",
       " \"('P7_c_d ', 'Ferramentas de análise dentro de ferramentas de CRM como Salesforce Einstein Anaytics ou Zendesk dashboards.')\",\n",
       " \"('P7_c_e ', 'Minha empresa não utiliza essas ferramentas.')\",\n",
       " \"('P7_c_f ', 'Não sei informar.')\",\n",
       " \"('P7_d ', 'Em qual das opções abaixo você gasta a maior parte do seu tempo de trabalho?')\",\n",
       " \"('P7_d_a ', 'Processando e analisando dados utilizando linguagens de programação como Python, R etc.')\",\n",
       " \"('P7_d_b ', 'Realizando construções de dashboards em ferramentas de BI como PowerBI, Tableau, Looker, Qlik etc.')\",\n",
       " \"('P7_d_c ', 'Utilizando API's para extrair dados e complementar minhas análises.')\",\n",
       " \"('P7_d_d ', 'Realizando experimentos e estudos utilizando metodologias estatísticas como teste de hipótese, modelos de regressão etc.')\",\n",
       " \"('P7_d_e ', 'Desenvolvendo/cuidando da manutenção de ETL's utilizando tecnologias como Talend, Pentaho, Airflow, Dataflow etc.')\",\n",
       " \"('P7_d_f ', 'Atuando na modelagem dos dados, com o objetivo de criar conjuntos de dados, Data Warehouses, Data Marts etc.')\",\n",
       " \"('P7_d_g ', 'Desenvolvendo/cuidando da manutenção de planilhas do Excel ou Google Sheets para atender as áreas de negócio.')\",\n",
       " \"('P7_d_h ', 'Utilizando ferramentas avançadas de estatística como SAS, SPSS, Stata etc, para realizar análises.')\",\n",
       " \"('P8_a ', 'Quais das opções abaixo fazem parte da sua rotina no trabalho atual com ciência de dados?')\",\n",
       " \"('P8_a_a ', 'Estudos Ad-hoc com o objetivo de confirmar hipóteses, realizar modelos preditivos, forecasts, análise de cluster para resolver problemas pontuais e responder perguntas das áreas de negócio.')\",\n",
       " \"('P8_a_b ', 'Sou responsável pela coleta e limpeza dos dados que uso para análise e modelagem.')\",\n",
       " \"('P8_a_c ', 'Sou responsável por entrar em contato com os times de negócio para definição do problema, identificar a solução e apresentação de resultados.')\",\n",
       " \"('P8_a_d ', 'Desenvolvo modelos de Machine Learning com o objetivo de colocar em produção em sistemas (produtos de dados).')\",\n",
       " \"('P8_a_e ', 'Sou responsável por colocar modelos em produção, criar os pipelines de dados, APIs de consumo e monitoramento.')\",\n",
       " \"('P8_a_f ', 'Cuido da manutenção de modelos de Machine Learning já em produção, atuando no monitoramento, ajustes e refatoração quando necessário.')\",\n",
       " \"('P8_a_g ', 'Realizo construções de dashboards em ferramentas de BI como PowerBI, Tableau, Looker, Qlik, etc')\",\n",
       " \"('P8_a_h ', 'Utilizo ferramentas avançadas de estatística como SAS, SPSS, Stata etc, para realizar análises estatísticas e ajustar modelos.Crio e dou manutenção em ETLs, DAGs e automações de pipelines de dados.')\",\n",
       " \"('P8_a_j ', 'Sou responsável por criar e manter a infra que meus modelos e soluções rodam (clusters, servidores, API, containers, etc.)')\",\n",
       " \"('P8_b ', 'Quais as técnicas e métodos listados abaixo você costuma utilizar no trabalho?')\",\n",
       " \"('P8_b_a ', 'Utilizo modelos de regressão (linear, logística, GLM)')\",\n",
       " \"('P8_b_b ', 'Utilizo redes neurais ou modelos baseados em árvore para criar modelos de classificação')\",\n",
       " \"('P8_b_c ', 'Desenvolvo sistemas de recomendação (RecSys)')\",\n",
       " \"('P8_b_d ', 'Utilizo métodos estatísticos Bayesianos para analisar dados')\",\n",
       " \"('P8_b_e ', 'Utilizo técnicas de NLP (Natural Language Processing) para análisar dados não-estruturados')\",\n",
       " \"('P8_b_f ', 'Utilizo métodos estatísticos clássicos (Testes de hipótese, análise multivariada, sobrevivência, dados longitudinais, inferência estatistica) para analisar dados')\",\n",
       " \"('P8_b_g ', 'Utilizo cadeias de Markov ou HMM's para realizar análises de dados')\",\n",
       " \"('P8_b_h ', 'Desenvolvo técnicas de Clusterização (K-means, Spectral, DBScan etc)')\",\n",
       " \"('P8_b_i ', 'Realizo previsões através de modelos de Séries Temporais (Time Series)')\",\n",
       " \"('P8_b_j ', 'Utilizo modelos de Reinforcement Learning (aprendizado por reforço)')\",\n",
       " \"('P8_b_k ', 'Utilizo modelos de Machine Learning para detecção de fraude')\",\n",
       " \"('P8_b_l ', 'Utilizo métodos de Visão Computacional')\",\n",
       " \"('P8_b_m ', 'Utilizo modelos de Detecção de Churn')\",\n",
       " \"('P8_c ', 'Quais dessas tecnologias fazem parte do seu dia a dia como cientista de dados?')\",\n",
       " \"('P8_c_a ', 'Ferramentas de BI (PowerBI, Looker, Tableau, Qlik etc)')\",\n",
       " \"('P8_c_b ', 'Planilhas (Excel, Google Sheets etc)')\",\n",
       " \"('P8_c_c ', 'Ambientes de desenvolvimento local (R-studio, JupyterLab, Anaconda)')\",\n",
       " \"('P8_c_d ', 'Ambientes de desenvolvimento na nuvem (Google Colab, AWS Sagemaker, Kaggle Notebooks etc)')\",\n",
       " \"('P8_c_e ', 'Ferramentas de AutoML (Datarobot, H2O, Auto-Keras etc)')\",\n",
       " \"('P8_c_f ', 'Ferramentas de ETL (Apache Airflow, NiFi, Stitch, Fivetran, Pentaho etc)')\",\n",
       " \"('P8_c_g ', 'Plataformas de Machine Learning (TensorFlow, Azure Machine Learning, Kubeflow etc)')\",\n",
       " \"('P8_c_h ', 'Feature Store (Feast, Hopsworks, AWS Feature Store, Databricks Feature Store etc)')\",\n",
       " \"('P8_c_i ', 'Sistemas de controle de versão (Github, DVC, Neptune, Gitlab etc)')\",\n",
       " \"('P8_c_j ', 'Plataformas de Data Apps (Streamlit, Shiny, Plotly Dash etc)')\",\n",
       " \"('P8_c_k ', 'Ferramentas de estatística avançada como SPSS, SAS, etc.')\",\n",
       " \"('P8_c_l ', 'Não utilizo nenhuma dessas ferramentas no meu dia a dia.')\",\n",
       " \"('P8_d ', 'Em qual das opções abaixo você gasta a maior parte do seu tempo no trabalho?')\",\n",
       " \"('P8_d_a ', 'Coletando e limpando os dados que uso para análise e modelagem.')\",\n",
       " \"('P8_d_b ', 'Entrando em contato com os times de negócio para definição do problema, identificar a solução e apresentação de resultados.')\",\n",
       " \"('P8_d_c ', 'Desenvolvendo modelos de Machine Learning com o objetivo de colocar em produção em sistemas (produtos de dados).')\",\n",
       " \"('P8_d_d ', 'Colocando modelos em produção, criando os pipelines de dados, APIs de consumo e monitoramento.')\",\n",
       " \"('P8_d_e ', 'Cuidando da manutenção de modelos de Machine Learning já em produção, atuando no monitoramento, ajustes e refatoração quando necessário.')\",\n",
       " \"('P8_d_f ', 'Realizando construções de dashboards em ferramentas de BI como PowerBI, Tableau, Looker, Qlik, etc.')\",\n",
       " \"('P8_d_g ', 'Criando e dando manutenção em ETLs, DAGs e automações de pipelines de dados.')\",\n",
       " \"('P8_d_h ', 'Criando e gerenciando soluções de Feature Store e cultura de MLOps.')\",\n",
       " \"('P8_d_i ', 'Criando e mantendo a infra que meus modelos e soluções rodam (clusters, servidores, API, containers, etc.)')\",\n",
       " \"('P9_a ', 'Quais das iniciativas do Data Hackers que você já acessou/acompanhou?')\",\n",
       " \"('P9_a_a ', 'Blog/Medium do Data Hackers')\",\n",
       " \"('P9_a_b ', 'Podcast do Data Hackers')\",\n",
       " \"('P9_a_d ', 'Newsletter Semanal')\",\n",
       " \"('P9_a_e ', 'Canal do Slack')\",\n",
       " \"('P9_a_f ', 'Canal do Youtube do Data Hackers')\",\n",
       " \"('P9_a_g ', 'Ainda não conhecia o Data Hackers')\",\n",
       " 'Vínculo Empregativo']"
      ]
     },
     "execution_count": 15,
     "metadata": {},
     "output_type": "execute_result"
    }
   ],
   "source": [
    "list(columns)"
   ]
  },
  {
   "cell_type": "code",
   "execution_count": 17,
   "metadata": {},
   "outputs": [
    {
     "data": {
      "text/plain": [
       "[\"('P4_d_a ', 'SQL')\",\n",
       " \"('P4_d_b ', 'R ')\",\n",
       " \"('P4_d_c ', 'Python')\",\n",
       " \"('P4_d_d ', 'C/C++/C#')\",\n",
       " \"('P4_d_e ', '.NET')\",\n",
       " \"('P4_d_f ', 'Java')\",\n",
       " \"('P4_d_g ', 'Julia')\",\n",
       " \"('P4_d_h ', 'SAS/Stata')\",\n",
       " \"('P4_d_i ', 'Visual Basic/VBA')\",\n",
       " \"('P4_d_j ', 'Scala')\",\n",
       " \"('P4_d_k ', 'Matlab')\",\n",
       " \"('P4_d_l ', 'PHP')\",\n",
       " \"('P4_d_m ', 'Javascript')\",\n",
       " \"('P4_d_n ', 'Não utilizo nenhuma linguagem')\"]"
      ]
     },
     "execution_count": 17,
     "metadata": {},
     "output_type": "execute_result"
    }
   ],
   "source": [
    "df_ling = [c for c in df.columns if \"('P4_d_\" in c]\n",
    "df_ling"
   ]
  },
  {
   "cell_type": "code",
   "execution_count": null,
   "metadata": {},
   "outputs": [],
   "source": [
    "\"('P6_a ', 'Quais das opções abaixo fazem parte da sua rotina no trabalho atual como engenheiro de dados?')\",\n",
    "\"('P7_a ', 'Quais das opções abaixo fazem parte da sua rotina no trabalho atual com análise de dados?')\",\n",
    "\"('P8_a ', 'Quais das opções abaixo fazem parte da sua rotina no trabalho atual com ciência de dados?')\","
   ]
  },
  {
   "cell_type": "code",
   "execution_count": 41,
   "metadata": {},
   "outputs": [],
   "source": [
    "df['engenheiro'] = [1 if a.lower() != 'nan' else 0 for a in df[\"('P6_a ', 'Quais das opções abaixo fazem parte da sua rotina no trabalho atual como engenheiro de dados?')\"].astype('str')]\n",
    "df['analista'] = [1 if a != 'nan' else 0 for a in df[\"('P7_a ', 'Quais das opções abaixo fazem parte da sua rotina no trabalho atual com análise de dados?')\"].astype('str')]\n",
    "df['cientista'] = [1 if a != 'nan' else 0 for a in df[\"('P6_a ', 'Quais das opções abaixo fazem parte da sua rotina no trabalho atual como engenheiro de dados?')\"].astype('str')]"
   ]
  },
  {
   "cell_type": "code",
   "execution_count": 44,
   "metadata": {},
   "outputs": [],
   "source": [
    "engenheiro=\"('P6_a ', 'Quais das opções abaixo fazem parte da sua rotina no trabalho atual como engenheiro de dados?')\"\n",
    "analista=\"('P7_a ', 'Quais das opções abaixo fazem parte da sua rotina no trabalho atual com análise de dados?')\"\n",
    "cientista=\"('P8_a ', 'Quais das opções abaixo fazem parte da sua rotina no trabalho atual com ciência de dados?')\"\n",
    "\n",
    "df[engenheiro].fillna(np.nan,inplace=True)\n",
    "df[analista].fillna(np.nan,inplace=True)\n",
    "df[cientista].fillna(np.nan,inplace=True)\n",
    "df['profissao'] = [\"Engenheiro Dados\" if str(a)!=\"nan\" else \"Analista Dados\" if str(b) !=\"nan\" else \"Cientista Dados\" if str(c)!=\"nan\" else np.nan for a,b,c in zip(df[engenheiro], df[analista],df[cientista])]"
   ]
  },
  {
   "cell_type": "code",
   "execution_count": 54,
   "metadata": {},
   "outputs": [
    {
     "data": {
      "text/plain": [
       "980"
      ]
     },
     "execution_count": 54,
     "metadata": {},
     "output_type": "execute_result"
    }
   ],
   "source": [
    "df.shape[0]  - df['profissao'].value_counts().sum()"
   ]
  },
  {
   "cell_type": "code",
   "execution_count": 144,
   "metadata": {},
   "outputs": [
    {
     "data": {
      "text/plain": [
       "[\"('P0', 'id')\",\n",
       " \"('P1_a ', 'Idade')\",\n",
       " \"('P1_a_a ', 'Faixa idade')\",\n",
       " \"('P1_b ', 'Genero')\",\n",
       " \"('P1_e ', 'Estado onde mora')\",\n",
       " \"('P1_e_a ', 'uf onde mora')\",\n",
       " \"('P1_e_b ', 'Regiao onde mora')\",\n",
       " \"('P1_g_b ', 'Regiao de origem')\",\n",
       " \"('P1_g_c ', 'Mudou de Estado?')\",\n",
       " \"('P1_h ', 'Nivel de Ensino')\",\n",
       " \"('P1_i ', 'Área de Formação')\",\n",
       " \"('P2_a ', 'Qual sua situação atual de trabalho?')\",\n",
       " \"('P2_b ', 'Setor')\",\n",
       " \"('P2_c ', 'Numero de Funcionarios')\",\n",
       " \"('P2_d ', 'Gestor?')\",\n",
       " \"('P2_e ', 'Cargo como Gestor')\",\n",
       " \"('P2_f ', 'Cargo Atual')\",\n",
       " \"('P2_g ', 'Nivel')\",\n",
       " \"('P2_h ', 'Faixa salarial')\",\n",
       " \"('P2_i ', 'Quanto tempo de experiência na área de dados você tem?')\",\n",
       " \"('P2_j ', 'Quanto tempo de experiência na área de TI/Engenharia de Software você teve antes de começar a trabalhar na área de dados?')\",\n",
       " \"('P2_k ', 'Você está satisfeito na sua empresa atual?')\",\n",
       " \"('P2_l ', 'Qual o principal motivo da sua insatisfação com a empresa atual?')\",\n",
       " \"('P2_l_a ', 'Falta de oportunidade de crescimento no emprego atual')\",\n",
       " \"('P2_l_b ', 'Salário atual não corresponde ao mercado')\",\n",
       " \"('P2_l_c ', 'Não tenho uma boa relação com meu líder/gestor')\",\n",
       " \"('P2_l_d ', 'Gostaria de trabalhar em em outra área de atuação')\",\n",
       " \"('P2_l_e ', 'Gostaria de receber mais benefícios')\",\n",
       " \"('P2_l_f ', 'O clima de trabalho/ambiente não é bom')\",\n",
       " \"('P2_l_g ', 'Falta de maturidade analítica na empresa')\",\n",
       " \"('P2_m ', 'Você participou de entrevistas de emprego nos últimos 6 meses?')\",\n",
       " \"('P2_n ', 'Você pretende mudar de emprego nos próximos 6 meses?')\",\n",
       " \"('P2_o ', 'Quais os principais critérios que você leva em consideração no momento de decidir onde trabalhar?')\",\n",
       " \"('P2_o_a ', 'Remuneração/Salário')\",\n",
       " \"('P2_o_b ', 'Benefícios')\",\n",
       " \"('P2_o_c ', 'Propósito do trabalho e da empresa')\",\n",
       " \"('P2_o_d ', 'Flexibilidade de trabalho remoto')\",\n",
       " \"('P2_o_e ', 'Ambiente e clima de trabalho')\",\n",
       " \"('P2_o_f ', 'Oportunidade de aprendizado e trabalhar com referências na área')\",\n",
       " \"('P2_o_g ', 'Plano de carreira e oportunidades de crescimento profissional')\",\n",
       " \"('P2_o_h ', 'Maturidade da empresa em termos de tecnologia e dados')\",\n",
       " \"('P2_o_i ', 'Qualidade dos gestores e líderes')\",\n",
       " \"('P2_o_j ', 'Reputação que a empresa tem no mercado')\",\n",
       " \"('P2_q ', 'Atualmente qual a sua forma de trabalho?')\",\n",
       " \"('P2_r ', 'Qual a forma de trabalho ideal para você?')\",\n",
       " \"('P2_s ', 'Caso sua empresa decida pelo modelo 100% presencial qual será sua atitude?')\",\n",
       " \"('P3_a ', 'Qual o número aproximado de pessoas que atuam com dados na sua empresa hoje?')\",\n",
       " \"('P3_b ', 'Quais desses papéis/cargos fazem parte do time (ou chapter) de dados da sua empresa?')\",\n",
       " \"('P3_b_a ', 'Analytics Engineer')\",\n",
       " \"('P3_b_b ', 'Engenharia de Dados/Data Engineer')\",\n",
       " \"('P3_b_c ', 'Analista de Dados/Data Analyst')\",\n",
       " \"('P3_b_d ', 'Cientista de Dados/Data Scientist')\",\n",
       " \"('P3_b_e ', 'Database Administrator/DBA')\",\n",
       " \"('P3_b_f ', 'Analista de Business Intelligence/BI')\",\n",
       " \"('P3_b_g ', 'Arquiteto de Dados/Data Architect')\",\n",
       " \"('P3_b_h ', 'Data Product Manager/DPM')\",\n",
       " \"('P3_b_i ', 'Business Analyst')\",\n",
       " \"('P3_c ', 'Quais dessas responsabilidades fazem parte da sua rotina atual de trabalho como gestor?')\",\n",
       " \"('P3_c_a ', 'Pensar na visão de longo prazo de dados da empresa e fortalecimento da cultura analítica da companhia.')\",\n",
       " \"('P3_c_b ', 'Organização de treinamentos e iniciativas com o objetivo de aumentar a maturidade analítica das áreas de negócios.')\",\n",
       " \"('P3_c_c ', 'Atração, seleção e contratação de talentos para o time de dados.')\",\n",
       " \"('P3_c_d ', 'Decisão sobre contratação de ferramentas e tecnologias relacionadas a dados.')\",\n",
       " \"('P3_c_e ', 'Sou gestor da equipe responsável pela engenharia de dados e por manter o Data Lake da empresa como fonte única dos dados, garantindo a qualidade e confiabilidade da informação.')\",\n",
       " \"('P3_c_f ', 'Sou gestor da equipe responsável pela entrega de dados, estudos, relatórios e dashboards para as áreas de negócio da empresa.')\",\n",
       " \"('P3_c_g ', 'Sou gestor da equipe responsável por iniciativas e projetos envolvendo Inteligência Artificial e Machine Learning.')\",\n",
       " \"('P3_c_h ', 'Apesar de ser gestor ainda atuo na parte técnica, construindo soluções/análises/modelos etc.')\",\n",
       " \"('P3_c_i ', 'Gestão de projetos de dados, cuidando das etapas, equipes envolvidas, atingimento dos objetivos etc.')\",\n",
       " \"('P3_c_j ', 'Gestão de produtos de dados, cuidando da visão dos produtos, backlog, feedback de usuários etc.')\",\n",
       " \"('P3_c_k ', 'Gestão de pessoas, apoio no desenvolvimento das pessoas, evolução de carreira')\",\n",
       " \"('P3_d ', 'Quais são os 3 maiores desafios que você tem como gestor no atual momento?')\",\n",
       " \"('P3_d_ ', 'a Contratar novos talentos.')\",\n",
       " \"('P3_d_ ', 'b Reter talentos.')\",\n",
       " \"('P3_d_ ', 'c Convencer a empresa a aumentar os investimentos na área de dados.')\",\n",
       " \"('P3_d_ ', 'd Gestão de equipes no ambiente remoto.')\",\n",
       " \"('P3_d_ ', 'e Gestão de projetos envolvendo áreas multidisciplinares da empresa.')\",\n",
       " \"('P3_d_ ', 'f Organizar as informações e garantir a qualidade e confiabilidade.')\",\n",
       " \"('P3_d_ ', 'g Conseguir processar e armazenar um alto volume de dados.')\",\n",
       " \"('P3_d_ ', 'h Conseguir gerar valor para as áreas de negócios através de estudos e experimentos.')\",\n",
       " \"('P3_d_ ', 'i Desenvolver e manter modelos Machine Learning em produção.')\",\n",
       " \"('P3_d_ ', 'j Gerenciar a expectativa das áreas de negócio em relação as entregas das equipes de dados.')\",\n",
       " \"('P3_d_ ', 'k Garantir a manutenção dos projetos e modelos em produção, em meio ao crescimento da empresa.')\",\n",
       " \"('P3_d_l ', 'Conseguir levar inovação para a empresa através dos dados.')\",\n",
       " \"('P3_d_m ', 'Garantir retorno do investimento (ROI) em projetos de dados.')\",\n",
       " \"('P3_d_n ', 'Dividir o tempo entre entregas técnicas e gestão.')\",\n",
       " \"('P4_a_a ', 'Mesmo que esse não seja seu cargo formal, você considera que sua atuação no dia a dia, reflete alguma das opções listadas abaixo?')\",\n",
       " \"('P4_a ', 'Atuacao')\",\n",
       " \"('P4_b ', 'Quais das fontes de dados listadas você já analisou ou processou no trabalho?')\",\n",
       " \"('P4_b_a ', 'Dados relacionais (estruturados em bancos SQL)')\",\n",
       " \"('P4_b_b ', 'Dados armazenados em bancos NoSQL')\",\n",
       " \"('P4_b_c ', 'Imagens')\",\n",
       " \"('P4_b_d ', 'Textos/Documentos')\",\n",
       " \"('P4_b_e ', 'Vídeos')\",\n",
       " \"('P4_b_f ', 'Áudios')\",\n",
       " \"('P4_b_g ', 'Planilhas')\",\n",
       " \"('P4_b_h ', 'Dados georeferenciados')\",\n",
       " \"('P4_c ', 'Entre as fontes de dados listadas, quais você utiliza na maior parte do tempo?')\",\n",
       " \"('P4_c_a ', 'Dados relacionais (estruturados em bancos SQL)')\",\n",
       " \"('P4_c_b ', 'Dados armazenados em bancos NoSQL')\",\n",
       " \"('P4_c_c ', 'Imagens')\",\n",
       " \"('P4_c_d ', 'Textos/Documentos')\",\n",
       " \"('P4_c_e ', 'Vídeos')\",\n",
       " \"('P4_c_f ', 'Áudios')\",\n",
       " \"('P4_c_g ', 'Planilhas')\",\n",
       " \"('P4_c_h ', 'Dados georeferenciados')\",\n",
       " \"('P4_d ', 'Quais das linguagens listadas abaixo você utiliza no trabalho?')\",\n",
       " \"('P4_d_a ', 'SQL')\",\n",
       " \"('P4_d_b ', 'R ')\",\n",
       " \"('P4_d_c ', 'Python')\",\n",
       " \"('P4_d_d ', 'C/C++/C#')\",\n",
       " \"('P4_d_e ', '.NET')\",\n",
       " \"('P4_d_f ', 'Java')\",\n",
       " \"('P4_d_g ', 'Julia')\",\n",
       " \"('P4_d_h ', 'SAS/Stata')\",\n",
       " \"('P4_d_i ', 'Visual Basic/VBA')\",\n",
       " \"('P4_d_j ', 'Scala')\",\n",
       " \"('P4_d_k ', 'Matlab')\",\n",
       " \"('P4_d_l ', 'PHP')\",\n",
       " \"('P4_d_m ', 'Javascript')\",\n",
       " \"('P4_d_n ', 'Não utilizo nenhuma linguagem')\",\n",
       " \"('P4_e ', 'Entre as linguagens listadas abaixo, qual é a que você mais utiliza no trabalho?')\",\n",
       " \"('P4_e_a ', 'SQL')\",\n",
       " \"('P4_e_b ', 'R ')\",\n",
       " \"('P4_e_c ', 'Python')\",\n",
       " \"('P4_e_d ', 'C/C++/C#')\",\n",
       " \"('P4_e_e ', '.NET')\",\n",
       " \"('P4_e_f ', 'Java')\",\n",
       " \"('P4_e_g ', 'Julia')\",\n",
       " \"('P4_e_h ', 'SAS/Stata')\",\n",
       " \"('P4_e_i ', 'Visual Basic/VBA')\",\n",
       " \"('P4_e_j ', 'Scala')\",\n",
       " \"('P4_e_k ', 'Matlab')\",\n",
       " \"('P4_e_l ', 'PHP')\",\n",
       " \"('P4_e_m ', 'Javascript')\",\n",
       " \"('P4_e_n ', 'Não utilizo nenhuma linguagem')\",\n",
       " \"('P4_f ', 'Quais dos bancos de dados/fontes de dados listados abaixo você utiliza no trabalho?')\",\n",
       " \"('P4_f_a ', 'MySQL')\",\n",
       " \"('P4_f_b ', 'Oracle')\",\n",
       " \"('P4_f_c ', 'SQL SERVER')\",\n",
       " \"('P4_f_d ', 'SAP')\",\n",
       " \"('P4_f_e ', 'Amazon Aurora ou RDS')\",\n",
       " \"('P4_f_f ', 'Amazon DynamoDB')\",\n",
       " \"('P4_f_g ', 'CoachDB')\",\n",
       " \"('P4_f_h ', 'Cassandra')\",\n",
       " \"('P4_f_i ', 'MongoDB')\",\n",
       " \"('P4_f_j ', 'MariaDB')\",\n",
       " \"('P4_f_k ', 'Datomic')\",\n",
       " \"('P4_f_l ', 'S3')\",\n",
       " \"('P4_f_m ', 'PostgreSQL')\",\n",
       " \"('P4_f_n ', 'ElasticSearch')\",\n",
       " \"('P4_f_o ', 'DB2')\",\n",
       " \"('P4_f_p ', 'Microsoft Access')\",\n",
       " \"('P4_f_q ', 'SQLite')\",\n",
       " \"('P4_f_r ', 'Sybase')\",\n",
       " \"('P4_f_s ', 'Firebase')\",\n",
       " \"('P4_f_t ', 'Vertica')\",\n",
       " \"('P4_f_u ', 'Redis')\",\n",
       " \"('P4_f_v ', 'Neo4J')\",\n",
       " \"('P4_f_x ', 'Google BigQuery')\",\n",
       " \"('P4_f_y ', 'Google Firestore')\",\n",
       " \"('P4_f_z ', 'Amazon Redshift')\",\n",
       " \"('P4_f_z1 ', 'Amazon Athena')\",\n",
       " \"('P4_f_z2 ', 'Snowflake')\",\n",
       " \"('P4_f_z3 ', 'Databricks')\",\n",
       " \"('P4_f_z4 ', 'HBase')\",\n",
       " \"('P4_f_z5 ', 'Presto')\",\n",
       " \"('P4_f_z6 ', 'Splunk')\",\n",
       " \"('P4_f_z7 ', 'SAP HANA')\",\n",
       " \"('P4_f_z8 ', 'Hive')\",\n",
       " \"('P4_f_z9 ', 'Firebird')\",\n",
       " \"('P4_g ', 'Quais das opções de Cloud listadas abaixo você utiliza no trabalho?')\",\n",
       " \"('P4_g_a ', 'Amazon Web Services (AWS)')\",\n",
       " \"('P4_g_b ', 'Google Cloud (GCP)')\",\n",
       " \"('P4_g_c ', 'Azure (Microsoft)')\",\n",
       " \"('P4_g_d ', 'Oracle Cloud')\",\n",
       " \"('P4_g_e ', 'IBM')\",\n",
       " \"('P4_g_f ', 'Servidores On Premise/Não utilizamos Cloud')\",\n",
       " \"('P4_g_g ', 'Cloud Própria')\",\n",
       " \"('P4_h ', 'Quais as Ferramentas de Business Intelligence você utiliza no trabalho?')\",\n",
       " \"('P4_h_a ', 'Microsoft PowerBI')\",\n",
       " \"('P4_h_b ', 'Qlik View/Qlik Sense')\",\n",
       " \"('P4_h_c ', 'Tableau')\",\n",
       " \"('P4_h_d ', 'Metabase')\",\n",
       " \"('P4_h_e ', 'Superset')\",\n",
       " \"('P4_h_f ', 'Redash')\",\n",
       " \"('P4_h_g ', 'MicroStrategy')\",\n",
       " \"('P4_h_h ', 'IBM Analytics/Cognos')\",\n",
       " \"('P4_h_i ', 'SAP Business Objects')\",\n",
       " \"('P4_h_j ', 'Oracle Business Intelligence')\",\n",
       " \"('P4_h_k ', 'Amazon QuickSight')\",\n",
       " \"('P4_h_l ', 'Salesforce/Einstein Analytics')\",\n",
       " \"('P4_h_m ', 'Mode')\",\n",
       " \"('P4_h_n ', 'Alteryx')\",\n",
       " \"('P4_h_o ', 'Birst')\",\n",
       " \"('P4_h_p ', 'Looker')\",\n",
       " \"('P4_h_q ', 'Google Data Studio')\",\n",
       " \"('P4_h_r ', 'SAS Visual Analytics')\",\n",
       " \"('P4_h_s ', 'Grafana')\",\n",
       " \"('P4_h_t ', 'TIBCO Spotfire')\",\n",
       " \"('P4_h_u ', 'Pentaho')\",\n",
       " \"('P4_h_v ', 'Fazemos todas as análises utilizando apenas Excel ou planilhas do google')\",\n",
       " \"('P4_h_x ', 'Não utilizo nenhuma ferramenta de BI no trabalho')\",\n",
       " \"('P5_b ', 'Qual oportunidade você está buscando?')\",\n",
       " \"('P5_c ', 'Há quanto tempo você busca uma oportunidade na área de dados?')\",\n",
       " \"('P5_d ', 'Como tem sido a busca por um emprego na área de dados?')\",\n",
       " \"('P6_a ', 'Quais das opções abaixo fazem parte da sua rotina no trabalho atual como engenheiro de dados?')\",\n",
       " \"('P6_a_a ', 'Desenvolvo pipelines de dados utilizando linguagens de programação como Python, Scala, Java etc.')\",\n",
       " \"('P6_a_b ', 'Realizo construções de ETL's em ferramentas como Pentaho, Talend, Dataflow etc.')\",\n",
       " \"('P6_a_c ', 'Crio consultas através da linguagem SQL para exportar informações e compartilhar com as áreas de negócio.')\",\n",
       " \"('P6_a_d ', 'Atuo na integração de diferentes fontes de dados através de plataformas proprietárias como Stitch Data, Fivetran etc.')\",\n",
       " \"('P6_a_e ', 'Modelo soluções de arquitetura de dados, criando componentes de ingestão de dados, transformação e recuperação da informação.')\",\n",
       " \"('P6_a_f ', 'Desenvolvo/cuido da manutenção de repositórios de dados baseados em streaming de eventos como Data Lakes e Data Lakehouses.')\",\n",
       " \"('P6_a_g ', 'Atuo na modelagem dos dados, com o objetivo de criar conjuntos de dados como Data Warehouses, Data Marts etc.')\",\n",
       " \"('P6_a_h ', 'Cuido da qualidade dos dados, metadados e dicionário de dados.')\",\n",
       " \"('P6_a_i ', 'Nenhuma das opções listadas refletem meu dia a dia.')\",\n",
       " \"('P6_b ', 'Quais as ferramentas/tecnologias de ETL que você utiliza no trabalho como Data Engineer?')\",\n",
       " \"('P6_b_a ', 'Scripts Python')\",\n",
       " \"('P6_b_b ', 'SQL & Stored Procedures')\",\n",
       " \"('P6_b_c ', 'Apache Airflow')\",\n",
       " \"('P6_b_d ', 'Luigi')\",\n",
       " \"('P6_b_e ', 'AWS Glue')\",\n",
       " \"('P6_b_f ', 'Talend')\",\n",
       " \"('P6_b_g ', 'Stitch')\",\n",
       " \"('P6_b_h ', 'Fivetran')\",\n",
       " \"('P6_b_i ', 'Google Dataflow')\",\n",
       " \"('P6_b_j ', 'Oracle Data Integrator')\",\n",
       " \"('P6_b_k ', 'IBM DataStage')\",\n",
       " \"('P6_b_l ', 'SAP BW ETL')\",\n",
       " \"('P6_b_m ', 'SQL Server Integration Services (SSIS)')\",\n",
       " \"('P6_b_n ', 'SAS Data Integration')\",\n",
       " \"('P6_b_o ', 'Qlik Sense')\",\n",
       " \"('P6_b_p ', 'Knime')\",\n",
       " \"('P6_b_q ', 'Não utilizo ferramentas de ETL')\",\n",
       " \"('P6_c ', 'Sua organização possui um Data Lake?')\",\n",
       " \"('P6_d ', 'Qual tecnologia utilizada como plataforma do Data Lake?')\",\n",
       " \"('P6_e ', 'Sua organização possui um Data Warehouse?')\",\n",
       " \"('P6_f ', 'Qual tecnologia utilizada como plataforma do Data Warehouse?')\",\n",
       " \"('P6_g ', 'Quais as ferramentas de gestão de Qualidade de dados, Metadados e catálogo de dados você utiliza no trabalho?')\",\n",
       " \"('P6_g_a ', 'great_expectations')\",\n",
       " \"('P6_g_b ', 'dbt')\",\n",
       " \"('P6_g_c ', 'AWS Deequ')\",\n",
       " \"('P6_g_d ', 'Apache Griffin')\",\n",
       " \"('P6_g_e ', 'Datafold')\",\n",
       " \"('P6_g_f ', 'Amundsen')\",\n",
       " \"('P6_g_g ', 'Monte Carlo')\",\n",
       " \"('P6_g_h ', 'SODA')\",\n",
       " \"('P6_g_i ', 'Big Eye')\",\n",
       " \"('P6_g_j ', 'Data Band')\",\n",
       " \"('P6_g_k ', 'Anomalo')\",\n",
       " \"('P6_g_l ', 'Metaplane')\",\n",
       " \"('P6_g_m ', 'Acceldata')\",\n",
       " \"('P6_h ', 'Em qual das opções abaixo você gasta a maior parte do seu tempo?')\",\n",
       " \"('P6_h_a ', 'Desenvolvendo pipelines de dados utilizando linguagens de programação como Python, Scala, Java etc.')\",\n",
       " \"('P6_h_b ', 'Realizando construções de ETL's em ferramentas como Pentaho, Talend, Dataflow etc.')\",\n",
       " \"('P6_h_c ', 'Criando consultas através da linguagem SQL para exportar informações e compartilhar com as áreas de negócio.')\",\n",
       " \"('P6_h_d ', 'Atuando na integração de diferentes fontes de dados através de plataformas proprietárias como Stitch Data, Fivetran etc.')\",\n",
       " \"('P6_h_e ', 'Modelando soluções de arquitetura de dados, criando componentes de ingestão de dados, transformação e recuperação da informação.')\",\n",
       " \"('P6_h_f ', 'Desenvolvendo/cuidando da manutenção de repositórios de dados baseados em streaming de eventos como Data Lakes e Data Lakehouses.')\",\n",
       " \"('P6_h_g ', 'Atuando na modelagem dos dados, com o objetivo de criar conjuntos de dados como Data Warehouses, Data Marts etc.')\",\n",
       " \"('P6_h_h ', 'Cuidando da qualidade dos dados, metadados e dicionário de dados.')\",\n",
       " \"('P7_a ', 'Quais das opções abaixo fazem parte da sua rotina no trabalho atual com análise de dados?')\",\n",
       " \"('P7_a_a ', 'Processo e analiso dados utilizando linguagens de programação como Python, R etc.')\",\n",
       " \"('P7_a_b ', 'Realizo construções de dashboards em ferramentas de BI como PowerBI, Tableau, Looker, Qlik etc.')\",\n",
       " \"('P7_a_c ', 'Utilizo API's para extrair dados e complementar minhas análises.')\",\n",
       " \"('P7_a_d ', 'Realizo experimentos e estudos utilizando metodologias estatísticas como teste de hipótese, modelos de regressão etc.')\",\n",
       " \"('P7_a_e ', 'Desenvolvo/cuido da manutenção de ETL's utilizando tecnologias como Talend, Pentaho, Airflow, Dataflow etc.')\",\n",
       " \"('P7_a_f ', 'Atuo na modelagem dos dados, com o objetivo de criar conjuntos de dados, Data Warehouses, Data Marts etc.')\",\n",
       " \"('P7_a_g ', 'Desenvolvo/cuido da manutenção de planilhas para atender as áreas de negócio.')\",\n",
       " \"('P7_a_h ', 'Utilizo ferramentas avançadas de estatística como SAS')\",\n",
       " \"('P7_b ', 'Quais as ferramentas/tecnologias de ETL que você utiliza no trabalho como Data Analyst?')\",\n",
       " \"('P7_b_a ', 'Scripts Python')\",\n",
       " \"('P7_b_b ', 'SQL & Stored Procedures')\",\n",
       " \"('P7_b_c ', 'Apache Airflow')\",\n",
       " \"('P7_b_d ', 'Luigi')\",\n",
       " \"('P7_b_e ', 'AWS Glue')\",\n",
       " \"('P7_b_f ', 'Talend')\",\n",
       " \"('P7_b_g ', 'Stitch')\",\n",
       " \"('P7_b_h ', 'Fivetran')\",\n",
       " \"('P7_b_i ', 'Google Dataflow')\",\n",
       " \"('P7_b_j ', 'Oracle Data Integrator')\",\n",
       " \"('P7_b_k ', 'IBM DataStage')\",\n",
       " \"('P7_b_l ', 'SAP BW ETL')\",\n",
       " \"('P7_b_m ', 'SQL Server Integration Services (SSIS)')\",\n",
       " \"('P7_b_n ', 'SAS Data Integration')\",\n",
       " \"('P7_b_o ', 'Qlik Sense')\",\n",
       " \"('P7_b_p ', 'Knime')\",\n",
       " \"('P7_b_q ', 'Não utilizo ferramentas de ETL')\",\n",
       " \"('P7_c ', 'Sua empresa utiliza alguma das ferramentas listadas para dar mais autonomia em análise de dados para as áreas de negócio?')\",\n",
       " \"('P7_c_a ', 'Ferramentas de AutoML como H2O.ai, Data Robot, BigML etc.')\",\n",
       " '(\\'P7_c_b \\', \\'\"\"Point and Click\"\" Analytics como Alteryx, Knime, Rapidminer etc.\\')',\n",
       " \"('P7_c_c ', 'Product metricts & Insights como Mixpanel, Amplitude, Adobe Analytics.')\",\n",
       " \"('P7_c_d ', 'Ferramentas de análise dentro de ferramentas de CRM como Salesforce Einstein Anaytics ou Zendesk dashboards.')\",\n",
       " \"('P7_c_e ', 'Minha empresa não utiliza essas ferramentas.')\",\n",
       " \"('P7_c_f ', 'Não sei informar.')\",\n",
       " \"('P7_d ', 'Em qual das opções abaixo você gasta a maior parte do seu tempo de trabalho?')\",\n",
       " \"('P7_d_a ', 'Processando e analisando dados utilizando linguagens de programação como Python, R etc.')\",\n",
       " \"('P7_d_b ', 'Realizando construções de dashboards em ferramentas de BI como PowerBI, Tableau, Looker, Qlik etc.')\",\n",
       " \"('P7_d_c ', 'Utilizando API's para extrair dados e complementar minhas análises.')\",\n",
       " \"('P7_d_d ', 'Realizando experimentos e estudos utilizando metodologias estatísticas como teste de hipótese, modelos de regressão etc.')\",\n",
       " \"('P7_d_e ', 'Desenvolvendo/cuidando da manutenção de ETL's utilizando tecnologias como Talend, Pentaho, Airflow, Dataflow etc.')\",\n",
       " \"('P7_d_f ', 'Atuando na modelagem dos dados, com o objetivo de criar conjuntos de dados, Data Warehouses, Data Marts etc.')\",\n",
       " \"('P7_d_g ', 'Desenvolvendo/cuidando da manutenção de planilhas do Excel ou Google Sheets para atender as áreas de negócio.')\",\n",
       " \"('P7_d_h ', 'Utilizando ferramentas avançadas de estatística como SAS, SPSS, Stata etc, para realizar análises.')\",\n",
       " \"('P8_a ', 'Quais das opções abaixo fazem parte da sua rotina no trabalho atual com ciência de dados?')\",\n",
       " \"('P8_a_a ', 'Estudos Ad-hoc com o objetivo de confirmar hipóteses, realizar modelos preditivos, forecasts, análise de cluster para resolver problemas pontuais e responder perguntas das áreas de negócio.')\",\n",
       " \"('P8_a_b ', 'Sou responsável pela coleta e limpeza dos dados que uso para análise e modelagem.')\",\n",
       " \"('P8_a_c ', 'Sou responsável por entrar em contato com os times de negócio para definição do problema, identificar a solução e apresentação de resultados.')\",\n",
       " \"('P8_a_d ', 'Desenvolvo modelos de Machine Learning com o objetivo de colocar em produção em sistemas (produtos de dados).')\",\n",
       " \"('P8_a_e ', 'Sou responsável por colocar modelos em produção, criar os pipelines de dados, APIs de consumo e monitoramento.')\",\n",
       " \"('P8_a_f ', 'Cuido da manutenção de modelos de Machine Learning já em produção, atuando no monitoramento, ajustes e refatoração quando necessário.')\",\n",
       " \"('P8_a_g ', 'Realizo construções de dashboards em ferramentas de BI como PowerBI, Tableau, Looker, Qlik, etc')\",\n",
       " \"('P8_a_h ', 'Utilizo ferramentas avançadas de estatística como SAS, SPSS, Stata etc, para realizar análises estatísticas e ajustar modelos.Crio e dou manutenção em ETLs, DAGs e automações de pipelines de dados.')\",\n",
       " \"('P8_a_j ', 'Sou responsável por criar e manter a infra que meus modelos e soluções rodam (clusters, servidores, API, containers, etc.)')\",\n",
       " \"('P8_b ', 'Quais as técnicas e métodos listados abaixo você costuma utilizar no trabalho?')\",\n",
       " \"('P8_b_a ', 'Utilizo modelos de regressão (linear, logística, GLM)')\",\n",
       " \"('P8_b_b ', 'Utilizo redes neurais ou modelos baseados em árvore para criar modelos de classificação')\",\n",
       " \"('P8_b_c ', 'Desenvolvo sistemas de recomendação (RecSys)')\",\n",
       " \"('P8_b_d ', 'Utilizo métodos estatísticos Bayesianos para analisar dados')\",\n",
       " \"('P8_b_e ', 'Utilizo técnicas de NLP (Natural Language Processing) para análisar dados não-estruturados')\",\n",
       " \"('P8_b_f ', 'Utilizo métodos estatísticos clássicos (Testes de hipótese, análise multivariada, sobrevivência, dados longitudinais, inferência estatistica) para analisar dados')\",\n",
       " \"('P8_b_g ', 'Utilizo cadeias de Markov ou HMM's para realizar análises de dados')\",\n",
       " \"('P8_b_h ', 'Desenvolvo técnicas de Clusterização (K-means, Spectral, DBScan etc)')\",\n",
       " \"('P8_b_i ', 'Realizo previsões através de modelos de Séries Temporais (Time Series)')\",\n",
       " \"('P8_b_j ', 'Utilizo modelos de Reinforcement Learning (aprendizado por reforço)')\",\n",
       " \"('P8_b_k ', 'Utilizo modelos de Machine Learning para detecção de fraude')\",\n",
       " \"('P8_b_l ', 'Utilizo métodos de Visão Computacional')\",\n",
       " \"('P8_b_m ', 'Utilizo modelos de Detecção de Churn')\",\n",
       " \"('P8_c ', 'Quais dessas tecnologias fazem parte do seu dia a dia como cientista de dados?')\",\n",
       " \"('P8_c_a ', 'Ferramentas de BI (PowerBI, Looker, Tableau, Qlik etc)')\",\n",
       " \"('P8_c_b ', 'Planilhas (Excel, Google Sheets etc)')\",\n",
       " \"('P8_c_c ', 'Ambientes de desenvolvimento local (R-studio, JupyterLab, Anaconda)')\",\n",
       " \"('P8_c_d ', 'Ambientes de desenvolvimento na nuvem (Google Colab, AWS Sagemaker, Kaggle Notebooks etc)')\",\n",
       " \"('P8_c_e ', 'Ferramentas de AutoML (Datarobot, H2O, Auto-Keras etc)')\",\n",
       " \"('P8_c_f ', 'Ferramentas de ETL (Apache Airflow, NiFi, Stitch, Fivetran, Pentaho etc)')\",\n",
       " \"('P8_c_g ', 'Plataformas de Machine Learning (TensorFlow, Azure Machine Learning, Kubeflow etc)')\",\n",
       " \"('P8_c_h ', 'Feature Store (Feast, Hopsworks, AWS Feature Store, Databricks Feature Store etc)')\",\n",
       " \"('P8_c_i ', 'Sistemas de controle de versão (Github, DVC, Neptune, Gitlab etc)')\",\n",
       " \"('P8_c_j ', 'Plataformas de Data Apps (Streamlit, Shiny, Plotly Dash etc)')\",\n",
       " \"('P8_c_k ', 'Ferramentas de estatística avançada como SPSS, SAS, etc.')\",\n",
       " \"('P8_c_l ', 'Não utilizo nenhuma dessas ferramentas no meu dia a dia.')\",\n",
       " \"('P8_d ', 'Em qual das opções abaixo você gasta a maior parte do seu tempo no trabalho?')\",\n",
       " \"('P8_d_a ', 'Coletando e limpando os dados que uso para análise e modelagem.')\",\n",
       " \"('P8_d_b ', 'Entrando em contato com os times de negócio para definição do problema, identificar a solução e apresentação de resultados.')\",\n",
       " \"('P8_d_c ', 'Desenvolvendo modelos de Machine Learning com o objetivo de colocar em produção em sistemas (produtos de dados).')\",\n",
       " \"('P8_d_d ', 'Colocando modelos em produção, criando os pipelines de dados, APIs de consumo e monitoramento.')\",\n",
       " \"('P8_d_e ', 'Cuidando da manutenção de modelos de Machine Learning já em produção, atuando no monitoramento, ajustes e refatoração quando necessário.')\",\n",
       " \"('P8_d_f ', 'Realizando construções de dashboards em ferramentas de BI como PowerBI, Tableau, Looker, Qlik, etc.')\",\n",
       " \"('P8_d_g ', 'Criando e dando manutenção em ETLs, DAGs e automações de pipelines de dados.')\",\n",
       " \"('P8_d_h ', 'Criando e gerenciando soluções de Feature Store e cultura de MLOps.')\",\n",
       " \"('P8_d_i ', 'Criando e mantendo a infra que meus modelos e soluções rodam (clusters, servidores, API, containers, etc.)')\",\n",
       " \"('P9_a ', 'Quais das iniciativas do Data Hackers que você já acessou/acompanhou?')\",\n",
       " \"('P9_a_a ', 'Blog/Medium do Data Hackers')\",\n",
       " \"('P9_a_b ', 'Podcast do Data Hackers')\",\n",
       " \"('P9_a_d ', 'Newsletter Semanal')\",\n",
       " \"('P9_a_e ', 'Canal do Slack')\",\n",
       " \"('P9_a_f ', 'Canal do Youtube do Data Hackers')\",\n",
       " \"('P9_a_g ', 'Ainda não conhecia o Data Hackers')\",\n",
       " 'Vínculo Empregativo']"
      ]
     },
     "execution_count": 144,
     "metadata": {},
     "output_type": "execute_result"
    }
   ],
   "source": [
    "list(columns)"
   ]
  },
  {
   "cell_type": "code",
   "execution_count": 36,
   "metadata": {},
   "outputs": [
    {
     "data": {
      "text/plain": [
       "nan"
      ]
     },
     "execution_count": 36,
     "metadata": {},
     "output_type": "execute_result"
    }
   ],
   "source": [
    "df[\"('P6_a ', 'Quais das opções abaixo fazem parte da sua rotina no trabalho atual como engenheiro de dados?')\"][0]"
   ]
  },
  {
   "cell_type": "code",
   "execution_count": 56,
   "metadata": {},
   "outputs": [
    {
     "data": {
      "text/plain": [
       "0                    NaN\n",
       "1                    NaN\n",
       "2                    NaN\n",
       "3                    NaN\n",
       "4                    NaN\n",
       "              ...       \n",
       "2640                 NaN\n",
       "2641     Cientista Dados\n",
       "2642    Engenheiro Dados\n",
       "2643                 NaN\n",
       "2644                 NaN\n",
       "Name: profissao, Length: 2645, dtype: object"
      ]
     },
     "execution_count": 56,
     "metadata": {},
     "output_type": "execute_result"
    }
   ],
   "source": [
    "df['profissao']"
   ]
  },
  {
   "cell_type": "code",
   "execution_count": 124,
   "metadata": {},
   "outputs": [],
   "source": [
    "\n",
    "prof_sal_cross = pd.crosstab(df[\"('P2_h ', 'Faixa salarial')\"],df['profissao'],normalize='columns')*100\n",
    "prof_sal_cross = prof_sal_cross.reset_index()"
   ]
  },
  {
   "cell_type": "code",
   "execution_count": 115,
   "metadata": {},
   "outputs": [
    {
     "data": {
      "text/html": [
       "<div>\n",
       "<style scoped>\n",
       "    .dataframe tbody tr th:only-of-type {\n",
       "        vertical-align: middle;\n",
       "    }\n",
       "\n",
       "    .dataframe tbody tr th {\n",
       "        vertical-align: top;\n",
       "    }\n",
       "\n",
       "    .dataframe thead th {\n",
       "        text-align: right;\n",
       "    }\n",
       "</style>\n",
       "<table border=\"1\" class=\"dataframe\">\n",
       "  <thead>\n",
       "    <tr style=\"text-align: right;\">\n",
       "      <th>profissao</th>\n",
       "      <th>salario</th>\n",
       "      <th>Analista Dados</th>\n",
       "      <th>Cientista Dados</th>\n",
       "      <th>Engenheiro Dados</th>\n",
       "    </tr>\n",
       "  </thead>\n",
       "  <tbody>\n",
       "    <tr>\n",
       "      <th>0</th>\n",
       "      <td>&lt; R$2k</td>\n",
       "      <td>9.069494</td>\n",
       "      <td>7.766990</td>\n",
       "      <td>2.722772</td>\n",
       "    </tr>\n",
       "    <tr>\n",
       "      <th>1</th>\n",
       "      <td>R$12k-16k</td>\n",
       "      <td>5.418139</td>\n",
       "      <td>11.165049</td>\n",
       "      <td>13.861386</td>\n",
       "    </tr>\n",
       "    <tr>\n",
       "      <th>2</th>\n",
       "      <td>R$16k-20k</td>\n",
       "      <td>1.531213</td>\n",
       "      <td>4.854369</td>\n",
       "      <td>4.950495</td>\n",
       "    </tr>\n",
       "    <tr>\n",
       "      <th>3</th>\n",
       "      <td>R$20k+</td>\n",
       "      <td>1.531213</td>\n",
       "      <td>5.339806</td>\n",
       "      <td>7.673267</td>\n",
       "    </tr>\n",
       "    <tr>\n",
       "      <th>4</th>\n",
       "      <td>R$2k-3k</td>\n",
       "      <td>12.485277</td>\n",
       "      <td>3.883495</td>\n",
       "      <td>4.950495</td>\n",
       "    </tr>\n",
       "    <tr>\n",
       "      <th>5</th>\n",
       "      <td>R$3k-4k</td>\n",
       "      <td>12.367491</td>\n",
       "      <td>5.582524</td>\n",
       "      <td>6.930693</td>\n",
       "    </tr>\n",
       "    <tr>\n",
       "      <th>6</th>\n",
       "      <td>R$4k-6k</td>\n",
       "      <td>23.085984</td>\n",
       "      <td>16.747573</td>\n",
       "      <td>15.841584</td>\n",
       "    </tr>\n",
       "    <tr>\n",
       "      <th>7</th>\n",
       "      <td>R$6k-8k</td>\n",
       "      <td>16.843345</td>\n",
       "      <td>20.388350</td>\n",
       "      <td>20.049505</td>\n",
       "    </tr>\n",
       "    <tr>\n",
       "      <th>8</th>\n",
       "      <td>R$8k-12k</td>\n",
       "      <td>17.667845</td>\n",
       "      <td>24.271845</td>\n",
       "      <td>23.019802</td>\n",
       "    </tr>\n",
       "  </tbody>\n",
       "</table>\n",
       "</div>"
      ],
      "text/plain": [
       "profissao    salario  Analista Dados  Cientista Dados  Engenheiro Dados\n",
       "0             < R$2k        9.069494         7.766990          2.722772\n",
       "1          R$12k-16k        5.418139        11.165049         13.861386\n",
       "2          R$16k-20k        1.531213         4.854369          4.950495\n",
       "3             R$20k+        1.531213         5.339806          7.673267\n",
       "4            R$2k-3k       12.485277         3.883495          4.950495\n",
       "5            R$3k-4k       12.367491         5.582524          6.930693\n",
       "6            R$4k-6k       23.085984        16.747573         15.841584\n",
       "7            R$6k-8k       16.843345        20.388350         20.049505\n",
       "8           R$8k-12k       17.667845        24.271845         23.019802"
      ]
     },
     "execution_count": 115,
     "metadata": {},
     "output_type": "execute_result"
    }
   ],
   "source": [
    "prof_sal_cross"
   ]
  },
  {
   "cell_type": "code",
   "execution_count": 128,
   "metadata": {},
   "outputs": [
    {
     "data": {
      "text/html": [
       "<div>\n",
       "<style scoped>\n",
       "    .dataframe tbody tr th:only-of-type {\n",
       "        vertical-align: middle;\n",
       "    }\n",
       "\n",
       "    .dataframe tbody tr th {\n",
       "        vertical-align: top;\n",
       "    }\n",
       "\n",
       "    .dataframe thead th {\n",
       "        text-align: right;\n",
       "    }\n",
       "</style>\n",
       "<table border=\"1\" class=\"dataframe\">\n",
       "  <thead>\n",
       "    <tr style=\"text-align: right;\">\n",
       "      <th></th>\n",
       "      <th>('P2_h ', 'Faixa salarial')</th>\n",
       "      <th>profissao</th>\n",
       "      <th>value</th>\n",
       "    </tr>\n",
       "  </thead>\n",
       "  <tbody>\n",
       "    <tr>\n",
       "      <th>0</th>\n",
       "      <td>até R$1k</td>\n",
       "      <td>Analista Dados</td>\n",
       "      <td>1.531213</td>\n",
       "    </tr>\n",
       "    <tr>\n",
       "      <th>1</th>\n",
       "      <td>R$1k-2k</td>\n",
       "      <td>Analista Dados</td>\n",
       "      <td>7.538280</td>\n",
       "    </tr>\n",
       "    <tr>\n",
       "      <th>2</th>\n",
       "      <td>R$2k-3k</td>\n",
       "      <td>Analista Dados</td>\n",
       "      <td>12.485277</td>\n",
       "    </tr>\n",
       "    <tr>\n",
       "      <th>3</th>\n",
       "      <td>R$3k-4k</td>\n",
       "      <td>Analista Dados</td>\n",
       "      <td>12.367491</td>\n",
       "    </tr>\n",
       "    <tr>\n",
       "      <th>4</th>\n",
       "      <td>R$4k-6k</td>\n",
       "      <td>Analista Dados</td>\n",
       "      <td>23.085984</td>\n",
       "    </tr>\n",
       "    <tr>\n",
       "      <th>5</th>\n",
       "      <td>R$6k-8k</td>\n",
       "      <td>Analista Dados</td>\n",
       "      <td>16.843345</td>\n",
       "    </tr>\n",
       "    <tr>\n",
       "      <th>6</th>\n",
       "      <td>R$8k-12k</td>\n",
       "      <td>Analista Dados</td>\n",
       "      <td>17.667845</td>\n",
       "    </tr>\n",
       "    <tr>\n",
       "      <th>7</th>\n",
       "      <td>R$12k-16k</td>\n",
       "      <td>Analista Dados</td>\n",
       "      <td>5.418139</td>\n",
       "    </tr>\n",
       "    <tr>\n",
       "      <th>8</th>\n",
       "      <td>R$16k-20k</td>\n",
       "      <td>Analista Dados</td>\n",
       "      <td>1.531213</td>\n",
       "    </tr>\n",
       "    <tr>\n",
       "      <th>9</th>\n",
       "      <td>R$20k-25k</td>\n",
       "      <td>Analista Dados</td>\n",
       "      <td>0.824499</td>\n",
       "    </tr>\n",
       "    <tr>\n",
       "      <th>10</th>\n",
       "      <td>R$25k-30k</td>\n",
       "      <td>Analista Dados</td>\n",
       "      <td>0.353357</td>\n",
       "    </tr>\n",
       "    <tr>\n",
       "      <th>11</th>\n",
       "      <td>R$30k-40k</td>\n",
       "      <td>Analista Dados</td>\n",
       "      <td>0.235571</td>\n",
       "    </tr>\n",
       "    <tr>\n",
       "      <th>12</th>\n",
       "      <td>R$40k+</td>\n",
       "      <td>Analista Dados</td>\n",
       "      <td>0.117786</td>\n",
       "    </tr>\n",
       "    <tr>\n",
       "      <th>13</th>\n",
       "      <td>até R$1k</td>\n",
       "      <td>Cientista Dados</td>\n",
       "      <td>1.699029</td>\n",
       "    </tr>\n",
       "    <tr>\n",
       "      <th>14</th>\n",
       "      <td>R$1k-2k</td>\n",
       "      <td>Cientista Dados</td>\n",
       "      <td>6.067961</td>\n",
       "    </tr>\n",
       "    <tr>\n",
       "      <th>15</th>\n",
       "      <td>R$2k-3k</td>\n",
       "      <td>Cientista Dados</td>\n",
       "      <td>3.883495</td>\n",
       "    </tr>\n",
       "    <tr>\n",
       "      <th>16</th>\n",
       "      <td>R$3k-4k</td>\n",
       "      <td>Cientista Dados</td>\n",
       "      <td>5.582524</td>\n",
       "    </tr>\n",
       "    <tr>\n",
       "      <th>17</th>\n",
       "      <td>R$4k-6k</td>\n",
       "      <td>Cientista Dados</td>\n",
       "      <td>16.747573</td>\n",
       "    </tr>\n",
       "    <tr>\n",
       "      <th>18</th>\n",
       "      <td>R$6k-8k</td>\n",
       "      <td>Cientista Dados</td>\n",
       "      <td>20.388350</td>\n",
       "    </tr>\n",
       "    <tr>\n",
       "      <th>19</th>\n",
       "      <td>R$8k-12k</td>\n",
       "      <td>Cientista Dados</td>\n",
       "      <td>24.271845</td>\n",
       "    </tr>\n",
       "    <tr>\n",
       "      <th>20</th>\n",
       "      <td>R$12k-16k</td>\n",
       "      <td>Cientista Dados</td>\n",
       "      <td>11.165049</td>\n",
       "    </tr>\n",
       "    <tr>\n",
       "      <th>21</th>\n",
       "      <td>R$16k-20k</td>\n",
       "      <td>Cientista Dados</td>\n",
       "      <td>4.854369</td>\n",
       "    </tr>\n",
       "    <tr>\n",
       "      <th>22</th>\n",
       "      <td>R$20k-25k</td>\n",
       "      <td>Cientista Dados</td>\n",
       "      <td>1.699029</td>\n",
       "    </tr>\n",
       "    <tr>\n",
       "      <th>23</th>\n",
       "      <td>R$25k-30k</td>\n",
       "      <td>Cientista Dados</td>\n",
       "      <td>1.699029</td>\n",
       "    </tr>\n",
       "    <tr>\n",
       "      <th>24</th>\n",
       "      <td>R$30k-40k</td>\n",
       "      <td>Cientista Dados</td>\n",
       "      <td>0.970874</td>\n",
       "    </tr>\n",
       "    <tr>\n",
       "      <th>25</th>\n",
       "      <td>R$40k+</td>\n",
       "      <td>Cientista Dados</td>\n",
       "      <td>0.970874</td>\n",
       "    </tr>\n",
       "    <tr>\n",
       "      <th>26</th>\n",
       "      <td>até R$1k</td>\n",
       "      <td>Engenheiro Dados</td>\n",
       "      <td>0.247525</td>\n",
       "    </tr>\n",
       "    <tr>\n",
       "      <th>27</th>\n",
       "      <td>R$1k-2k</td>\n",
       "      <td>Engenheiro Dados</td>\n",
       "      <td>2.475248</td>\n",
       "    </tr>\n",
       "    <tr>\n",
       "      <th>28</th>\n",
       "      <td>R$2k-3k</td>\n",
       "      <td>Engenheiro Dados</td>\n",
       "      <td>4.950495</td>\n",
       "    </tr>\n",
       "    <tr>\n",
       "      <th>29</th>\n",
       "      <td>R$3k-4k</td>\n",
       "      <td>Engenheiro Dados</td>\n",
       "      <td>6.930693</td>\n",
       "    </tr>\n",
       "    <tr>\n",
       "      <th>30</th>\n",
       "      <td>R$4k-6k</td>\n",
       "      <td>Engenheiro Dados</td>\n",
       "      <td>15.841584</td>\n",
       "    </tr>\n",
       "    <tr>\n",
       "      <th>31</th>\n",
       "      <td>R$6k-8k</td>\n",
       "      <td>Engenheiro Dados</td>\n",
       "      <td>20.049505</td>\n",
       "    </tr>\n",
       "    <tr>\n",
       "      <th>32</th>\n",
       "      <td>R$8k-12k</td>\n",
       "      <td>Engenheiro Dados</td>\n",
       "      <td>23.019802</td>\n",
       "    </tr>\n",
       "    <tr>\n",
       "      <th>33</th>\n",
       "      <td>R$12k-16k</td>\n",
       "      <td>Engenheiro Dados</td>\n",
       "      <td>13.861386</td>\n",
       "    </tr>\n",
       "    <tr>\n",
       "      <th>34</th>\n",
       "      <td>R$16k-20k</td>\n",
       "      <td>Engenheiro Dados</td>\n",
       "      <td>4.950495</td>\n",
       "    </tr>\n",
       "    <tr>\n",
       "      <th>35</th>\n",
       "      <td>R$20k-25k</td>\n",
       "      <td>Engenheiro Dados</td>\n",
       "      <td>1.237624</td>\n",
       "    </tr>\n",
       "    <tr>\n",
       "      <th>36</th>\n",
       "      <td>R$25k-30k</td>\n",
       "      <td>Engenheiro Dados</td>\n",
       "      <td>1.485149</td>\n",
       "    </tr>\n",
       "    <tr>\n",
       "      <th>37</th>\n",
       "      <td>R$30k-40k</td>\n",
       "      <td>Engenheiro Dados</td>\n",
       "      <td>3.217822</td>\n",
       "    </tr>\n",
       "    <tr>\n",
       "      <th>38</th>\n",
       "      <td>R$40k+</td>\n",
       "      <td>Engenheiro Dados</td>\n",
       "      <td>1.732673</td>\n",
       "    </tr>\n",
       "  </tbody>\n",
       "</table>\n",
       "</div>"
      ],
      "text/plain": [
       "   ('P2_h ', 'Faixa salarial')         profissao      value\n",
       "0                     até R$1k    Analista Dados   1.531213\n",
       "1                      R$1k-2k    Analista Dados   7.538280\n",
       "2                      R$2k-3k    Analista Dados  12.485277\n",
       "3                      R$3k-4k    Analista Dados  12.367491\n",
       "4                      R$4k-6k    Analista Dados  23.085984\n",
       "5                      R$6k-8k    Analista Dados  16.843345\n",
       "6                     R$8k-12k    Analista Dados  17.667845\n",
       "7                    R$12k-16k    Analista Dados   5.418139\n",
       "8                    R$16k-20k    Analista Dados   1.531213\n",
       "9                    R$20k-25k    Analista Dados   0.824499\n",
       "10                   R$25k-30k    Analista Dados   0.353357\n",
       "11                   R$30k-40k    Analista Dados   0.235571\n",
       "12                      R$40k+    Analista Dados   0.117786\n",
       "13                    até R$1k   Cientista Dados   1.699029\n",
       "14                     R$1k-2k   Cientista Dados   6.067961\n",
       "15                     R$2k-3k   Cientista Dados   3.883495\n",
       "16                     R$3k-4k   Cientista Dados   5.582524\n",
       "17                     R$4k-6k   Cientista Dados  16.747573\n",
       "18                     R$6k-8k   Cientista Dados  20.388350\n",
       "19                    R$8k-12k   Cientista Dados  24.271845\n",
       "20                   R$12k-16k   Cientista Dados  11.165049\n",
       "21                   R$16k-20k   Cientista Dados   4.854369\n",
       "22                   R$20k-25k   Cientista Dados   1.699029\n",
       "23                   R$25k-30k   Cientista Dados   1.699029\n",
       "24                   R$30k-40k   Cientista Dados   0.970874\n",
       "25                      R$40k+   Cientista Dados   0.970874\n",
       "26                    até R$1k  Engenheiro Dados   0.247525\n",
       "27                     R$1k-2k  Engenheiro Dados   2.475248\n",
       "28                     R$2k-3k  Engenheiro Dados   4.950495\n",
       "29                     R$3k-4k  Engenheiro Dados   6.930693\n",
       "30                     R$4k-6k  Engenheiro Dados  15.841584\n",
       "31                     R$6k-8k  Engenheiro Dados  20.049505\n",
       "32                    R$8k-12k  Engenheiro Dados  23.019802\n",
       "33                   R$12k-16k  Engenheiro Dados  13.861386\n",
       "34                   R$16k-20k  Engenheiro Dados   4.950495\n",
       "35                   R$20k-25k  Engenheiro Dados   1.237624\n",
       "36                   R$25k-30k  Engenheiro Dados   1.485149\n",
       "37                   R$30k-40k  Engenheiro Dados   3.217822\n",
       "38                      R$40k+  Engenheiro Dados   1.732673"
      ]
     },
     "execution_count": 128,
     "metadata": {},
     "output_type": "execute_result"
    }
   ],
   "source": [
    "prof_sal_cross_melt = prof_sal_cross.melt(id_vars=\"('P2_h ', 'Faixa salarial')\")\n",
    "prof_sal_cross_melt"
   ]
  },
  {
   "cell_type": "code",
   "execution_count": 129,
   "metadata": {},
   "outputs": [],
   "source": [
    "prof_sal_cross_melt[\"salario\"] = prof_sal_cross_melt[\"('P2_h ', 'Faixa salarial')\"].replace({'até R$1k':' < R$2k', 'R$1k-2k':' < R$2k', 'R$25k-30k': 'R$20k+', 'R$40k+':'R$20k+',  'R$30k-40k':'R$20k+', 'R$20k-25k':'R$20k+'})"
   ]
  },
  {
   "cell_type": "code",
   "execution_count": 94,
   "metadata": {},
   "outputs": [
    {
     "data": {
      "text/plain": [
       "['R$4k-6k', 'R$6k-8k', 'R$8k-12k', 'R$12k-16k', 'R$3k-4k', ..., 'R$25k-30k', 'R$1k-2k', 'R$2k-3k', 'até R$1k', NaN]\n",
       "Length: 14\n",
       "Categories (13, object): ['até R$1k' < 'R$1k-2k' < 'R$2k-3k' < 'R$3k-4k' ... 'R$20k-25k' < 'R$25k-30k' < 'R$30k-40k' < 'R$40k+']"
      ]
     },
     "execution_count": 94,
     "metadata": {},
     "output_type": "execute_result"
    }
   ],
   "source": [
    "df[\"('P2_h ', 'Faixa salarial')\"].unique()"
   ]
  },
  {
   "cell_type": "code",
   "execution_count": 143,
   "metadata": {},
   "outputs": [
    {
     "data": {
      "application/vnd.plotly.v1+json": {
       "config": {
        "plotlyServerURL": "https://plot.ly"
       },
       "data": [
        {
         "alignmentgroup": "True",
         "hovertemplate": "salario= < R$2k<br>profissao=%{x}<br>value=%{y}<extra></extra>",
         "legendgroup": " < R$2k",
         "marker": {
          "color": "rgb(255,255,204)",
          "line": {
           "width": 0
          },
          "pattern": {
           "shape": ""
          }
         },
         "name": " < R$2k",
         "offsetgroup": " < R$2k",
         "orientation": "v",
         "showlegend": true,
         "textposition": "auto",
         "type": "bar",
         "x": [
          "Analista Dados",
          "Analista Dados",
          "Cientista Dados",
          "Cientista Dados",
          "Engenheiro Dados",
          "Engenheiro Dados"
         ],
         "xaxis": "x",
         "y": [
          1.5312131919905771,
          7.538280329799764,
          1.6990291262135921,
          6.067961165048544,
          0.24752475247524752,
          2.4752475247524752
         ],
         "yaxis": "y"
        },
        {
         "alignmentgroup": "True",
         "hovertemplate": "salario=R$2k-3k<br>profissao=%{x}<br>value=%{y}<extra></extra>",
         "legendgroup": "R$2k-3k",
         "marker": {
          "color": "rgb(255,237,160)",
          "line": {
           "width": 0
          },
          "pattern": {
           "shape": ""
          }
         },
         "name": "R$2k-3k",
         "offsetgroup": "R$2k-3k",
         "orientation": "v",
         "showlegend": true,
         "textposition": "auto",
         "type": "bar",
         "x": [
          "Analista Dados",
          "Cientista Dados",
          "Engenheiro Dados"
         ],
         "xaxis": "x",
         "y": [
          12.48527679623086,
          3.8834951456310676,
          4.9504950495049505
         ],
         "yaxis": "y"
        },
        {
         "alignmentgroup": "True",
         "hovertemplate": "salario=R$3k-4k<br>profissao=%{x}<br>value=%{y}<extra></extra>",
         "legendgroup": "R$3k-4k",
         "marker": {
          "color": "rgb(254,217,118)",
          "line": {
           "width": 0
          },
          "pattern": {
           "shape": ""
          }
         },
         "name": "R$3k-4k",
         "offsetgroup": "R$3k-4k",
         "orientation": "v",
         "showlegend": true,
         "textposition": "auto",
         "type": "bar",
         "x": [
          "Analista Dados",
          "Cientista Dados",
          "Engenheiro Dados"
         ],
         "xaxis": "x",
         "y": [
          12.36749116607774,
          5.582524271844661,
          6.9306930693069315
         ],
         "yaxis": "y"
        },
        {
         "alignmentgroup": "True",
         "hovertemplate": "salario=R$4k-6k<br>profissao=%{x}<br>value=%{y}<extra></extra>",
         "legendgroup": "R$4k-6k",
         "marker": {
          "color": "rgb(254,178,76)",
          "line": {
           "width": 0
          },
          "pattern": {
           "shape": ""
          }
         },
         "name": "R$4k-6k",
         "offsetgroup": "R$4k-6k",
         "orientation": "v",
         "showlegend": true,
         "textposition": "auto",
         "type": "bar",
         "x": [
          "Analista Dados",
          "Cientista Dados",
          "Engenheiro Dados"
         ],
         "xaxis": "x",
         "y": [
          23.08598351001178,
          16.74757281553398,
          15.841584158415841
         ],
         "yaxis": "y"
        },
        {
         "alignmentgroup": "True",
         "hovertemplate": "salario=R$6k-8k<br>profissao=%{x}<br>value=%{y}<extra></extra>",
         "legendgroup": "R$6k-8k",
         "marker": {
          "color": "rgb(253,141,60)",
          "line": {
           "width": 0
          },
          "pattern": {
           "shape": ""
          }
         },
         "name": "R$6k-8k",
         "offsetgroup": "R$6k-8k",
         "orientation": "v",
         "showlegend": true,
         "textposition": "auto",
         "type": "bar",
         "x": [
          "Analista Dados",
          "Cientista Dados",
          "Engenheiro Dados"
         ],
         "xaxis": "x",
         "y": [
          16.843345111896348,
          20.388349514563107,
          20.049504950495052
         ],
         "yaxis": "y"
        },
        {
         "alignmentgroup": "True",
         "hovertemplate": "salario=R$8k-12k<br>profissao=%{x}<br>value=%{y}<extra></extra>",
         "legendgroup": "R$8k-12k",
         "marker": {
          "color": "rgb(252,78,42)",
          "line": {
           "width": 0
          },
          "pattern": {
           "shape": ""
          }
         },
         "name": "R$8k-12k",
         "offsetgroup": "R$8k-12k",
         "orientation": "v",
         "showlegend": true,
         "textposition": "auto",
         "type": "bar",
         "x": [
          "Analista Dados",
          "Cientista Dados",
          "Engenheiro Dados"
         ],
         "xaxis": "x",
         "y": [
          17.6678445229682,
          24.271844660194176,
          23.01980198019802
         ],
         "yaxis": "y"
        },
        {
         "alignmentgroup": "True",
         "hovertemplate": "salario=R$12k-16k<br>profissao=%{x}<br>value=%{y}<extra></extra>",
         "legendgroup": "R$12k-16k",
         "marker": {
          "color": "rgb(227,26,28)",
          "line": {
           "width": 0
          },
          "pattern": {
           "shape": ""
          }
         },
         "name": "R$12k-16k",
         "offsetgroup": "R$12k-16k",
         "orientation": "v",
         "showlegend": true,
         "textposition": "auto",
         "type": "bar",
         "x": [
          "Analista Dados",
          "Cientista Dados",
          "Engenheiro Dados"
         ],
         "xaxis": "x",
         "y": [
          5.418138987043581,
          11.165048543689322,
          13.861386138613863
         ],
         "yaxis": "y"
        },
        {
         "alignmentgroup": "True",
         "hovertemplate": "salario=R$16k-20k<br>profissao=%{x}<br>value=%{y}<extra></extra>",
         "legendgroup": "R$16k-20k",
         "marker": {
          "color": "rgb(189,0,38)",
          "line": {
           "width": 0
          },
          "pattern": {
           "shape": ""
          }
         },
         "name": "R$16k-20k",
         "offsetgroup": "R$16k-20k",
         "orientation": "v",
         "showlegend": true,
         "textposition": "auto",
         "type": "bar",
         "x": [
          "Analista Dados",
          "Cientista Dados",
          "Engenheiro Dados"
         ],
         "xaxis": "x",
         "y": [
          1.5312131919905771,
          4.854368932038835,
          4.9504950495049505
         ],
         "yaxis": "y"
        },
        {
         "alignmentgroup": "True",
         "hovertemplate": "salario=R$20k+<br>profissao=%{x}<br>value=%{y}<extra></extra>",
         "legendgroup": "R$20k+",
         "marker": {
          "color": "rgb(128,0,38)",
          "line": {
           "width": 0
          },
          "pattern": {
           "shape": ""
          }
         },
         "name": "R$20k+",
         "offsetgroup": "R$20k+",
         "orientation": "v",
         "showlegend": true,
         "textposition": "auto",
         "type": "bar",
         "x": [
          "Analista Dados",
          "Analista Dados",
          "Analista Dados",
          "Analista Dados",
          "Cientista Dados",
          "Cientista Dados",
          "Cientista Dados",
          "Cientista Dados",
          "Engenheiro Dados",
          "Engenheiro Dados",
          "Engenheiro Dados",
          "Engenheiro Dados"
         ],
         "xaxis": "x",
         "y": [
          0.8244994110718492,
          0.35335689045936397,
          0.23557126030624262,
          0.11778563015312131,
          1.6990291262135921,
          1.6990291262135921,
          0.9708737864077669,
          0.9708737864077669,
          1.2376237623762376,
          1.4851485148514851,
          3.217821782178218,
          1.7326732673267329
         ],
         "yaxis": "y"
        }
       ],
       "layout": {
        "barmode": "stack",
        "legend": {
         "title": {
          "text": "salario"
         },
         "tracegroupgap": 0
        },
        "margin": {
         "t": 60
        },
        "template": {
         "data": {
          "bar": [
           {
            "error_x": {
             "color": "#2a3f5f"
            },
            "error_y": {
             "color": "#2a3f5f"
            },
            "marker": {
             "line": {
              "color": "#E5ECF6",
              "width": 0.5
             },
             "pattern": {
              "fillmode": "overlay",
              "size": 10,
              "solidity": 0.2
             }
            },
            "type": "bar"
           }
          ],
          "barpolar": [
           {
            "marker": {
             "line": {
              "color": "#E5ECF6",
              "width": 0.5
             },
             "pattern": {
              "fillmode": "overlay",
              "size": 10,
              "solidity": 0.2
             }
            },
            "type": "barpolar"
           }
          ],
          "carpet": [
           {
            "aaxis": {
             "endlinecolor": "#2a3f5f",
             "gridcolor": "white",
             "linecolor": "white",
             "minorgridcolor": "white",
             "startlinecolor": "#2a3f5f"
            },
            "baxis": {
             "endlinecolor": "#2a3f5f",
             "gridcolor": "white",
             "linecolor": "white",
             "minorgridcolor": "white",
             "startlinecolor": "#2a3f5f"
            },
            "type": "carpet"
           }
          ],
          "choropleth": [
           {
            "colorbar": {
             "outlinewidth": 0,
             "ticks": ""
            },
            "type": "choropleth"
           }
          ],
          "contour": [
           {
            "colorbar": {
             "outlinewidth": 0,
             "ticks": ""
            },
            "colorscale": [
             [
              0,
              "#0d0887"
             ],
             [
              0.1111111111111111,
              "#46039f"
             ],
             [
              0.2222222222222222,
              "#7201a8"
             ],
             [
              0.3333333333333333,
              "#9c179e"
             ],
             [
              0.4444444444444444,
              "#bd3786"
             ],
             [
              0.5555555555555556,
              "#d8576b"
             ],
             [
              0.6666666666666666,
              "#ed7953"
             ],
             [
              0.7777777777777778,
              "#fb9f3a"
             ],
             [
              0.8888888888888888,
              "#fdca26"
             ],
             [
              1,
              "#f0f921"
             ]
            ],
            "type": "contour"
           }
          ],
          "contourcarpet": [
           {
            "colorbar": {
             "outlinewidth": 0,
             "ticks": ""
            },
            "type": "contourcarpet"
           }
          ],
          "heatmap": [
           {
            "colorbar": {
             "outlinewidth": 0,
             "ticks": ""
            },
            "colorscale": [
             [
              0,
              "#0d0887"
             ],
             [
              0.1111111111111111,
              "#46039f"
             ],
             [
              0.2222222222222222,
              "#7201a8"
             ],
             [
              0.3333333333333333,
              "#9c179e"
             ],
             [
              0.4444444444444444,
              "#bd3786"
             ],
             [
              0.5555555555555556,
              "#d8576b"
             ],
             [
              0.6666666666666666,
              "#ed7953"
             ],
             [
              0.7777777777777778,
              "#fb9f3a"
             ],
             [
              0.8888888888888888,
              "#fdca26"
             ],
             [
              1,
              "#f0f921"
             ]
            ],
            "type": "heatmap"
           }
          ],
          "heatmapgl": [
           {
            "colorbar": {
             "outlinewidth": 0,
             "ticks": ""
            },
            "colorscale": [
             [
              0,
              "#0d0887"
             ],
             [
              0.1111111111111111,
              "#46039f"
             ],
             [
              0.2222222222222222,
              "#7201a8"
             ],
             [
              0.3333333333333333,
              "#9c179e"
             ],
             [
              0.4444444444444444,
              "#bd3786"
             ],
             [
              0.5555555555555556,
              "#d8576b"
             ],
             [
              0.6666666666666666,
              "#ed7953"
             ],
             [
              0.7777777777777778,
              "#fb9f3a"
             ],
             [
              0.8888888888888888,
              "#fdca26"
             ],
             [
              1,
              "#f0f921"
             ]
            ],
            "type": "heatmapgl"
           }
          ],
          "histogram": [
           {
            "marker": {
             "pattern": {
              "fillmode": "overlay",
              "size": 10,
              "solidity": 0.2
             }
            },
            "type": "histogram"
           }
          ],
          "histogram2d": [
           {
            "colorbar": {
             "outlinewidth": 0,
             "ticks": ""
            },
            "colorscale": [
             [
              0,
              "#0d0887"
             ],
             [
              0.1111111111111111,
              "#46039f"
             ],
             [
              0.2222222222222222,
              "#7201a8"
             ],
             [
              0.3333333333333333,
              "#9c179e"
             ],
             [
              0.4444444444444444,
              "#bd3786"
             ],
             [
              0.5555555555555556,
              "#d8576b"
             ],
             [
              0.6666666666666666,
              "#ed7953"
             ],
             [
              0.7777777777777778,
              "#fb9f3a"
             ],
             [
              0.8888888888888888,
              "#fdca26"
             ],
             [
              1,
              "#f0f921"
             ]
            ],
            "type": "histogram2d"
           }
          ],
          "histogram2dcontour": [
           {
            "colorbar": {
             "outlinewidth": 0,
             "ticks": ""
            },
            "colorscale": [
             [
              0,
              "#0d0887"
             ],
             [
              0.1111111111111111,
              "#46039f"
             ],
             [
              0.2222222222222222,
              "#7201a8"
             ],
             [
              0.3333333333333333,
              "#9c179e"
             ],
             [
              0.4444444444444444,
              "#bd3786"
             ],
             [
              0.5555555555555556,
              "#d8576b"
             ],
             [
              0.6666666666666666,
              "#ed7953"
             ],
             [
              0.7777777777777778,
              "#fb9f3a"
             ],
             [
              0.8888888888888888,
              "#fdca26"
             ],
             [
              1,
              "#f0f921"
             ]
            ],
            "type": "histogram2dcontour"
           }
          ],
          "mesh3d": [
           {
            "colorbar": {
             "outlinewidth": 0,
             "ticks": ""
            },
            "type": "mesh3d"
           }
          ],
          "parcoords": [
           {
            "line": {
             "colorbar": {
              "outlinewidth": 0,
              "ticks": ""
             }
            },
            "type": "parcoords"
           }
          ],
          "pie": [
           {
            "automargin": true,
            "type": "pie"
           }
          ],
          "scatter": [
           {
            "marker": {
             "colorbar": {
              "outlinewidth": 0,
              "ticks": ""
             }
            },
            "type": "scatter"
           }
          ],
          "scatter3d": [
           {
            "line": {
             "colorbar": {
              "outlinewidth": 0,
              "ticks": ""
             }
            },
            "marker": {
             "colorbar": {
              "outlinewidth": 0,
              "ticks": ""
             }
            },
            "type": "scatter3d"
           }
          ],
          "scattercarpet": [
           {
            "marker": {
             "colorbar": {
              "outlinewidth": 0,
              "ticks": ""
             }
            },
            "type": "scattercarpet"
           }
          ],
          "scattergeo": [
           {
            "marker": {
             "colorbar": {
              "outlinewidth": 0,
              "ticks": ""
             }
            },
            "type": "scattergeo"
           }
          ],
          "scattergl": [
           {
            "marker": {
             "colorbar": {
              "outlinewidth": 0,
              "ticks": ""
             }
            },
            "type": "scattergl"
           }
          ],
          "scattermapbox": [
           {
            "marker": {
             "colorbar": {
              "outlinewidth": 0,
              "ticks": ""
             }
            },
            "type": "scattermapbox"
           }
          ],
          "scatterpolar": [
           {
            "marker": {
             "colorbar": {
              "outlinewidth": 0,
              "ticks": ""
             }
            },
            "type": "scatterpolar"
           }
          ],
          "scatterpolargl": [
           {
            "marker": {
             "colorbar": {
              "outlinewidth": 0,
              "ticks": ""
             }
            },
            "type": "scatterpolargl"
           }
          ],
          "scatterternary": [
           {
            "marker": {
             "colorbar": {
              "outlinewidth": 0,
              "ticks": ""
             }
            },
            "type": "scatterternary"
           }
          ],
          "surface": [
           {
            "colorbar": {
             "outlinewidth": 0,
             "ticks": ""
            },
            "colorscale": [
             [
              0,
              "#0d0887"
             ],
             [
              0.1111111111111111,
              "#46039f"
             ],
             [
              0.2222222222222222,
              "#7201a8"
             ],
             [
              0.3333333333333333,
              "#9c179e"
             ],
             [
              0.4444444444444444,
              "#bd3786"
             ],
             [
              0.5555555555555556,
              "#d8576b"
             ],
             [
              0.6666666666666666,
              "#ed7953"
             ],
             [
              0.7777777777777778,
              "#fb9f3a"
             ],
             [
              0.8888888888888888,
              "#fdca26"
             ],
             [
              1,
              "#f0f921"
             ]
            ],
            "type": "surface"
           }
          ],
          "table": [
           {
            "cells": {
             "fill": {
              "color": "#EBF0F8"
             },
             "line": {
              "color": "white"
             }
            },
            "header": {
             "fill": {
              "color": "#C8D4E3"
             },
             "line": {
              "color": "white"
             }
            },
            "type": "table"
           }
          ]
         },
         "layout": {
          "annotationdefaults": {
           "arrowcolor": "#2a3f5f",
           "arrowhead": 0,
           "arrowwidth": 1
          },
          "autotypenumbers": "strict",
          "coloraxis": {
           "colorbar": {
            "outlinewidth": 0,
            "ticks": ""
           }
          },
          "colorscale": {
           "diverging": [
            [
             0,
             "#8e0152"
            ],
            [
             0.1,
             "#c51b7d"
            ],
            [
             0.2,
             "#de77ae"
            ],
            [
             0.3,
             "#f1b6da"
            ],
            [
             0.4,
             "#fde0ef"
            ],
            [
             0.5,
             "#f7f7f7"
            ],
            [
             0.6,
             "#e6f5d0"
            ],
            [
             0.7,
             "#b8e186"
            ],
            [
             0.8,
             "#7fbc41"
            ],
            [
             0.9,
             "#4d9221"
            ],
            [
             1,
             "#276419"
            ]
           ],
           "sequential": [
            [
             0,
             "#0d0887"
            ],
            [
             0.1111111111111111,
             "#46039f"
            ],
            [
             0.2222222222222222,
             "#7201a8"
            ],
            [
             0.3333333333333333,
             "#9c179e"
            ],
            [
             0.4444444444444444,
             "#bd3786"
            ],
            [
             0.5555555555555556,
             "#d8576b"
            ],
            [
             0.6666666666666666,
             "#ed7953"
            ],
            [
             0.7777777777777778,
             "#fb9f3a"
            ],
            [
             0.8888888888888888,
             "#fdca26"
            ],
            [
             1,
             "#f0f921"
            ]
           ],
           "sequentialminus": [
            [
             0,
             "#0d0887"
            ],
            [
             0.1111111111111111,
             "#46039f"
            ],
            [
             0.2222222222222222,
             "#7201a8"
            ],
            [
             0.3333333333333333,
             "#9c179e"
            ],
            [
             0.4444444444444444,
             "#bd3786"
            ],
            [
             0.5555555555555556,
             "#d8576b"
            ],
            [
             0.6666666666666666,
             "#ed7953"
            ],
            [
             0.7777777777777778,
             "#fb9f3a"
            ],
            [
             0.8888888888888888,
             "#fdca26"
            ],
            [
             1,
             "#f0f921"
            ]
           ]
          },
          "colorway": [
           "#636efa",
           "#EF553B",
           "#00cc96",
           "#ab63fa",
           "#FFA15A",
           "#19d3f3",
           "#FF6692",
           "#B6E880",
           "#FF97FF",
           "#FECB52"
          ],
          "font": {
           "color": "#2a3f5f"
          },
          "geo": {
           "bgcolor": "white",
           "lakecolor": "white",
           "landcolor": "#E5ECF6",
           "showlakes": true,
           "showland": true,
           "subunitcolor": "white"
          },
          "hoverlabel": {
           "align": "left"
          },
          "hovermode": "closest",
          "mapbox": {
           "style": "light"
          },
          "paper_bgcolor": "white",
          "plot_bgcolor": "#E5ECF6",
          "polar": {
           "angularaxis": {
            "gridcolor": "white",
            "linecolor": "white",
            "ticks": ""
           },
           "bgcolor": "#E5ECF6",
           "radialaxis": {
            "gridcolor": "white",
            "linecolor": "white",
            "ticks": ""
           }
          },
          "scene": {
           "xaxis": {
            "backgroundcolor": "#E5ECF6",
            "gridcolor": "white",
            "gridwidth": 2,
            "linecolor": "white",
            "showbackground": true,
            "ticks": "",
            "zerolinecolor": "white"
           },
           "yaxis": {
            "backgroundcolor": "#E5ECF6",
            "gridcolor": "white",
            "gridwidth": 2,
            "linecolor": "white",
            "showbackground": true,
            "ticks": "",
            "zerolinecolor": "white"
           },
           "zaxis": {
            "backgroundcolor": "#E5ECF6",
            "gridcolor": "white",
            "gridwidth": 2,
            "linecolor": "white",
            "showbackground": true,
            "ticks": "",
            "zerolinecolor": "white"
           }
          },
          "shapedefaults": {
           "line": {
            "color": "#2a3f5f"
           }
          },
          "ternary": {
           "aaxis": {
            "gridcolor": "white",
            "linecolor": "white",
            "ticks": ""
           },
           "baxis": {
            "gridcolor": "white",
            "linecolor": "white",
            "ticks": ""
           },
           "bgcolor": "#E5ECF6",
           "caxis": {
            "gridcolor": "white",
            "linecolor": "white",
            "ticks": ""
           }
          },
          "title": {
           "x": 0.05
          },
          "xaxis": {
           "automargin": true,
           "gridcolor": "white",
           "linecolor": "white",
           "ticks": "",
           "title": {
            "standoff": 15
           },
           "zerolinecolor": "white",
           "zerolinewidth": 2
          },
          "yaxis": {
           "automargin": true,
           "gridcolor": "white",
           "linecolor": "white",
           "ticks": "",
           "title": {
            "standoff": 15
           },
           "zerolinecolor": "white",
           "zerolinewidth": 2
          }
         }
        },
        "xaxis": {
         "anchor": "y",
         "domain": [
          0,
          1
         ],
         "title": {
          "text": "profissao"
         }
        },
        "yaxis": {
         "anchor": "x",
         "domain": [
          0,
          1
         ],
         "title": {
          "text": "value"
         }
        }
       }
      }
     },
     "metadata": {},
     "output_type": "display_data"
    }
   ],
   "source": [
    "#long_df = px.data.medals_long()\n",
    "\n",
    "fig =px.bar(prof_sal_cross_melt, y='value',color=\"salario\", x='profissao', color_discrete_sequence= px.colors.sequential.YlOrRd)\n",
    "fig.update_layout(barmode='stack')\n",
    "fig.update_traces(marker_line_width=0)\n",
    "fig.show()"
   ]
  },
  {
   "cell_type": "code",
   "execution_count": 118,
   "metadata": {},
   "outputs": [
    {
     "data": {
      "text/plain": [
       "array([' < R$2k', 'R$12k-16k', 'R$16k-20k', 'R$20k+', 'R$2k-3k',\n",
       "       'R$3k-4k', 'R$4k-6k', 'R$6k-8k', 'R$8k-12k'], dtype=object)"
      ]
     },
     "execution_count": 118,
     "metadata": {},
     "output_type": "execute_result"
    }
   ],
   "source": [
    "prof_sal_cross['salario'].unique()"
   ]
  },
  {
   "cell_type": "code",
   "execution_count": 121,
   "metadata": {},
   "outputs": [],
   "source": [
    "salary_range = [' < R$2k',\n",
    "                     \"R$2k-3k\",\n",
    "                     \"R$3k-4k\", \n",
    "                     \"R$4k-6k\",\n",
    "                     \"R$6k-8k\",\n",
    "                     \"R$8k-12k\",\n",
    "                     \"R$12k-16k\",\n",
    "                     \"R$16k-20k\",\n",
    "                    'R$20k+'\n",
    "]\n",
    "prof_sal_cross_melt[\"salario\"] = pd.Categorical(prof_sal_cross_melt[\"salario\"], ordered=True, categories=salary_range)"
   ]
  },
  {
   "cell_type": "code",
   "execution_count": 146,
   "metadata": {},
   "outputs": [
    {
     "data": {
      "text/html": [
       "<div>\n",
       "<style scoped>\n",
       "    .dataframe tbody tr th:only-of-type {\n",
       "        vertical-align: middle;\n",
       "    }\n",
       "\n",
       "    .dataframe tbody tr th {\n",
       "        vertical-align: top;\n",
       "    }\n",
       "\n",
       "    .dataframe thead th {\n",
       "        text-align: right;\n",
       "    }\n",
       "</style>\n",
       "<table border=\"1\" class=\"dataframe\">\n",
       "  <thead>\n",
       "    <tr style=\"text-align: right;\">\n",
       "      <th></th>\n",
       "      <th>('P4_e ', 'Entre as linguagens listadas abaixo, qual é a que você mais utiliza no trabalho?')</th>\n",
       "      <th>profissao</th>\n",
       "      <th>value</th>\n",
       "    </tr>\n",
       "  </thead>\n",
       "  <tbody>\n",
       "    <tr>\n",
       "      <th>0</th>\n",
       "      <td>.NET</td>\n",
       "      <td>Analista Dados</td>\n",
       "      <td>0.000000</td>\n",
       "    </tr>\n",
       "    <tr>\n",
       "      <th>1</th>\n",
       "      <td>C/C++/C#</td>\n",
       "      <td>Analista Dados</td>\n",
       "      <td>0.235571</td>\n",
       "    </tr>\n",
       "    <tr>\n",
       "      <th>2</th>\n",
       "      <td>Java</td>\n",
       "      <td>Analista Dados</td>\n",
       "      <td>0.000000</td>\n",
       "    </tr>\n",
       "    <tr>\n",
       "      <th>3</th>\n",
       "      <td>JavaScript</td>\n",
       "      <td>Analista Dados</td>\n",
       "      <td>0.824499</td>\n",
       "    </tr>\n",
       "    <tr>\n",
       "      <th>4</th>\n",
       "      <td>Matlab</td>\n",
       "      <td>Analista Dados</td>\n",
       "      <td>0.000000</td>\n",
       "    </tr>\n",
       "    <tr>\n",
       "      <th>5</th>\n",
       "      <td>Não utilizo nenhuma das linguagens listadas</td>\n",
       "      <td>Analista Dados</td>\n",
       "      <td>11.189635</td>\n",
       "    </tr>\n",
       "    <tr>\n",
       "      <th>6</th>\n",
       "      <td>PHP</td>\n",
       "      <td>Analista Dados</td>\n",
       "      <td>0.235571</td>\n",
       "    </tr>\n",
       "    <tr>\n",
       "      <th>7</th>\n",
       "      <td>Python</td>\n",
       "      <td>Analista Dados</td>\n",
       "      <td>20.848057</td>\n",
       "    </tr>\n",
       "    <tr>\n",
       "      <th>8</th>\n",
       "      <td>R</td>\n",
       "      <td>Analista Dados</td>\n",
       "      <td>4.946996</td>\n",
       "    </tr>\n",
       "    <tr>\n",
       "      <th>9</th>\n",
       "      <td>SAS/Stata</td>\n",
       "      <td>Analista Dados</td>\n",
       "      <td>1.177856</td>\n",
       "    </tr>\n",
       "    <tr>\n",
       "      <th>10</th>\n",
       "      <td>SQL</td>\n",
       "      <td>Analista Dados</td>\n",
       "      <td>55.359246</td>\n",
       "    </tr>\n",
       "    <tr>\n",
       "      <th>11</th>\n",
       "      <td>Scala</td>\n",
       "      <td>Analista Dados</td>\n",
       "      <td>0.471143</td>\n",
       "    </tr>\n",
       "    <tr>\n",
       "      <th>12</th>\n",
       "      <td>Visual Basic/VBA</td>\n",
       "      <td>Analista Dados</td>\n",
       "      <td>4.711425</td>\n",
       "    </tr>\n",
       "    <tr>\n",
       "      <th>13</th>\n",
       "      <td>.NET</td>\n",
       "      <td>Cientista Dados</td>\n",
       "      <td>0.000000</td>\n",
       "    </tr>\n",
       "    <tr>\n",
       "      <th>14</th>\n",
       "      <td>C/C++/C#</td>\n",
       "      <td>Cientista Dados</td>\n",
       "      <td>1.213592</td>\n",
       "    </tr>\n",
       "    <tr>\n",
       "      <th>15</th>\n",
       "      <td>Java</td>\n",
       "      <td>Cientista Dados</td>\n",
       "      <td>0.485437</td>\n",
       "    </tr>\n",
       "    <tr>\n",
       "      <th>16</th>\n",
       "      <td>JavaScript</td>\n",
       "      <td>Cientista Dados</td>\n",
       "      <td>0.242718</td>\n",
       "    </tr>\n",
       "    <tr>\n",
       "      <th>17</th>\n",
       "      <td>Matlab</td>\n",
       "      <td>Cientista Dados</td>\n",
       "      <td>0.242718</td>\n",
       "    </tr>\n",
       "    <tr>\n",
       "      <th>18</th>\n",
       "      <td>Não utilizo nenhuma das linguagens listadas</td>\n",
       "      <td>Cientista Dados</td>\n",
       "      <td>0.728155</td>\n",
       "    </tr>\n",
       "    <tr>\n",
       "      <th>19</th>\n",
       "      <td>PHP</td>\n",
       "      <td>Cientista Dados</td>\n",
       "      <td>0.000000</td>\n",
       "    </tr>\n",
       "    <tr>\n",
       "      <th>20</th>\n",
       "      <td>Python</td>\n",
       "      <td>Cientista Dados</td>\n",
       "      <td>76.456311</td>\n",
       "    </tr>\n",
       "    <tr>\n",
       "      <th>21</th>\n",
       "      <td>R</td>\n",
       "      <td>Cientista Dados</td>\n",
       "      <td>7.281553</td>\n",
       "    </tr>\n",
       "    <tr>\n",
       "      <th>22</th>\n",
       "      <td>SAS/Stata</td>\n",
       "      <td>Cientista Dados</td>\n",
       "      <td>1.213592</td>\n",
       "    </tr>\n",
       "    <tr>\n",
       "      <th>23</th>\n",
       "      <td>SQL</td>\n",
       "      <td>Cientista Dados</td>\n",
       "      <td>11.407767</td>\n",
       "    </tr>\n",
       "    <tr>\n",
       "      <th>24</th>\n",
       "      <td>Scala</td>\n",
       "      <td>Cientista Dados</td>\n",
       "      <td>0.485437</td>\n",
       "    </tr>\n",
       "    <tr>\n",
       "      <th>25</th>\n",
       "      <td>Visual Basic/VBA</td>\n",
       "      <td>Cientista Dados</td>\n",
       "      <td>0.242718</td>\n",
       "    </tr>\n",
       "    <tr>\n",
       "      <th>26</th>\n",
       "      <td>.NET</td>\n",
       "      <td>Engenheiro Dados</td>\n",
       "      <td>0.247525</td>\n",
       "    </tr>\n",
       "    <tr>\n",
       "      <th>27</th>\n",
       "      <td>C/C++/C#</td>\n",
       "      <td>Engenheiro Dados</td>\n",
       "      <td>0.247525</td>\n",
       "    </tr>\n",
       "    <tr>\n",
       "      <th>28</th>\n",
       "      <td>Java</td>\n",
       "      <td>Engenheiro Dados</td>\n",
       "      <td>0.495050</td>\n",
       "    </tr>\n",
       "    <tr>\n",
       "      <th>29</th>\n",
       "      <td>JavaScript</td>\n",
       "      <td>Engenheiro Dados</td>\n",
       "      <td>1.980198</td>\n",
       "    </tr>\n",
       "    <tr>\n",
       "      <th>30</th>\n",
       "      <td>Matlab</td>\n",
       "      <td>Engenheiro Dados</td>\n",
       "      <td>0.000000</td>\n",
       "    </tr>\n",
       "    <tr>\n",
       "      <th>31</th>\n",
       "      <td>Não utilizo nenhuma das linguagens listadas</td>\n",
       "      <td>Engenheiro Dados</td>\n",
       "      <td>0.742574</td>\n",
       "    </tr>\n",
       "    <tr>\n",
       "      <th>32</th>\n",
       "      <td>PHP</td>\n",
       "      <td>Engenheiro Dados</td>\n",
       "      <td>0.247525</td>\n",
       "    </tr>\n",
       "    <tr>\n",
       "      <th>33</th>\n",
       "      <td>Python</td>\n",
       "      <td>Engenheiro Dados</td>\n",
       "      <td>50.742574</td>\n",
       "    </tr>\n",
       "    <tr>\n",
       "      <th>34</th>\n",
       "      <td>R</td>\n",
       "      <td>Engenheiro Dados</td>\n",
       "      <td>0.742574</td>\n",
       "    </tr>\n",
       "    <tr>\n",
       "      <th>35</th>\n",
       "      <td>SAS/Stata</td>\n",
       "      <td>Engenheiro Dados</td>\n",
       "      <td>0.000000</td>\n",
       "    </tr>\n",
       "    <tr>\n",
       "      <th>36</th>\n",
       "      <td>SQL</td>\n",
       "      <td>Engenheiro Dados</td>\n",
       "      <td>40.594059</td>\n",
       "    </tr>\n",
       "    <tr>\n",
       "      <th>37</th>\n",
       "      <td>Scala</td>\n",
       "      <td>Engenheiro Dados</td>\n",
       "      <td>3.217822</td>\n",
       "    </tr>\n",
       "    <tr>\n",
       "      <th>38</th>\n",
       "      <td>Visual Basic/VBA</td>\n",
       "      <td>Engenheiro Dados</td>\n",
       "      <td>0.742574</td>\n",
       "    </tr>\n",
       "  </tbody>\n",
       "</table>\n",
       "</div>"
      ],
      "text/plain": [
       "   ('P4_e ', 'Entre as linguagens listadas abaixo, qual é a que você mais utiliza no trabalho?')  \\\n",
       "0                                                .NET                                              \n",
       "1                                            C/C++/C#                                              \n",
       "2                                                Java                                              \n",
       "3                                          JavaScript                                              \n",
       "4                                              Matlab                                              \n",
       "5         Não utilizo nenhuma das linguagens listadas                                              \n",
       "6                                                 PHP                                              \n",
       "7                                              Python                                              \n",
       "8                                                   R                                              \n",
       "9                                           SAS/Stata                                              \n",
       "10                                                SQL                                              \n",
       "11                                              Scala                                              \n",
       "12                                   Visual Basic/VBA                                              \n",
       "13                                               .NET                                              \n",
       "14                                           C/C++/C#                                              \n",
       "15                                               Java                                              \n",
       "16                                         JavaScript                                              \n",
       "17                                             Matlab                                              \n",
       "18        Não utilizo nenhuma das linguagens listadas                                              \n",
       "19                                                PHP                                              \n",
       "20                                             Python                                              \n",
       "21                                                  R                                              \n",
       "22                                          SAS/Stata                                              \n",
       "23                                                SQL                                              \n",
       "24                                              Scala                                              \n",
       "25                                   Visual Basic/VBA                                              \n",
       "26                                               .NET                                              \n",
       "27                                           C/C++/C#                                              \n",
       "28                                               Java                                              \n",
       "29                                         JavaScript                                              \n",
       "30                                             Matlab                                              \n",
       "31        Não utilizo nenhuma das linguagens listadas                                              \n",
       "32                                                PHP                                              \n",
       "33                                             Python                                              \n",
       "34                                                  R                                              \n",
       "35                                          SAS/Stata                                              \n",
       "36                                                SQL                                              \n",
       "37                                              Scala                                              \n",
       "38                                   Visual Basic/VBA                                              \n",
       "\n",
       "           profissao      value  \n",
       "0     Analista Dados   0.000000  \n",
       "1     Analista Dados   0.235571  \n",
       "2     Analista Dados   0.000000  \n",
       "3     Analista Dados   0.824499  \n",
       "4     Analista Dados   0.000000  \n",
       "5     Analista Dados  11.189635  \n",
       "6     Analista Dados   0.235571  \n",
       "7     Analista Dados  20.848057  \n",
       "8     Analista Dados   4.946996  \n",
       "9     Analista Dados   1.177856  \n",
       "10    Analista Dados  55.359246  \n",
       "11    Analista Dados   0.471143  \n",
       "12    Analista Dados   4.711425  \n",
       "13   Cientista Dados   0.000000  \n",
       "14   Cientista Dados   1.213592  \n",
       "15   Cientista Dados   0.485437  \n",
       "16   Cientista Dados   0.242718  \n",
       "17   Cientista Dados   0.242718  \n",
       "18   Cientista Dados   0.728155  \n",
       "19   Cientista Dados   0.000000  \n",
       "20   Cientista Dados  76.456311  \n",
       "21   Cientista Dados   7.281553  \n",
       "22   Cientista Dados   1.213592  \n",
       "23   Cientista Dados  11.407767  \n",
       "24   Cientista Dados   0.485437  \n",
       "25   Cientista Dados   0.242718  \n",
       "26  Engenheiro Dados   0.247525  \n",
       "27  Engenheiro Dados   0.247525  \n",
       "28  Engenheiro Dados   0.495050  \n",
       "29  Engenheiro Dados   1.980198  \n",
       "30  Engenheiro Dados   0.000000  \n",
       "31  Engenheiro Dados   0.742574  \n",
       "32  Engenheiro Dados   0.247525  \n",
       "33  Engenheiro Dados  50.742574  \n",
       "34  Engenheiro Dados   0.742574  \n",
       "35  Engenheiro Dados   0.000000  \n",
       "36  Engenheiro Dados  40.594059  \n",
       "37  Engenheiro Dados   3.217822  \n",
       "38  Engenheiro Dados   0.742574  "
      ]
     },
     "execution_count": 146,
     "metadata": {},
     "output_type": "execute_result"
    }
   ],
   "source": [
    "prof_lang_cross = pd.crosstab(df[\"('P4_e ', 'Entre as linguagens listadas abaixo, qual é a que você mais utiliza no trabalho?')\"],df['profissao'],normalize='columns')*100\n",
    "prof_lang_cross = prof_lang_cross.reset_index()\n",
    "prof_lang_cross_melt = prof_lang_cross.melt(id_vars=\"('P4_e ', 'Entre as linguagens listadas abaixo, qual é a que você mais utiliza no trabalho?')\")\n",
    "prof_lang_cross_melt"
   ]
  },
  {
   "cell_type": "code",
   "execution_count": 153,
   "metadata": {},
   "outputs": [
    {
     "data": {
      "text/plain": [
       "Python                                         736\n",
       "SQL                                            731\n",
       "Não utilizo nenhuma das linguagens listadas    166\n",
       "R                                               81\n",
       "Visual Basic/VBA                                46\n",
       "JavaScript                                      22\n",
       "Scala                                           19\n",
       "SAS/Stata                                       18\n",
       "C/C++/C#                                        13\n",
       "Java                                            12\n",
       "PHP                                              8\n",
       ".NET                                             4\n",
       "Matlab                                           1\n",
       "Name: ('P4_e ', 'Entre as linguagens listadas abaixo, qual é a que você mais utiliza no trabalho?'), dtype: int64"
      ]
     },
     "execution_count": 153,
     "metadata": {},
     "output_type": "execute_result"
    }
   ],
   "source": [
    "df[\"('P4_e ', 'Entre as linguagens listadas abaixo, qual é a que você mais utiliza no trabalho?')\"].value_counts()"
   ]
  },
  {
   "cell_type": "code",
   "execution_count": 154,
   "metadata": {},
   "outputs": [],
   "source": [
    "prof_lang_cross_melt[\"linguagens\"] = prof_lang_cross_melt[\"('P4_e ', 'Entre as linguagens listadas abaixo, qual é a que você mais utiliza no trabalho?')\"].replace({'Matlab':'Outros', '.NET':'Outros', 'PHP':'Outros'})"
   ]
  },
  {
   "cell_type": "code",
   "execution_count": 158,
   "metadata": {},
   "outputs": [
    {
     "data": {
      "application/vnd.plotly.v1+json": {
       "config": {
        "plotlyServerURL": "https://plot.ly"
       },
       "data": [
        {
         "alignmentgroup": "True",
         "hovertemplate": "('P4_e ', 'Entre as linguagens listadas abaixo, qual é a que você mais utiliza no trabalho?')=.NET<br>profissao=%{x}<br>value=%{y}<extra></extra>",
         "legendgroup": ".NET",
         "marker": {
          "color": "#30123b",
          "line": {
           "width": 0
          },
          "pattern": {
           "shape": ""
          }
         },
         "name": ".NET",
         "offsetgroup": ".NET",
         "orientation": "v",
         "showlegend": true,
         "textposition": "auto",
         "type": "bar",
         "x": [
          "Analista Dados",
          "Cientista Dados",
          "Engenheiro Dados"
         ],
         "xaxis": "x",
         "y": [
          0,
          0,
          0.24752475247524752
         ],
         "yaxis": "y"
        },
        {
         "alignmentgroup": "True",
         "hovertemplate": "('P4_e ', 'Entre as linguagens listadas abaixo, qual é a que você mais utiliza no trabalho?')=C/C++/C#<br>profissao=%{x}<br>value=%{y}<extra></extra>",
         "legendgroup": "C/C++/C#",
         "marker": {
          "color": "#4145ab",
          "line": {
           "width": 0
          },
          "pattern": {
           "shape": ""
          }
         },
         "name": "C/C++/C#",
         "offsetgroup": "C/C++/C#",
         "orientation": "v",
         "showlegend": true,
         "textposition": "auto",
         "type": "bar",
         "x": [
          "Analista Dados",
          "Cientista Dados",
          "Engenheiro Dados"
         ],
         "xaxis": "x",
         "y": [
          0.23557126030624262,
          1.2135922330097086,
          0.24752475247524752
         ],
         "yaxis": "y"
        },
        {
         "alignmentgroup": "True",
         "hovertemplate": "('P4_e ', 'Entre as linguagens listadas abaixo, qual é a que você mais utiliza no trabalho?')=Java<br>profissao=%{x}<br>value=%{y}<extra></extra>",
         "legendgroup": "Java",
         "marker": {
          "color": "#4675ed",
          "line": {
           "width": 0
          },
          "pattern": {
           "shape": ""
          }
         },
         "name": "Java",
         "offsetgroup": "Java",
         "orientation": "v",
         "showlegend": true,
         "textposition": "auto",
         "type": "bar",
         "x": [
          "Analista Dados",
          "Cientista Dados",
          "Engenheiro Dados"
         ],
         "xaxis": "x",
         "y": [
          0,
          0.48543689320388345,
          0.49504950495049505
         ],
         "yaxis": "y"
        },
        {
         "alignmentgroup": "True",
         "hovertemplate": "('P4_e ', 'Entre as linguagens listadas abaixo, qual é a que você mais utiliza no trabalho?')=JavaScript<br>profissao=%{x}<br>value=%{y}<extra></extra>",
         "legendgroup": "JavaScript",
         "marker": {
          "color": "#39a2fc",
          "line": {
           "width": 0
          },
          "pattern": {
           "shape": ""
          }
         },
         "name": "JavaScript",
         "offsetgroup": "JavaScript",
         "orientation": "v",
         "showlegend": true,
         "textposition": "auto",
         "type": "bar",
         "x": [
          "Analista Dados",
          "Cientista Dados",
          "Engenheiro Dados"
         ],
         "xaxis": "x",
         "y": [
          0.8244994110718492,
          0.24271844660194172,
          1.9801980198019802
         ],
         "yaxis": "y"
        },
        {
         "alignmentgroup": "True",
         "hovertemplate": "('P4_e ', 'Entre as linguagens listadas abaixo, qual é a que você mais utiliza no trabalho?')=Matlab<br>profissao=%{x}<br>value=%{y}<extra></extra>",
         "legendgroup": "Matlab",
         "marker": {
          "color": "#1bcfd4",
          "line": {
           "width": 0
          },
          "pattern": {
           "shape": ""
          }
         },
         "name": "Matlab",
         "offsetgroup": "Matlab",
         "orientation": "v",
         "showlegend": true,
         "textposition": "auto",
         "type": "bar",
         "x": [
          "Analista Dados",
          "Cientista Dados",
          "Engenheiro Dados"
         ],
         "xaxis": "x",
         "y": [
          0,
          0.24271844660194172,
          0
         ],
         "yaxis": "y"
        },
        {
         "alignmentgroup": "True",
         "hovertemplate": "('P4_e ', 'Entre as linguagens listadas abaixo, qual é a que você mais utiliza no trabalho?')=Não utilizo nenhuma das linguagens listadas<br>profissao=%{x}<br>value=%{y}<extra></extra>",
         "legendgroup": "Não utilizo nenhuma das linguagens listadas",
         "marker": {
          "color": "#24eca6",
          "line": {
           "width": 0
          },
          "pattern": {
           "shape": ""
          }
         },
         "name": "Não utilizo nenhuma das linguagens listadas",
         "offsetgroup": "Não utilizo nenhuma das linguagens listadas",
         "orientation": "v",
         "showlegend": true,
         "textposition": "auto",
         "type": "bar",
         "x": [
          "Analista Dados",
          "Cientista Dados",
          "Engenheiro Dados"
         ],
         "xaxis": "x",
         "y": [
          11.189634864546525,
          0.7281553398058253,
          0.7425742574257426
         ],
         "yaxis": "y"
        },
        {
         "alignmentgroup": "True",
         "hovertemplate": "('P4_e ', 'Entre as linguagens listadas abaixo, qual é a que você mais utiliza no trabalho?')=PHP<br>profissao=%{x}<br>value=%{y}<extra></extra>",
         "legendgroup": "PHP",
         "marker": {
          "color": "#61fc6c",
          "line": {
           "width": 0
          },
          "pattern": {
           "shape": ""
          }
         },
         "name": "PHP",
         "offsetgroup": "PHP",
         "orientation": "v",
         "showlegend": true,
         "textposition": "auto",
         "type": "bar",
         "x": [
          "Analista Dados",
          "Cientista Dados",
          "Engenheiro Dados"
         ],
         "xaxis": "x",
         "y": [
          0.23557126030624262,
          0,
          0.24752475247524752
         ],
         "yaxis": "y"
        },
        {
         "alignmentgroup": "True",
         "hovertemplate": "('P4_e ', 'Entre as linguagens listadas abaixo, qual é a que você mais utiliza no trabalho?')=Python<br>profissao=%{x}<br>value=%{y}<extra></extra>",
         "legendgroup": "Python",
         "marker": {
          "color": "#a4fc3b",
          "line": {
           "width": 0
          },
          "pattern": {
           "shape": ""
          }
         },
         "name": "Python",
         "offsetgroup": "Python",
         "orientation": "v",
         "showlegend": true,
         "textposition": "auto",
         "type": "bar",
         "x": [
          "Analista Dados",
          "Cientista Dados",
          "Engenheiro Dados"
         ],
         "xaxis": "x",
         "y": [
          20.848056537102476,
          76.45631067961165,
          50.742574257425744
         ],
         "yaxis": "y"
        },
        {
         "alignmentgroup": "True",
         "hovertemplate": "('P4_e ', 'Entre as linguagens listadas abaixo, qual é a que você mais utiliza no trabalho?')=R<br>profissao=%{x}<br>value=%{y}<extra></extra>",
         "legendgroup": "R",
         "marker": {
          "color": "#d1e834",
          "line": {
           "width": 0
          },
          "pattern": {
           "shape": ""
          }
         },
         "name": "R",
         "offsetgroup": "R",
         "orientation": "v",
         "showlegend": true,
         "textposition": "auto",
         "type": "bar",
         "x": [
          "Analista Dados",
          "Cientista Dados",
          "Engenheiro Dados"
         ],
         "xaxis": "x",
         "y": [
          4.946996466431095,
          7.281553398058252,
          0.7425742574257426
         ],
         "yaxis": "y"
        },
        {
         "alignmentgroup": "True",
         "hovertemplate": "('P4_e ', 'Entre as linguagens listadas abaixo, qual é a que você mais utiliza no trabalho?')=SAS/Stata<br>profissao=%{x}<br>value=%{y}<extra></extra>",
         "legendgroup": "SAS/Stata",
         "marker": {
          "color": "#f3c63a",
          "line": {
           "width": 0
          },
          "pattern": {
           "shape": ""
          }
         },
         "name": "SAS/Stata",
         "offsetgroup": "SAS/Stata",
         "orientation": "v",
         "showlegend": true,
         "textposition": "auto",
         "type": "bar",
         "x": [
          "Analista Dados",
          "Cientista Dados",
          "Engenheiro Dados"
         ],
         "xaxis": "x",
         "y": [
          1.1778563015312131,
          1.2135922330097086,
          0
         ],
         "yaxis": "y"
        },
        {
         "alignmentgroup": "True",
         "hovertemplate": "('P4_e ', 'Entre as linguagens listadas abaixo, qual é a que você mais utiliza no trabalho?')=SQL<br>profissao=%{x}<br>value=%{y}<extra></extra>",
         "legendgroup": "SQL",
         "marker": {
          "color": "#fe9b2d",
          "line": {
           "width": 0
          },
          "pattern": {
           "shape": ""
          }
         },
         "name": "SQL",
         "offsetgroup": "SQL",
         "orientation": "v",
         "showlegend": true,
         "textposition": "auto",
         "type": "bar",
         "x": [
          "Analista Dados",
          "Cientista Dados",
          "Engenheiro Dados"
         ],
         "xaxis": "x",
         "y": [
          55.35924617196702,
          11.407766990291263,
          40.5940594059406
         ],
         "yaxis": "y"
        },
        {
         "alignmentgroup": "True",
         "hovertemplate": "('P4_e ', 'Entre as linguagens listadas abaixo, qual é a que você mais utiliza no trabalho?')=Scala<br>profissao=%{x}<br>value=%{y}<extra></extra>",
         "legendgroup": "Scala",
         "marker": {
          "color": "#f36315",
          "line": {
           "width": 0
          },
          "pattern": {
           "shape": ""
          }
         },
         "name": "Scala",
         "offsetgroup": "Scala",
         "orientation": "v",
         "showlegend": true,
         "textposition": "auto",
         "type": "bar",
         "x": [
          "Analista Dados",
          "Cientista Dados",
          "Engenheiro Dados"
         ],
         "xaxis": "x",
         "y": [
          0.47114252061248524,
          0.48543689320388345,
          3.217821782178218
         ],
         "yaxis": "y"
        },
        {
         "alignmentgroup": "True",
         "hovertemplate": "('P4_e ', 'Entre as linguagens listadas abaixo, qual é a que você mais utiliza no trabalho?')=Visual Basic/VBA<br>profissao=%{x}<br>value=%{y}<extra></extra>",
         "legendgroup": "Visual Basic/VBA",
         "marker": {
          "color": "#d93806",
          "line": {
           "width": 0
          },
          "pattern": {
           "shape": ""
          }
         },
         "name": "Visual Basic/VBA",
         "offsetgroup": "Visual Basic/VBA",
         "orientation": "v",
         "showlegend": true,
         "textposition": "auto",
         "type": "bar",
         "x": [
          "Analista Dados",
          "Cientista Dados",
          "Engenheiro Dados"
         ],
         "xaxis": "x",
         "y": [
          4.7114252061248525,
          0.24271844660194172,
          0.7425742574257426
         ],
         "yaxis": "y"
        }
       ],
       "layout": {
        "barmode": "stack",
        "legend": {
         "title": {
          "text": "('P4_e ', 'Entre as linguagens listadas abaixo, qual é a que você mais utiliza no trabalho?')"
         },
         "tracegroupgap": 0
        },
        "margin": {
         "t": 60
        },
        "template": {
         "data": {
          "bar": [
           {
            "error_x": {
             "color": "#2a3f5f"
            },
            "error_y": {
             "color": "#2a3f5f"
            },
            "marker": {
             "line": {
              "color": "#E5ECF6",
              "width": 0.5
             },
             "pattern": {
              "fillmode": "overlay",
              "size": 10,
              "solidity": 0.2
             }
            },
            "type": "bar"
           }
          ],
          "barpolar": [
           {
            "marker": {
             "line": {
              "color": "#E5ECF6",
              "width": 0.5
             },
             "pattern": {
              "fillmode": "overlay",
              "size": 10,
              "solidity": 0.2
             }
            },
            "type": "barpolar"
           }
          ],
          "carpet": [
           {
            "aaxis": {
             "endlinecolor": "#2a3f5f",
             "gridcolor": "white",
             "linecolor": "white",
             "minorgridcolor": "white",
             "startlinecolor": "#2a3f5f"
            },
            "baxis": {
             "endlinecolor": "#2a3f5f",
             "gridcolor": "white",
             "linecolor": "white",
             "minorgridcolor": "white",
             "startlinecolor": "#2a3f5f"
            },
            "type": "carpet"
           }
          ],
          "choropleth": [
           {
            "colorbar": {
             "outlinewidth": 0,
             "ticks": ""
            },
            "type": "choropleth"
           }
          ],
          "contour": [
           {
            "colorbar": {
             "outlinewidth": 0,
             "ticks": ""
            },
            "colorscale": [
             [
              0,
              "#0d0887"
             ],
             [
              0.1111111111111111,
              "#46039f"
             ],
             [
              0.2222222222222222,
              "#7201a8"
             ],
             [
              0.3333333333333333,
              "#9c179e"
             ],
             [
              0.4444444444444444,
              "#bd3786"
             ],
             [
              0.5555555555555556,
              "#d8576b"
             ],
             [
              0.6666666666666666,
              "#ed7953"
             ],
             [
              0.7777777777777778,
              "#fb9f3a"
             ],
             [
              0.8888888888888888,
              "#fdca26"
             ],
             [
              1,
              "#f0f921"
             ]
            ],
            "type": "contour"
           }
          ],
          "contourcarpet": [
           {
            "colorbar": {
             "outlinewidth": 0,
             "ticks": ""
            },
            "type": "contourcarpet"
           }
          ],
          "heatmap": [
           {
            "colorbar": {
             "outlinewidth": 0,
             "ticks": ""
            },
            "colorscale": [
             [
              0,
              "#0d0887"
             ],
             [
              0.1111111111111111,
              "#46039f"
             ],
             [
              0.2222222222222222,
              "#7201a8"
             ],
             [
              0.3333333333333333,
              "#9c179e"
             ],
             [
              0.4444444444444444,
              "#bd3786"
             ],
             [
              0.5555555555555556,
              "#d8576b"
             ],
             [
              0.6666666666666666,
              "#ed7953"
             ],
             [
              0.7777777777777778,
              "#fb9f3a"
             ],
             [
              0.8888888888888888,
              "#fdca26"
             ],
             [
              1,
              "#f0f921"
             ]
            ],
            "type": "heatmap"
           }
          ],
          "heatmapgl": [
           {
            "colorbar": {
             "outlinewidth": 0,
             "ticks": ""
            },
            "colorscale": [
             [
              0,
              "#0d0887"
             ],
             [
              0.1111111111111111,
              "#46039f"
             ],
             [
              0.2222222222222222,
              "#7201a8"
             ],
             [
              0.3333333333333333,
              "#9c179e"
             ],
             [
              0.4444444444444444,
              "#bd3786"
             ],
             [
              0.5555555555555556,
              "#d8576b"
             ],
             [
              0.6666666666666666,
              "#ed7953"
             ],
             [
              0.7777777777777778,
              "#fb9f3a"
             ],
             [
              0.8888888888888888,
              "#fdca26"
             ],
             [
              1,
              "#f0f921"
             ]
            ],
            "type": "heatmapgl"
           }
          ],
          "histogram": [
           {
            "marker": {
             "pattern": {
              "fillmode": "overlay",
              "size": 10,
              "solidity": 0.2
             }
            },
            "type": "histogram"
           }
          ],
          "histogram2d": [
           {
            "colorbar": {
             "outlinewidth": 0,
             "ticks": ""
            },
            "colorscale": [
             [
              0,
              "#0d0887"
             ],
             [
              0.1111111111111111,
              "#46039f"
             ],
             [
              0.2222222222222222,
              "#7201a8"
             ],
             [
              0.3333333333333333,
              "#9c179e"
             ],
             [
              0.4444444444444444,
              "#bd3786"
             ],
             [
              0.5555555555555556,
              "#d8576b"
             ],
             [
              0.6666666666666666,
              "#ed7953"
             ],
             [
              0.7777777777777778,
              "#fb9f3a"
             ],
             [
              0.8888888888888888,
              "#fdca26"
             ],
             [
              1,
              "#f0f921"
             ]
            ],
            "type": "histogram2d"
           }
          ],
          "histogram2dcontour": [
           {
            "colorbar": {
             "outlinewidth": 0,
             "ticks": ""
            },
            "colorscale": [
             [
              0,
              "#0d0887"
             ],
             [
              0.1111111111111111,
              "#46039f"
             ],
             [
              0.2222222222222222,
              "#7201a8"
             ],
             [
              0.3333333333333333,
              "#9c179e"
             ],
             [
              0.4444444444444444,
              "#bd3786"
             ],
             [
              0.5555555555555556,
              "#d8576b"
             ],
             [
              0.6666666666666666,
              "#ed7953"
             ],
             [
              0.7777777777777778,
              "#fb9f3a"
             ],
             [
              0.8888888888888888,
              "#fdca26"
             ],
             [
              1,
              "#f0f921"
             ]
            ],
            "type": "histogram2dcontour"
           }
          ],
          "mesh3d": [
           {
            "colorbar": {
             "outlinewidth": 0,
             "ticks": ""
            },
            "type": "mesh3d"
           }
          ],
          "parcoords": [
           {
            "line": {
             "colorbar": {
              "outlinewidth": 0,
              "ticks": ""
             }
            },
            "type": "parcoords"
           }
          ],
          "pie": [
           {
            "automargin": true,
            "type": "pie"
           }
          ],
          "scatter": [
           {
            "marker": {
             "colorbar": {
              "outlinewidth": 0,
              "ticks": ""
             }
            },
            "type": "scatter"
           }
          ],
          "scatter3d": [
           {
            "line": {
             "colorbar": {
              "outlinewidth": 0,
              "ticks": ""
             }
            },
            "marker": {
             "colorbar": {
              "outlinewidth": 0,
              "ticks": ""
             }
            },
            "type": "scatter3d"
           }
          ],
          "scattercarpet": [
           {
            "marker": {
             "colorbar": {
              "outlinewidth": 0,
              "ticks": ""
             }
            },
            "type": "scattercarpet"
           }
          ],
          "scattergeo": [
           {
            "marker": {
             "colorbar": {
              "outlinewidth": 0,
              "ticks": ""
             }
            },
            "type": "scattergeo"
           }
          ],
          "scattergl": [
           {
            "marker": {
             "colorbar": {
              "outlinewidth": 0,
              "ticks": ""
             }
            },
            "type": "scattergl"
           }
          ],
          "scattermapbox": [
           {
            "marker": {
             "colorbar": {
              "outlinewidth": 0,
              "ticks": ""
             }
            },
            "type": "scattermapbox"
           }
          ],
          "scatterpolar": [
           {
            "marker": {
             "colorbar": {
              "outlinewidth": 0,
              "ticks": ""
             }
            },
            "type": "scatterpolar"
           }
          ],
          "scatterpolargl": [
           {
            "marker": {
             "colorbar": {
              "outlinewidth": 0,
              "ticks": ""
             }
            },
            "type": "scatterpolargl"
           }
          ],
          "scatterternary": [
           {
            "marker": {
             "colorbar": {
              "outlinewidth": 0,
              "ticks": ""
             }
            },
            "type": "scatterternary"
           }
          ],
          "surface": [
           {
            "colorbar": {
             "outlinewidth": 0,
             "ticks": ""
            },
            "colorscale": [
             [
              0,
              "#0d0887"
             ],
             [
              0.1111111111111111,
              "#46039f"
             ],
             [
              0.2222222222222222,
              "#7201a8"
             ],
             [
              0.3333333333333333,
              "#9c179e"
             ],
             [
              0.4444444444444444,
              "#bd3786"
             ],
             [
              0.5555555555555556,
              "#d8576b"
             ],
             [
              0.6666666666666666,
              "#ed7953"
             ],
             [
              0.7777777777777778,
              "#fb9f3a"
             ],
             [
              0.8888888888888888,
              "#fdca26"
             ],
             [
              1,
              "#f0f921"
             ]
            ],
            "type": "surface"
           }
          ],
          "table": [
           {
            "cells": {
             "fill": {
              "color": "#EBF0F8"
             },
             "line": {
              "color": "white"
             }
            },
            "header": {
             "fill": {
              "color": "#C8D4E3"
             },
             "line": {
              "color": "white"
             }
            },
            "type": "table"
           }
          ]
         },
         "layout": {
          "annotationdefaults": {
           "arrowcolor": "#2a3f5f",
           "arrowhead": 0,
           "arrowwidth": 1
          },
          "autotypenumbers": "strict",
          "coloraxis": {
           "colorbar": {
            "outlinewidth": 0,
            "ticks": ""
           }
          },
          "colorscale": {
           "diverging": [
            [
             0,
             "#8e0152"
            ],
            [
             0.1,
             "#c51b7d"
            ],
            [
             0.2,
             "#de77ae"
            ],
            [
             0.3,
             "#f1b6da"
            ],
            [
             0.4,
             "#fde0ef"
            ],
            [
             0.5,
             "#f7f7f7"
            ],
            [
             0.6,
             "#e6f5d0"
            ],
            [
             0.7,
             "#b8e186"
            ],
            [
             0.8,
             "#7fbc41"
            ],
            [
             0.9,
             "#4d9221"
            ],
            [
             1,
             "#276419"
            ]
           ],
           "sequential": [
            [
             0,
             "#0d0887"
            ],
            [
             0.1111111111111111,
             "#46039f"
            ],
            [
             0.2222222222222222,
             "#7201a8"
            ],
            [
             0.3333333333333333,
             "#9c179e"
            ],
            [
             0.4444444444444444,
             "#bd3786"
            ],
            [
             0.5555555555555556,
             "#d8576b"
            ],
            [
             0.6666666666666666,
             "#ed7953"
            ],
            [
             0.7777777777777778,
             "#fb9f3a"
            ],
            [
             0.8888888888888888,
             "#fdca26"
            ],
            [
             1,
             "#f0f921"
            ]
           ],
           "sequentialminus": [
            [
             0,
             "#0d0887"
            ],
            [
             0.1111111111111111,
             "#46039f"
            ],
            [
             0.2222222222222222,
             "#7201a8"
            ],
            [
             0.3333333333333333,
             "#9c179e"
            ],
            [
             0.4444444444444444,
             "#bd3786"
            ],
            [
             0.5555555555555556,
             "#d8576b"
            ],
            [
             0.6666666666666666,
             "#ed7953"
            ],
            [
             0.7777777777777778,
             "#fb9f3a"
            ],
            [
             0.8888888888888888,
             "#fdca26"
            ],
            [
             1,
             "#f0f921"
            ]
           ]
          },
          "colorway": [
           "#636efa",
           "#EF553B",
           "#00cc96",
           "#ab63fa",
           "#FFA15A",
           "#19d3f3",
           "#FF6692",
           "#B6E880",
           "#FF97FF",
           "#FECB52"
          ],
          "font": {
           "color": "#2a3f5f"
          },
          "geo": {
           "bgcolor": "white",
           "lakecolor": "white",
           "landcolor": "#E5ECF6",
           "showlakes": true,
           "showland": true,
           "subunitcolor": "white"
          },
          "hoverlabel": {
           "align": "left"
          },
          "hovermode": "closest",
          "mapbox": {
           "style": "light"
          },
          "paper_bgcolor": "white",
          "plot_bgcolor": "#E5ECF6",
          "polar": {
           "angularaxis": {
            "gridcolor": "white",
            "linecolor": "white",
            "ticks": ""
           },
           "bgcolor": "#E5ECF6",
           "radialaxis": {
            "gridcolor": "white",
            "linecolor": "white",
            "ticks": ""
           }
          },
          "scene": {
           "xaxis": {
            "backgroundcolor": "#E5ECF6",
            "gridcolor": "white",
            "gridwidth": 2,
            "linecolor": "white",
            "showbackground": true,
            "ticks": "",
            "zerolinecolor": "white"
           },
           "yaxis": {
            "backgroundcolor": "#E5ECF6",
            "gridcolor": "white",
            "gridwidth": 2,
            "linecolor": "white",
            "showbackground": true,
            "ticks": "",
            "zerolinecolor": "white"
           },
           "zaxis": {
            "backgroundcolor": "#E5ECF6",
            "gridcolor": "white",
            "gridwidth": 2,
            "linecolor": "white",
            "showbackground": true,
            "ticks": "",
            "zerolinecolor": "white"
           }
          },
          "shapedefaults": {
           "line": {
            "color": "#2a3f5f"
           }
          },
          "ternary": {
           "aaxis": {
            "gridcolor": "white",
            "linecolor": "white",
            "ticks": ""
           },
           "baxis": {
            "gridcolor": "white",
            "linecolor": "white",
            "ticks": ""
           },
           "bgcolor": "#E5ECF6",
           "caxis": {
            "gridcolor": "white",
            "linecolor": "white",
            "ticks": ""
           }
          },
          "title": {
           "x": 0.05
          },
          "xaxis": {
           "automargin": true,
           "gridcolor": "white",
           "linecolor": "white",
           "ticks": "",
           "title": {
            "standoff": 15
           },
           "zerolinecolor": "white",
           "zerolinewidth": 2
          },
          "yaxis": {
           "automargin": true,
           "gridcolor": "white",
           "linecolor": "white",
           "ticks": "",
           "title": {
            "standoff": 15
           },
           "zerolinecolor": "white",
           "zerolinewidth": 2
          }
         }
        },
        "xaxis": {
         "anchor": "y",
         "domain": [
          0,
          1
         ],
         "title": {
          "text": "profissao"
         }
        },
        "yaxis": {
         "anchor": "x",
         "domain": [
          0,
          1
         ],
         "title": {
          "text": "value"
         }
        }
       }
      }
     },
     "metadata": {},
     "output_type": "display_data"
    }
   ],
   "source": [
    "fig =px.bar(prof_lang_cross_melt, y='value',color=\"('P4_e ', 'Entre as linguagens listadas abaixo, qual é a que você mais utiliza no trabalho?')\", x='profissao', color_discrete_sequence= px.colors.sequential.Turbo)\n",
    "fig.update_layout(barmode='stack')\n",
    "fig.update_traces(marker_line_width=0)\n",
    "fig.show()"
   ]
  },
  {
   "cell_type": "code",
   "execution_count": 162,
   "metadata": {},
   "outputs": [
    {
     "data": {
      "text/plain": [
       "Estudos Ad-hoc com o objetivo de confirmar hipóteses, realizar modelos preditivos, forecasts, análise de cluster para resolver problemas pontuais e responder perguntas das áreas de negócio., Coletando e limpando os dados que uso para análise e modelagem.                                                                             46\n",
       "Coletando e limpando os dados que uso para análise e modelagem., Entrando em contato com os times de negócio para definição do problema, identificar a solução e apresentação de resultados.                                                                                                                                               38\n",
       "Coletando e limpando os dados que uso para análise e modelagem., Desenvolvendo modelos de Machine Learning com o objetivo de colocar em produção em sistemas (produtos de dados).                                                                                                                                                          33\n",
       "Coletando e limpando os dados que uso para análise e modelagem.                                                                                                                                                                                                                                                                            33\n",
       "Estudos Ad-hoc com o objetivo de confirmar hipóteses, realizar modelos preditivos, forecasts, análise de cluster para resolver problemas pontuais e responder perguntas das áreas de negócio., Desenvolvendo modelos de Machine Learning com o objetivo de colocar em produção em sistemas (produtos de dados).                            30\n",
       "Estudos Ad-hoc com o objetivo de confirmar hipóteses, realizar modelos preditivos, forecasts, análise de cluster para resolver problemas pontuais e responder perguntas das áreas de negócio.                                                                                                                                              28\n",
       "Estudos Ad-hoc com o objetivo de confirmar hipóteses, realizar modelos preditivos, forecasts, análise de cluster para resolver problemas pontuais e responder perguntas das áreas de negócio., Entrando em contato com os times de negócio para definição do problema, identificar a solução e apresentação de resultados.                 22\n",
       "Desenvolvendo modelos de Machine Learning com o objetivo de colocar em produção em sistemas (produtos de dados).                                                                                                                                                                                                                           19\n",
       "Coletando e limpando os dados que uso para análise e modelagem., Estudos Ad-hoc com o objetivo de confirmar hipóteses, realizar modelos preditivos, forecasts, análise de cluster para resolver problemas pontuais e responder perguntas das áreas de negócio.                                                                             16\n",
       "Entrando em contato com os times de negócio para definição do problema, identificar a solução e apresentação de resultados., Desenvolvendo modelos de Machine Learning com o objetivo de colocar em produção em sistemas (produtos de dados).                                                                                              13\n",
       "Desenvolvendo modelos de Machine Learning com o objetivo de colocar em produção em sistemas (produtos de dados)., Colocando modelos em produção, criando os pipelines de dados, APIs de consumo e monitoramento.                                                                                                                           13\n",
       "Nenhuma das opções listadas refletem meu dia a dia.                                                                                                                                                                                                                                                                                        10\n",
       "Desenvolvendo modelos de Machine Learning com o objetivo de colocar em produção em sistemas (produtos de dados)., Entrando em contato com os times de negócio para definição do problema, identificar a solução e apresentação de resultados.                                                                                               9\n",
       "Entrando em contato com os times de negócio para definição do problema, identificar a solução e apresentação de resultados., Coletando e limpando os dados que uso para análise e modelagem.                                                                                                                                                8\n",
       "Desenvolvendo modelos de Machine Learning com o objetivo de colocar em produção em sistemas (produtos de dados)., Coletando e limpando os dados que uso para análise e modelagem.                                                                                                                                                           7\n",
       "Coletando e limpando os dados que uso para análise e modelagem., Colocando modelos em produção, criando os pipelines de dados, APIs de consumo e monitoramento.                                                                                                                                                                             6\n",
       "Coletando e limpando os dados que uso para análise e modelagem., Cuidando da manutenção de modelos de Machine Learning já em produção, atuando no monitoramento, ajustes e refatoração quando necessário.                                                                                                                                   5\n",
       "Desenvolvendo modelos de Machine Learning com o objetivo de colocar em produção em sistemas (produtos de dados)., Cuidando da manutenção de modelos de Machine Learning já em produção, atuando no monitoramento, ajustes e refatoração quando necessário.                                                                                  5\n",
       "Coletando e limpando os dados que uso para análise e modelagem., Realizando construções de dashboards em ferramentas de BI como PowerBI, Tableau, Looker, Qlik, etc.                                                                                                                                                                        5\n",
       "Cuidando da manutenção de modelos de Machine Learning já em produção, atuando no monitoramento, ajustes e refatoração quando necessário.                                                                                                                                                                                                    5\n",
       "Desenvolvendo modelos de Machine Learning com o objetivo de colocar em produção em sistemas (produtos de dados)., Estudos Ad-hoc com o objetivo de confirmar hipóteses, realizar modelos preditivos, forecasts, análise de cluster para resolver problemas pontuais e responder perguntas das áreas de negócio.                             5\n",
       "Coletando e limpando os dados que uso para análise e modelagem., Criando e dando manutenção em ETLs, DAGs e automações de pipelines de dados.                                                                                                                                                                                               3\n",
       "Estudos Ad-hoc com o objetivo de confirmar hipóteses, realizar modelos preditivos, forecasts, análise de cluster para resolver problemas pontuais e responder perguntas das áreas de negócio., Colocando modelos em produção, criando os pipelines de dados, APIs de consumo e monitoramento.                                               3\n",
       "Cuidando da manutenção de modelos de Machine Learning já em produção, atuando no monitoramento, ajustes e refatoração quando necessário., Realizando construções de dashboards em ferramentas de BI como PowerBI, Tableau, Looker, Qlik, etc.                                                                                               3\n",
       "Realizando construções de dashboards em ferramentas de BI como PowerBI, Tableau, Looker, Qlik, etc.                                                                                                                                                                                                                                         3\n",
       "Estudos Ad-hoc com o objetivo de confirmar hipóteses, realizar modelos preditivos, forecasts, análise de cluster para resolver problemas pontuais e responder perguntas das áreas de negócio., Realizando construções de dashboards em ferramentas de BI como PowerBI, Tableau, Looker, Qlik, etc.                                          3\n",
       "Entrando em contato com os times de negócio para definição do problema, identificar a solução e apresentação de resultados.                                                                                                                                                                                                                 3\n",
       "Cuidando da manutenção de modelos de Machine Learning já em produção, atuando no monitoramento, ajustes e refatoração quando necessário., Colocando modelos em produção, criando os pipelines de dados, APIs de consumo e monitoramento.                                                                                                    2\n",
       "Cuidando da manutenção de modelos de Machine Learning já em produção, atuando no monitoramento, ajustes e refatoração quando necessário., Desenvolvendo modelos de Machine Learning com o objetivo de colocar em produção em sistemas (produtos de dados).                                                                                  2\n",
       "Colocando modelos em produção, criando os pipelines de dados, APIs de consumo e monitoramento., Desenvolvendo modelos de Machine Learning com o objetivo de colocar em produção em sistemas (produtos de dados).                                                                                                                            2\n",
       "Criando e mantendo a infra que meus modelos e soluções rodam (clusters, servidores, API, containers, etc.)                                                                                                                                                                                                                                  2\n",
       "Cuidando da manutenção de modelos de Machine Learning já em produção, atuando no monitoramento, ajustes e refatoração quando necessário., Estudos Ad-hoc com o objetivo de confirmar hipóteses, realizar modelos preditivos, forecasts, análise de cluster para resolver problemas pontuais e responder perguntas das áreas de negócio.     2\n",
       "Colocando modelos em produção, criando os pipelines de dados, APIs de consumo e monitoramento.                                                                                                                                                                                                                                              2\n",
       "Entrando em contato com os times de negócio para definição do problema, identificar a solução e apresentação de resultados., Estudos Ad-hoc com o objetivo de confirmar hipóteses, realizar modelos preditivos, forecasts, análise de cluster para resolver problemas pontuais e responder perguntas das áreas de negócio.                  2\n",
       "Colocando modelos em produção, criando os pipelines de dados, APIs de consumo e monitoramento., Coletando e limpando os dados que uso para análise e modelagem.                                                                                                                                                                             2\n",
       "Estudos Ad-hoc com o objetivo de confirmar hipóteses, realizar modelos preditivos, forecasts, análise de cluster para resolver problemas pontuais e responder perguntas das áreas de negócio., Cuidando da manutenção de modelos de Machine Learning já em produção, atuando no monitoramento, ajustes e refatoração quando necessário.     2\n",
       "Cuidando da manutenção de modelos de Machine Learning já em produção, atuando no monitoramento, ajustes e refatoração quando necessário., Coletando e limpando os dados que uso para análise e modelagem.                                                                                                                                   2\n",
       "Criando e dando manutenção em ETLs, DAGs e automações de pipelines de dados., Cuidando da manutenção de modelos de Machine Learning já em produção, atuando no monitoramento, ajustes e refatoração quando necessário.                                                                                                                      1\n",
       "Entrando em contato com os times de negócio para definição do problema, identificar a solução e apresentação de resultados., Colocando modelos em produção, criando os pipelines de dados, APIs de consumo e monitoramento.                                                                                                                 1\n",
       "Desenvolvendo modelos de Machine Learning com o objetivo de colocar em produção em sistemas (produtos de dados)., Realizando construções de dashboards em ferramentas de BI como PowerBI, Tableau, Looker, Qlik, etc.                                                                                                                       1\n",
       "Criando e mantendo a infra que meus modelos e soluções rodam (clusters, servidores, API, containers, etc.), Criando e gerenciando soluções de Feature Store e cultura de MLOps.                                                                                                                                                             1\n",
       "Cuidando da manutenção de modelos de Machine Learning já em produção, atuando no monitoramento, ajustes e refatoração quando necessário., Criando e gerenciando soluções de Feature Store e cultura de MLOps.                                                                                                                               1\n",
       "Estudos Ad-hoc com o objetivo de confirmar hipóteses, realizar modelos preditivos, forecasts, análise de cluster para resolver problemas pontuais e responder perguntas das áreas de negócio., Criando e dando manutenção em ETLs, DAGs e automações de pipelines de dados.                                                                 1\n",
       "Colocando modelos em produção, criando os pipelines de dados, APIs de consumo e monitoramento., Criando e gerenciando soluções de Feature Store e cultura de MLOps.                                                                                                                                                                         1\n",
       "Utilizando ferramentas avançadas de estatística como SAS, SPSS, Stata etc, para realizar análises., Realizando construções de dashboards em ferramentas de BI como PowerBI, Tableau, Looker, Qlik, etc.                                                                                                                                     1\n",
       "Colocando modelos em produção, criando os pipelines de dados, APIs de consumo e monitoramento., Estudos Ad-hoc com o objetivo de confirmar hipóteses, realizar modelos preditivos, forecasts, análise de cluster para resolver problemas pontuais e responder perguntas das áreas de negócio.                                               1\n",
       "Criando e dando manutenção em ETLs, DAGs e automações de pipelines de dados.                                                                                                                                                                                                                                                                1\n",
       "Estudos Ad-hoc com o objetivo de confirmar hipóteses, realizar modelos preditivos, forecasts, análise de cluster para resolver problemas pontuais e responder perguntas das áreas de negócio., Nenhuma das opções listadas refletem meu dia a dia.                                                                                          1\n",
       "Coletando e limpando os dados que uso para análise e modelagem., Utilizando ferramentas avançadas de estatística como SAS, SPSS, Stata etc, para realizar análises.                                                                                                                                                                         1\n",
       "Cuidando da manutenção de modelos de Machine Learning já em produção, atuando no monitoramento, ajustes e refatoração quando necessário., Criando e mantendo a infra que meus modelos e soluções rodam (clusters, servidores, API, containers, etc.)                                                                                        1\n",
       "Colocando modelos em produção, criando os pipelines de dados, APIs de consumo e monitoramento., Criando e dando manutenção em ETLs, DAGs e automações de pipelines de dados.                                                                                                                                                                1\n",
       "Realizando construções de dashboards em ferramentas de BI como PowerBI, Tableau, Looker, Qlik, etc., Estudos Ad-hoc com o objetivo de confirmar hipóteses, realizar modelos preditivos, forecasts, análise de cluster para resolver problemas pontuais e responder perguntas das áreas de negócio.                                          1\n",
       "Utilizando ferramentas avançadas de estatística como SAS, SPSS, Stata etc, para realizar análises.                                                                                                                                                                                                                                          1\n",
       "Estudos Ad-hoc com o objetivo de confirmar hipóteses, realizar modelos preditivos, forecasts, análise de cluster para resolver problemas pontuais e responder perguntas das áreas de negócio., Utilizando ferramentas avançadas de estatística como SAS, SPSS, Stata etc, para realizar análises.                                           1\n",
       "Criando e dando manutenção em ETLs, DAGs e automações de pipelines de dados., Coletando e limpando os dados que uso para análise e modelagem.                                                                                                                                                                                               1\n",
       "Name: ('P8_d ', 'Em qual das opções abaixo você gasta a maior parte do seu tempo no trabalho?'), dtype: int64"
      ]
     },
     "execution_count": 162,
     "metadata": {},
     "output_type": "execute_result"
    }
   ],
   "source": [
    "df[\"('P8_d ', 'Em qual das opções abaixo você gasta a maior parte do seu tempo no trabalho?')\"].replace({\"('P8_d_a ', 'Coletando e limpando os dados que uso para análise e modelagem.')\": \"Coleta e limpeza de dados\",\n",
    "\"('P8_d_b ', 'Entrando em contato com os times de negócio para definição do problema, identificar a solução e apresentação de resultados.')\": \"Contato com os times de negócio\",\n",
    "\"('P8_d_c ', 'Desenvolvendo modelos de Machine Learning com o objetivo de colocar em produção em sistemas (produtos de dados).')\": \"Desenvolvimento de modelos de ML\",\n",
    "\"('P8_d_d ', 'Colocando modelos em produção, criando os pipelines de dados, APIs de consumo e monitoramento.')\": \"Colocação de modelos em produção, criação de pipelines de dados\",\n",
    "\"('P8_d_e ', 'Cuidando da manutenção de modelos de Machine Learning já em produção, atuando no monitoramento, ajustes e refatoração quando necessário.')\": \"Manutenção de modelos de ML\",\n",
    "\"('P8_d_f ', 'Realizando construções de dashboards em ferramentas de BI como PowerBI, Tableau, Looker, Qlik, etc.')\": \"Construção de dashboards / ferramentas de BI\",\n",
    "\"('P8_d_g ', 'Criando e dando manutenção em ETLs, DAGs e automações de pipelines de dados.')\": \"Manutenção em ETLs, DAGs e automações\",\n",
    "\"('P8_d_h ', 'Criando e gerenciando soluções de Feature Store e cultura de MLOps.')\": \"Soluções de Feature Store, Cultura MLOps\",\n",
    "\"('P8_d_i ', 'Criando e mantendo a infra que meus modelos e soluções rodam (clusters, servidores, API, containers, etc.)')\": \"Infra: clusters, servidores, API, containers\"}).value_counts()"
   ]
  },
  {
   "cell_type": "code",
   "execution_count": 170,
   "metadata": {},
   "outputs": [
    {
     "data": {
      "text/html": [
       "<div>\n",
       "<style scoped>\n",
       "    .dataframe tbody tr th:only-of-type {\n",
       "        vertical-align: middle;\n",
       "    }\n",
       "\n",
       "    .dataframe tbody tr th {\n",
       "        vertical-align: top;\n",
       "    }\n",
       "\n",
       "    .dataframe thead th {\n",
       "        text-align: right;\n",
       "    }\n",
       "</style>\n",
       "<table border=\"1\" class=\"dataframe\">\n",
       "  <thead>\n",
       "    <tr style=\"text-align: right;\">\n",
       "      <th></th>\n",
       "      <th>('P8_d_a ', 'Coletando e limpando os dados que uso para análise e modelagem.')</th>\n",
       "      <th>('P8_d_b ', 'Entrando em contato com os times de negócio para definição do problema, identificar a solução e apresentação de resultados.')</th>\n",
       "      <th>('P8_d_c ', 'Desenvolvendo modelos de Machine Learning com o objetivo de colocar em produção em sistemas (produtos de dados).')</th>\n",
       "      <th>('P8_d_d ', 'Colocando modelos em produção, criando os pipelines de dados, APIs de consumo e monitoramento.')</th>\n",
       "      <th>('P8_d_e ', 'Cuidando da manutenção de modelos de Machine Learning já em produção, atuando no monitoramento, ajustes e refatoração quando necessário.')</th>\n",
       "      <th>('P8_d_f ', 'Realizando construções de dashboards em ferramentas de BI como PowerBI, Tableau, Looker, Qlik, etc.')</th>\n",
       "      <th>('P8_d_g ', 'Criando e dando manutenção em ETLs, DAGs e automações de pipelines de dados.')</th>\n",
       "      <th>('P8_d_h ', 'Criando e gerenciando soluções de Feature Store e cultura de MLOps.')</th>\n",
       "      <th>('P8_d_i ', 'Criando e mantendo a infra que meus modelos e soluções rodam (clusters, servidores, API, containers, etc.)')</th>\n",
       "      <th>('P2_g ', 'Nivel')</th>\n",
       "    </tr>\n",
       "  </thead>\n",
       "  <tbody>\n",
       "    <tr>\n",
       "      <th>0</th>\n",
       "      <td>NaN</td>\n",
       "      <td>NaN</td>\n",
       "      <td>NaN</td>\n",
       "      <td>NaN</td>\n",
       "      <td>NaN</td>\n",
       "      <td>NaN</td>\n",
       "      <td>NaN</td>\n",
       "      <td>NaN</td>\n",
       "      <td>NaN</td>\n",
       "      <td>Gestor</td>\n",
       "    </tr>\n",
       "    <tr>\n",
       "      <th>1</th>\n",
       "      <td>NaN</td>\n",
       "      <td>NaN</td>\n",
       "      <td>NaN</td>\n",
       "      <td>NaN</td>\n",
       "      <td>NaN</td>\n",
       "      <td>NaN</td>\n",
       "      <td>NaN</td>\n",
       "      <td>NaN</td>\n",
       "      <td>NaN</td>\n",
       "      <td>Gestor</td>\n",
       "    </tr>\n",
       "    <tr>\n",
       "      <th>2</th>\n",
       "      <td>NaN</td>\n",
       "      <td>NaN</td>\n",
       "      <td>NaN</td>\n",
       "      <td>NaN</td>\n",
       "      <td>NaN</td>\n",
       "      <td>NaN</td>\n",
       "      <td>NaN</td>\n",
       "      <td>NaN</td>\n",
       "      <td>NaN</td>\n",
       "      <td>Gestor</td>\n",
       "    </tr>\n",
       "    <tr>\n",
       "      <th>3</th>\n",
       "      <td>NaN</td>\n",
       "      <td>NaN</td>\n",
       "      <td>NaN</td>\n",
       "      <td>NaN</td>\n",
       "      <td>NaN</td>\n",
       "      <td>NaN</td>\n",
       "      <td>NaN</td>\n",
       "      <td>NaN</td>\n",
       "      <td>NaN</td>\n",
       "      <td>Gestor</td>\n",
       "    </tr>\n",
       "    <tr>\n",
       "      <th>4</th>\n",
       "      <td>NaN</td>\n",
       "      <td>NaN</td>\n",
       "      <td>NaN</td>\n",
       "      <td>NaN</td>\n",
       "      <td>NaN</td>\n",
       "      <td>NaN</td>\n",
       "      <td>NaN</td>\n",
       "      <td>NaN</td>\n",
       "      <td>NaN</td>\n",
       "      <td>Gestor</td>\n",
       "    </tr>\n",
       "    <tr>\n",
       "      <th>...</th>\n",
       "      <td>...</td>\n",
       "      <td>...</td>\n",
       "      <td>...</td>\n",
       "      <td>...</td>\n",
       "      <td>...</td>\n",
       "      <td>...</td>\n",
       "      <td>...</td>\n",
       "      <td>...</td>\n",
       "      <td>...</td>\n",
       "      <td>...</td>\n",
       "    </tr>\n",
       "    <tr>\n",
       "      <th>2640</th>\n",
       "      <td>NaN</td>\n",
       "      <td>NaN</td>\n",
       "      <td>NaN</td>\n",
       "      <td>NaN</td>\n",
       "      <td>NaN</td>\n",
       "      <td>NaN</td>\n",
       "      <td>NaN</td>\n",
       "      <td>NaN</td>\n",
       "      <td>NaN</td>\n",
       "      <td>NaN</td>\n",
       "    </tr>\n",
       "    <tr>\n",
       "      <th>2641</th>\n",
       "      <td>0.0</td>\n",
       "      <td>0.0</td>\n",
       "      <td>0.0</td>\n",
       "      <td>1.0</td>\n",
       "      <td>0.0</td>\n",
       "      <td>0.0</td>\n",
       "      <td>0.0</td>\n",
       "      <td>0.0</td>\n",
       "      <td>0.0</td>\n",
       "      <td>Pleno</td>\n",
       "    </tr>\n",
       "    <tr>\n",
       "      <th>2642</th>\n",
       "      <td>NaN</td>\n",
       "      <td>NaN</td>\n",
       "      <td>NaN</td>\n",
       "      <td>NaN</td>\n",
       "      <td>NaN</td>\n",
       "      <td>NaN</td>\n",
       "      <td>NaN</td>\n",
       "      <td>NaN</td>\n",
       "      <td>NaN</td>\n",
       "      <td>Pleno</td>\n",
       "    </tr>\n",
       "    <tr>\n",
       "      <th>2643</th>\n",
       "      <td>NaN</td>\n",
       "      <td>NaN</td>\n",
       "      <td>NaN</td>\n",
       "      <td>NaN</td>\n",
       "      <td>NaN</td>\n",
       "      <td>NaN</td>\n",
       "      <td>NaN</td>\n",
       "      <td>NaN</td>\n",
       "      <td>NaN</td>\n",
       "      <td>NaN</td>\n",
       "    </tr>\n",
       "    <tr>\n",
       "      <th>2644</th>\n",
       "      <td>NaN</td>\n",
       "      <td>NaN</td>\n",
       "      <td>NaN</td>\n",
       "      <td>NaN</td>\n",
       "      <td>NaN</td>\n",
       "      <td>NaN</td>\n",
       "      <td>NaN</td>\n",
       "      <td>NaN</td>\n",
       "      <td>NaN</td>\n",
       "      <td>NaN</td>\n",
       "    </tr>\n",
       "  </tbody>\n",
       "</table>\n",
       "<p>2645 rows × 10 columns</p>\n",
       "</div>"
      ],
      "text/plain": [
       "      ('P8_d_a ', 'Coletando e limpando os dados que uso para análise e modelagem.')  \\\n",
       "0                                                   NaN                                \n",
       "1                                                   NaN                                \n",
       "2                                                   NaN                                \n",
       "3                                                   NaN                                \n",
       "4                                                   NaN                                \n",
       "...                                                 ...                                \n",
       "2640                                                NaN                                \n",
       "2641                                                0.0                                \n",
       "2642                                                NaN                                \n",
       "2643                                                NaN                                \n",
       "2644                                                NaN                                \n",
       "\n",
       "      ('P8_d_b ', 'Entrando em contato com os times de negócio para definição do problema, identificar a solução e apresentação de resultados.')  \\\n",
       "0                                                   NaN                                                                                            \n",
       "1                                                   NaN                                                                                            \n",
       "2                                                   NaN                                                                                            \n",
       "3                                                   NaN                                                                                            \n",
       "4                                                   NaN                                                                                            \n",
       "...                                                 ...                                                                                            \n",
       "2640                                                NaN                                                                                            \n",
       "2641                                                0.0                                                                                            \n",
       "2642                                                NaN                                                                                            \n",
       "2643                                                NaN                                                                                            \n",
       "2644                                                NaN                                                                                            \n",
       "\n",
       "      ('P8_d_c ', 'Desenvolvendo modelos de Machine Learning com o objetivo de colocar em produção em sistemas (produtos de dados).')  \\\n",
       "0                                                   NaN                                                                                 \n",
       "1                                                   NaN                                                                                 \n",
       "2                                                   NaN                                                                                 \n",
       "3                                                   NaN                                                                                 \n",
       "4                                                   NaN                                                                                 \n",
       "...                                                 ...                                                                                 \n",
       "2640                                                NaN                                                                                 \n",
       "2641                                                0.0                                                                                 \n",
       "2642                                                NaN                                                                                 \n",
       "2643                                                NaN                                                                                 \n",
       "2644                                                NaN                                                                                 \n",
       "\n",
       "      ('P8_d_d ', 'Colocando modelos em produção, criando os pipelines de dados, APIs de consumo e monitoramento.')  \\\n",
       "0                                                   NaN                                                               \n",
       "1                                                   NaN                                                               \n",
       "2                                                   NaN                                                               \n",
       "3                                                   NaN                                                               \n",
       "4                                                   NaN                                                               \n",
       "...                                                 ...                                                               \n",
       "2640                                                NaN                                                               \n",
       "2641                                                1.0                                                               \n",
       "2642                                                NaN                                                               \n",
       "2643                                                NaN                                                               \n",
       "2644                                                NaN                                                               \n",
       "\n",
       "      ('P8_d_e ', 'Cuidando da manutenção de modelos de Machine Learning já em produção, atuando no monitoramento, ajustes e refatoração quando necessário.')  \\\n",
       "0                                                   NaN                                                                                                         \n",
       "1                                                   NaN                                                                                                         \n",
       "2                                                   NaN                                                                                                         \n",
       "3                                                   NaN                                                                                                         \n",
       "4                                                   NaN                                                                                                         \n",
       "...                                                 ...                                                                                                         \n",
       "2640                                                NaN                                                                                                         \n",
       "2641                                                0.0                                                                                                         \n",
       "2642                                                NaN                                                                                                         \n",
       "2643                                                NaN                                                                                                         \n",
       "2644                                                NaN                                                                                                         \n",
       "\n",
       "      ('P8_d_f ', 'Realizando construções de dashboards em ferramentas de BI como PowerBI, Tableau, Looker, Qlik, etc.')  \\\n",
       "0                                                   NaN                                                                    \n",
       "1                                                   NaN                                                                    \n",
       "2                                                   NaN                                                                    \n",
       "3                                                   NaN                                                                    \n",
       "4                                                   NaN                                                                    \n",
       "...                                                 ...                                                                    \n",
       "2640                                                NaN                                                                    \n",
       "2641                                                0.0                                                                    \n",
       "2642                                                NaN                                                                    \n",
       "2643                                                NaN                                                                    \n",
       "2644                                                NaN                                                                    \n",
       "\n",
       "      ('P8_d_g ', 'Criando e dando manutenção em ETLs, DAGs e automações de pipelines de dados.')  \\\n",
       "0                                                   NaN                                             \n",
       "1                                                   NaN                                             \n",
       "2                                                   NaN                                             \n",
       "3                                                   NaN                                             \n",
       "4                                                   NaN                                             \n",
       "...                                                 ...                                             \n",
       "2640                                                NaN                                             \n",
       "2641                                                0.0                                             \n",
       "2642                                                NaN                                             \n",
       "2643                                                NaN                                             \n",
       "2644                                                NaN                                             \n",
       "\n",
       "      ('P8_d_h ', 'Criando e gerenciando soluções de Feature Store e cultura de MLOps.')  \\\n",
       "0                                                   NaN                                    \n",
       "1                                                   NaN                                    \n",
       "2                                                   NaN                                    \n",
       "3                                                   NaN                                    \n",
       "4                                                   NaN                                    \n",
       "...                                                 ...                                    \n",
       "2640                                                NaN                                    \n",
       "2641                                                0.0                                    \n",
       "2642                                                NaN                                    \n",
       "2643                                                NaN                                    \n",
       "2644                                                NaN                                    \n",
       "\n",
       "      ('P8_d_i ', 'Criando e mantendo a infra que meus modelos e soluções rodam (clusters, servidores, API, containers, etc.)')  \\\n",
       "0                                                   NaN                                                                           \n",
       "1                                                   NaN                                                                           \n",
       "2                                                   NaN                                                                           \n",
       "3                                                   NaN                                                                           \n",
       "4                                                   NaN                                                                           \n",
       "...                                                 ...                                                                           \n",
       "2640                                                NaN                                                                           \n",
       "2641                                                0.0                                                                           \n",
       "2642                                                NaN                                                                           \n",
       "2643                                                NaN                                                                           \n",
       "2644                                                NaN                                                                           \n",
       "\n",
       "     ('P2_g ', 'Nivel')  \n",
       "0                Gestor  \n",
       "1                Gestor  \n",
       "2                Gestor  \n",
       "3                Gestor  \n",
       "4                Gestor  \n",
       "...                 ...  \n",
       "2640                NaN  \n",
       "2641              Pleno  \n",
       "2642              Pleno  \n",
       "2643                NaN  \n",
       "2644                NaN  \n",
       "\n",
       "[2645 rows x 10 columns]"
      ]
     },
     "execution_count": 170,
     "metadata": {},
     "output_type": "execute_result"
    }
   ],
   "source": [
    "colunas_p8 =[x for x in df.columns if \"('P8_d_\" in x] + [\"('P2_g ', 'Nivel')\"]\n",
    "df[colunas_p8]\n",
    "\n",
    "prof_lang_cross = pd.crosstab(df[\"('P4_e ', 'Entre as linguagens listadas abaixo, qual é a que você mais utiliza no trabalho?')\"],df['profissao'],normalize='columns')*100\n",
    "prof_lang_cross = prof_lang_cross.reset_index()\n",
    "#prof_lang_cross_melt = prof_lang_cross.melt(id_vars=\"('P4_e ', 'Entre as linguagens listadas abaixo, qual é a que você mais utiliza no trabalho?')\")\n",
    "#prof_lang_cross_melt"
   ]
  },
  {
   "cell_type": "code",
   "execution_count": 175,
   "metadata": {},
   "outputs": [],
   "source": [
    "df_atividades =  df[colunas_p8].groupby(\"('P2_g ', 'Nivel')\").sum().reset_index()"
   ]
  },
  {
   "cell_type": "code",
   "execution_count": 178,
   "metadata": {},
   "outputs": [],
   "source": [
    "df_atividade_melt = df_atividades.melt(id_vars=\"('P2_g ', 'Nivel')\")"
   ]
  },
  {
   "cell_type": "code",
   "execution_count": 182,
   "metadata": {},
   "outputs": [],
   "source": [
    "df_atividade_melt_sg = df_atividade_melt[df_atividade_melt[\"('P2_g ', 'Nivel')\"] != 'Gestor']"
   ]
  },
  {
   "cell_type": "code",
   "execution_count": 186,
   "metadata": {},
   "outputs": [
    {
     "data": {
      "application/vnd.plotly.v1+json": {
       "config": {
        "plotlyServerURL": "https://plot.ly"
       },
       "data": [
        {
         "alignmentgroup": "True",
         "hovertemplate": "variable=('P8_d_a ', 'Coletando e limpando os dados que uso para análise e modelagem.')<br>('P2_g ', 'Nivel')=%{x}<br>value=%{y}<extra></extra>",
         "legendgroup": "('P8_d_a ', 'Coletando e limpando os dados que uso para análise e modelagem.')",
         "marker": {
          "color": "#30123b",
          "line": {
           "width": 0
          },
          "pattern": {
           "shape": ""
          }
         },
         "name": "('P8_d_a ', 'Coletando e limpando os dados que uso para análise e modelagem.')",
         "offsetgroup": "('P8_d_a ', 'Coletando e limpando os dados que uso para análise e modelagem.')",
         "orientation": "v",
         "showlegend": true,
         "textposition": "auto",
         "type": "bar",
         "x": [
          "Júnior",
          "Pleno",
          "Sênior"
         ],
         "xaxis": "x",
         "y": [
          67,
          83,
          56
         ],
         "yaxis": "y"
        },
        {
         "alignmentgroup": "True",
         "hovertemplate": "variable=('P8_d_b ', 'Entrando em contato com os times de negócio para definição do problema, identificar a solução e apresentação de resultados.')<br>('P2_g ', 'Nivel')=%{x}<br>value=%{y}<extra></extra>",
         "legendgroup": "('P8_d_b ', 'Entrando em contato com os times de negócio para definição do problema, identificar a solução e apresentação de resultados.')",
         "marker": {
          "color": "#4145ab",
          "line": {
           "width": 0
          },
          "pattern": {
           "shape": ""
          }
         },
         "name": "('P8_d_b ', 'Entrando em contato com os times de negócio para definição do problema, identificar a solução e apresentação de resultados.')",
         "offsetgroup": "('P8_d_b ', 'Entrando em contato com os times de negócio para definição do problema, identificar a solução e apresentação de resultados.')",
         "orientation": "v",
         "showlegend": true,
         "textposition": "auto",
         "type": "bar",
         "x": [
          "Júnior",
          "Pleno",
          "Sênior"
         ],
         "xaxis": "x",
         "y": [
          19,
          43,
          34
         ],
         "yaxis": "y"
        },
        {
         "alignmentgroup": "True",
         "hovertemplate": "variable=('P8_d_c ', 'Desenvolvendo modelos de Machine Learning com o objetivo de colocar em produção em sistemas (produtos de dados).')<br>('P2_g ', 'Nivel')=%{x}<br>value=%{y}<extra></extra>",
         "legendgroup": "('P8_d_c ', 'Desenvolvendo modelos de Machine Learning com o objetivo de colocar em produção em sistemas (produtos de dados).')",
         "marker": {
          "color": "#4675ed",
          "line": {
           "width": 0
          },
          "pattern": {
           "shape": ""
          }
         },
         "name": "('P8_d_c ', 'Desenvolvendo modelos de Machine Learning com o objetivo de colocar em produção em sistemas (produtos de dados).')",
         "offsetgroup": "('P8_d_c ', 'Desenvolvendo modelos de Machine Learning com o objetivo de colocar em produção em sistemas (produtos de dados).')",
         "orientation": "v",
         "showlegend": true,
         "textposition": "auto",
         "type": "bar",
         "x": [
          "Júnior",
          "Pleno",
          "Sênior"
         ],
         "xaxis": "x",
         "y": [
          43,
          53,
          43
         ],
         "yaxis": "y"
        },
        {
         "alignmentgroup": "True",
         "hovertemplate": "variable=('P8_d_d ', 'Colocando modelos em produção, criando os pipelines de dados, APIs de consumo e monitoramento.')<br>('P2_g ', 'Nivel')=%{x}<br>value=%{y}<extra></extra>",
         "legendgroup": "('P8_d_d ', 'Colocando modelos em produção, criando os pipelines de dados, APIs de consumo e monitoramento.')",
         "marker": {
          "color": "#39a2fc",
          "line": {
           "width": 0
          },
          "pattern": {
           "shape": ""
          }
         },
         "name": "('P8_d_d ', 'Colocando modelos em produção, criando os pipelines de dados, APIs de consumo e monitoramento.')",
         "offsetgroup": "('P8_d_d ', 'Colocando modelos em produção, criando os pipelines de dados, APIs de consumo e monitoramento.')",
         "orientation": "v",
         "showlegend": true,
         "textposition": "auto",
         "type": "bar",
         "x": [
          "Júnior",
          "Pleno",
          "Sênior"
         ],
         "xaxis": "x",
         "y": [
          6,
          16,
          12
         ],
         "yaxis": "y"
        },
        {
         "alignmentgroup": "True",
         "hovertemplate": "variable=('P8_d_e ', 'Cuidando da manutenção de modelos de Machine Learning já em produção, atuando no monitoramento, ajustes e refatoração quando necessário.')<br>('P2_g ', 'Nivel')=%{x}<br>value=%{y}<extra></extra>",
         "legendgroup": "('P8_d_e ', 'Cuidando da manutenção de modelos de Machine Learning já em produção, atuando no monitoramento, ajustes e refatoração quando necessário.')",
         "marker": {
          "color": "#1bcfd4",
          "line": {
           "width": 0
          },
          "pattern": {
           "shape": ""
          }
         },
         "name": "('P8_d_e ', 'Cuidando da manutenção de modelos de Machine Learning já em produção, atuando no monitoramento, ajustes e refatoração quando necessário.')",
         "offsetgroup": "('P8_d_e ', 'Cuidando da manutenção de modelos de Machine Learning já em produção, atuando no monitoramento, ajustes e refatoração quando necessário.')",
         "orientation": "v",
         "showlegend": true,
         "textposition": "auto",
         "type": "bar",
         "x": [
          "Júnior",
          "Pleno",
          "Sênior"
         ],
         "xaxis": "x",
         "y": [
          14,
          11,
          6
         ],
         "yaxis": "y"
        },
        {
         "alignmentgroup": "True",
         "hovertemplate": "variable=('P8_d_f ', 'Realizando construções de dashboards em ferramentas de BI como PowerBI, Tableau, Looker, Qlik, etc.')<br>('P2_g ', 'Nivel')=%{x}<br>value=%{y}<extra></extra>",
         "legendgroup": "('P8_d_f ', 'Realizando construções de dashboards em ferramentas de BI como PowerBI, Tableau, Looker, Qlik, etc.')",
         "marker": {
          "color": "#24eca6",
          "line": {
           "width": 0
          },
          "pattern": {
           "shape": ""
          }
         },
         "name": "('P8_d_f ', 'Realizando construções de dashboards em ferramentas de BI como PowerBI, Tableau, Looker, Qlik, etc.')",
         "offsetgroup": "('P8_d_f ', 'Realizando construções de dashboards em ferramentas de BI como PowerBI, Tableau, Looker, Qlik, etc.')",
         "orientation": "v",
         "showlegend": true,
         "textposition": "auto",
         "type": "bar",
         "x": [
          "Júnior",
          "Pleno",
          "Sênior"
         ],
         "xaxis": "x",
         "y": [
          7,
          4,
          6
         ],
         "yaxis": "y"
        },
        {
         "alignmentgroup": "True",
         "hovertemplate": "variable=('P8_d_g ', 'Criando e dando manutenção em ETLs, DAGs e automações de pipelines de dados.')<br>('P2_g ', 'Nivel')=%{x}<br>value=%{y}<extra></extra>",
         "legendgroup": "('P8_d_g ', 'Criando e dando manutenção em ETLs, DAGs e automações de pipelines de dados.')",
         "marker": {
          "color": "#61fc6c",
          "line": {
           "width": 0
          },
          "pattern": {
           "shape": ""
          }
         },
         "name": "('P8_d_g ', 'Criando e dando manutenção em ETLs, DAGs e automações de pipelines de dados.')",
         "offsetgroup": "('P8_d_g ', 'Criando e dando manutenção em ETLs, DAGs e automações de pipelines de dados.')",
         "orientation": "v",
         "showlegend": true,
         "textposition": "auto",
         "type": "bar",
         "x": [
          "Júnior",
          "Pleno",
          "Sênior"
         ],
         "xaxis": "x",
         "y": [
          3,
          4,
          1
         ],
         "yaxis": "y"
        },
        {
         "alignmentgroup": "True",
         "hovertemplate": "variable=('P8_d_h ', 'Criando e gerenciando soluções de Feature Store e cultura de MLOps.')<br>('P2_g ', 'Nivel')=%{x}<br>value=%{y}<extra></extra>",
         "legendgroup": "('P8_d_h ', 'Criando e gerenciando soluções de Feature Store e cultura de MLOps.')",
         "marker": {
          "color": "#a4fc3b",
          "line": {
           "width": 0
          },
          "pattern": {
           "shape": ""
          }
         },
         "name": "('P8_d_h ', 'Criando e gerenciando soluções de Feature Store e cultura de MLOps.')",
         "offsetgroup": "('P8_d_h ', 'Criando e gerenciando soluções de Feature Store e cultura de MLOps.')",
         "orientation": "v",
         "showlegend": true,
         "textposition": "auto",
         "type": "bar",
         "x": [
          "Júnior",
          "Pleno",
          "Sênior"
         ],
         "xaxis": "x",
         "y": [
          1,
          2,
          0
         ],
         "yaxis": "y"
        },
        {
         "alignmentgroup": "True",
         "hovertemplate": "variable=('P8_d_i ', 'Criando e mantendo a infra que meus modelos e soluções rodam (clusters, servidores, API, containers, etc.)')<br>('P2_g ', 'Nivel')=%{x}<br>value=%{y}<extra></extra>",
         "legendgroup": "('P8_d_i ', 'Criando e mantendo a infra que meus modelos e soluções rodam (clusters, servidores, API, containers, etc.)')",
         "marker": {
          "color": "#d1e834",
          "line": {
           "width": 0
          },
          "pattern": {
           "shape": ""
          }
         },
         "name": "('P8_d_i ', 'Criando e mantendo a infra que meus modelos e soluções rodam (clusters, servidores, API, containers, etc.)')",
         "offsetgroup": "('P8_d_i ', 'Criando e mantendo a infra que meus modelos e soluções rodam (clusters, servidores, API, containers, etc.)')",
         "orientation": "v",
         "showlegend": true,
         "textposition": "auto",
         "type": "bar",
         "x": [
          "Júnior",
          "Pleno",
          "Sênior"
         ],
         "xaxis": "x",
         "y": [
          1,
          3,
          0
         ],
         "yaxis": "y"
        }
       ],
       "layout": {
        "barmode": "relative",
        "legend": {
         "title": {
          "text": "variable"
         },
         "tracegroupgap": 0
        },
        "margin": {
         "t": 60
        },
        "template": {
         "data": {
          "bar": [
           {
            "error_x": {
             "color": "#2a3f5f"
            },
            "error_y": {
             "color": "#2a3f5f"
            },
            "marker": {
             "line": {
              "color": "#E5ECF6",
              "width": 0.5
             },
             "pattern": {
              "fillmode": "overlay",
              "size": 10,
              "solidity": 0.2
             }
            },
            "type": "bar"
           }
          ],
          "barpolar": [
           {
            "marker": {
             "line": {
              "color": "#E5ECF6",
              "width": 0.5
             },
             "pattern": {
              "fillmode": "overlay",
              "size": 10,
              "solidity": 0.2
             }
            },
            "type": "barpolar"
           }
          ],
          "carpet": [
           {
            "aaxis": {
             "endlinecolor": "#2a3f5f",
             "gridcolor": "white",
             "linecolor": "white",
             "minorgridcolor": "white",
             "startlinecolor": "#2a3f5f"
            },
            "baxis": {
             "endlinecolor": "#2a3f5f",
             "gridcolor": "white",
             "linecolor": "white",
             "minorgridcolor": "white",
             "startlinecolor": "#2a3f5f"
            },
            "type": "carpet"
           }
          ],
          "choropleth": [
           {
            "colorbar": {
             "outlinewidth": 0,
             "ticks": ""
            },
            "type": "choropleth"
           }
          ],
          "contour": [
           {
            "colorbar": {
             "outlinewidth": 0,
             "ticks": ""
            },
            "colorscale": [
             [
              0,
              "#0d0887"
             ],
             [
              0.1111111111111111,
              "#46039f"
             ],
             [
              0.2222222222222222,
              "#7201a8"
             ],
             [
              0.3333333333333333,
              "#9c179e"
             ],
             [
              0.4444444444444444,
              "#bd3786"
             ],
             [
              0.5555555555555556,
              "#d8576b"
             ],
             [
              0.6666666666666666,
              "#ed7953"
             ],
             [
              0.7777777777777778,
              "#fb9f3a"
             ],
             [
              0.8888888888888888,
              "#fdca26"
             ],
             [
              1,
              "#f0f921"
             ]
            ],
            "type": "contour"
           }
          ],
          "contourcarpet": [
           {
            "colorbar": {
             "outlinewidth": 0,
             "ticks": ""
            },
            "type": "contourcarpet"
           }
          ],
          "heatmap": [
           {
            "colorbar": {
             "outlinewidth": 0,
             "ticks": ""
            },
            "colorscale": [
             [
              0,
              "#0d0887"
             ],
             [
              0.1111111111111111,
              "#46039f"
             ],
             [
              0.2222222222222222,
              "#7201a8"
             ],
             [
              0.3333333333333333,
              "#9c179e"
             ],
             [
              0.4444444444444444,
              "#bd3786"
             ],
             [
              0.5555555555555556,
              "#d8576b"
             ],
             [
              0.6666666666666666,
              "#ed7953"
             ],
             [
              0.7777777777777778,
              "#fb9f3a"
             ],
             [
              0.8888888888888888,
              "#fdca26"
             ],
             [
              1,
              "#f0f921"
             ]
            ],
            "type": "heatmap"
           }
          ],
          "heatmapgl": [
           {
            "colorbar": {
             "outlinewidth": 0,
             "ticks": ""
            },
            "colorscale": [
             [
              0,
              "#0d0887"
             ],
             [
              0.1111111111111111,
              "#46039f"
             ],
             [
              0.2222222222222222,
              "#7201a8"
             ],
             [
              0.3333333333333333,
              "#9c179e"
             ],
             [
              0.4444444444444444,
              "#bd3786"
             ],
             [
              0.5555555555555556,
              "#d8576b"
             ],
             [
              0.6666666666666666,
              "#ed7953"
             ],
             [
              0.7777777777777778,
              "#fb9f3a"
             ],
             [
              0.8888888888888888,
              "#fdca26"
             ],
             [
              1,
              "#f0f921"
             ]
            ],
            "type": "heatmapgl"
           }
          ],
          "histogram": [
           {
            "marker": {
             "pattern": {
              "fillmode": "overlay",
              "size": 10,
              "solidity": 0.2
             }
            },
            "type": "histogram"
           }
          ],
          "histogram2d": [
           {
            "colorbar": {
             "outlinewidth": 0,
             "ticks": ""
            },
            "colorscale": [
             [
              0,
              "#0d0887"
             ],
             [
              0.1111111111111111,
              "#46039f"
             ],
             [
              0.2222222222222222,
              "#7201a8"
             ],
             [
              0.3333333333333333,
              "#9c179e"
             ],
             [
              0.4444444444444444,
              "#bd3786"
             ],
             [
              0.5555555555555556,
              "#d8576b"
             ],
             [
              0.6666666666666666,
              "#ed7953"
             ],
             [
              0.7777777777777778,
              "#fb9f3a"
             ],
             [
              0.8888888888888888,
              "#fdca26"
             ],
             [
              1,
              "#f0f921"
             ]
            ],
            "type": "histogram2d"
           }
          ],
          "histogram2dcontour": [
           {
            "colorbar": {
             "outlinewidth": 0,
             "ticks": ""
            },
            "colorscale": [
             [
              0,
              "#0d0887"
             ],
             [
              0.1111111111111111,
              "#46039f"
             ],
             [
              0.2222222222222222,
              "#7201a8"
             ],
             [
              0.3333333333333333,
              "#9c179e"
             ],
             [
              0.4444444444444444,
              "#bd3786"
             ],
             [
              0.5555555555555556,
              "#d8576b"
             ],
             [
              0.6666666666666666,
              "#ed7953"
             ],
             [
              0.7777777777777778,
              "#fb9f3a"
             ],
             [
              0.8888888888888888,
              "#fdca26"
             ],
             [
              1,
              "#f0f921"
             ]
            ],
            "type": "histogram2dcontour"
           }
          ],
          "mesh3d": [
           {
            "colorbar": {
             "outlinewidth": 0,
             "ticks": ""
            },
            "type": "mesh3d"
           }
          ],
          "parcoords": [
           {
            "line": {
             "colorbar": {
              "outlinewidth": 0,
              "ticks": ""
             }
            },
            "type": "parcoords"
           }
          ],
          "pie": [
           {
            "automargin": true,
            "type": "pie"
           }
          ],
          "scatter": [
           {
            "marker": {
             "colorbar": {
              "outlinewidth": 0,
              "ticks": ""
             }
            },
            "type": "scatter"
           }
          ],
          "scatter3d": [
           {
            "line": {
             "colorbar": {
              "outlinewidth": 0,
              "ticks": ""
             }
            },
            "marker": {
             "colorbar": {
              "outlinewidth": 0,
              "ticks": ""
             }
            },
            "type": "scatter3d"
           }
          ],
          "scattercarpet": [
           {
            "marker": {
             "colorbar": {
              "outlinewidth": 0,
              "ticks": ""
             }
            },
            "type": "scattercarpet"
           }
          ],
          "scattergeo": [
           {
            "marker": {
             "colorbar": {
              "outlinewidth": 0,
              "ticks": ""
             }
            },
            "type": "scattergeo"
           }
          ],
          "scattergl": [
           {
            "marker": {
             "colorbar": {
              "outlinewidth": 0,
              "ticks": ""
             }
            },
            "type": "scattergl"
           }
          ],
          "scattermapbox": [
           {
            "marker": {
             "colorbar": {
              "outlinewidth": 0,
              "ticks": ""
             }
            },
            "type": "scattermapbox"
           }
          ],
          "scatterpolar": [
           {
            "marker": {
             "colorbar": {
              "outlinewidth": 0,
              "ticks": ""
             }
            },
            "type": "scatterpolar"
           }
          ],
          "scatterpolargl": [
           {
            "marker": {
             "colorbar": {
              "outlinewidth": 0,
              "ticks": ""
             }
            },
            "type": "scatterpolargl"
           }
          ],
          "scatterternary": [
           {
            "marker": {
             "colorbar": {
              "outlinewidth": 0,
              "ticks": ""
             }
            },
            "type": "scatterternary"
           }
          ],
          "surface": [
           {
            "colorbar": {
             "outlinewidth": 0,
             "ticks": ""
            },
            "colorscale": [
             [
              0,
              "#0d0887"
             ],
             [
              0.1111111111111111,
              "#46039f"
             ],
             [
              0.2222222222222222,
              "#7201a8"
             ],
             [
              0.3333333333333333,
              "#9c179e"
             ],
             [
              0.4444444444444444,
              "#bd3786"
             ],
             [
              0.5555555555555556,
              "#d8576b"
             ],
             [
              0.6666666666666666,
              "#ed7953"
             ],
             [
              0.7777777777777778,
              "#fb9f3a"
             ],
             [
              0.8888888888888888,
              "#fdca26"
             ],
             [
              1,
              "#f0f921"
             ]
            ],
            "type": "surface"
           }
          ],
          "table": [
           {
            "cells": {
             "fill": {
              "color": "#EBF0F8"
             },
             "line": {
              "color": "white"
             }
            },
            "header": {
             "fill": {
              "color": "#C8D4E3"
             },
             "line": {
              "color": "white"
             }
            },
            "type": "table"
           }
          ]
         },
         "layout": {
          "annotationdefaults": {
           "arrowcolor": "#2a3f5f",
           "arrowhead": 0,
           "arrowwidth": 1
          },
          "autotypenumbers": "strict",
          "coloraxis": {
           "colorbar": {
            "outlinewidth": 0,
            "ticks": ""
           }
          },
          "colorscale": {
           "diverging": [
            [
             0,
             "#8e0152"
            ],
            [
             0.1,
             "#c51b7d"
            ],
            [
             0.2,
             "#de77ae"
            ],
            [
             0.3,
             "#f1b6da"
            ],
            [
             0.4,
             "#fde0ef"
            ],
            [
             0.5,
             "#f7f7f7"
            ],
            [
             0.6,
             "#e6f5d0"
            ],
            [
             0.7,
             "#b8e186"
            ],
            [
             0.8,
             "#7fbc41"
            ],
            [
             0.9,
             "#4d9221"
            ],
            [
             1,
             "#276419"
            ]
           ],
           "sequential": [
            [
             0,
             "#0d0887"
            ],
            [
             0.1111111111111111,
             "#46039f"
            ],
            [
             0.2222222222222222,
             "#7201a8"
            ],
            [
             0.3333333333333333,
             "#9c179e"
            ],
            [
             0.4444444444444444,
             "#bd3786"
            ],
            [
             0.5555555555555556,
             "#d8576b"
            ],
            [
             0.6666666666666666,
             "#ed7953"
            ],
            [
             0.7777777777777778,
             "#fb9f3a"
            ],
            [
             0.8888888888888888,
             "#fdca26"
            ],
            [
             1,
             "#f0f921"
            ]
           ],
           "sequentialminus": [
            [
             0,
             "#0d0887"
            ],
            [
             0.1111111111111111,
             "#46039f"
            ],
            [
             0.2222222222222222,
             "#7201a8"
            ],
            [
             0.3333333333333333,
             "#9c179e"
            ],
            [
             0.4444444444444444,
             "#bd3786"
            ],
            [
             0.5555555555555556,
             "#d8576b"
            ],
            [
             0.6666666666666666,
             "#ed7953"
            ],
            [
             0.7777777777777778,
             "#fb9f3a"
            ],
            [
             0.8888888888888888,
             "#fdca26"
            ],
            [
             1,
             "#f0f921"
            ]
           ]
          },
          "colorway": [
           "#636efa",
           "#EF553B",
           "#00cc96",
           "#ab63fa",
           "#FFA15A",
           "#19d3f3",
           "#FF6692",
           "#B6E880",
           "#FF97FF",
           "#FECB52"
          ],
          "font": {
           "color": "#2a3f5f"
          },
          "geo": {
           "bgcolor": "white",
           "lakecolor": "white",
           "landcolor": "#E5ECF6",
           "showlakes": true,
           "showland": true,
           "subunitcolor": "white"
          },
          "hoverlabel": {
           "align": "left"
          },
          "hovermode": "closest",
          "mapbox": {
           "style": "light"
          },
          "paper_bgcolor": "white",
          "plot_bgcolor": "#E5ECF6",
          "polar": {
           "angularaxis": {
            "gridcolor": "white",
            "linecolor": "white",
            "ticks": ""
           },
           "bgcolor": "#E5ECF6",
           "radialaxis": {
            "gridcolor": "white",
            "linecolor": "white",
            "ticks": ""
           }
          },
          "scene": {
           "xaxis": {
            "backgroundcolor": "#E5ECF6",
            "gridcolor": "white",
            "gridwidth": 2,
            "linecolor": "white",
            "showbackground": true,
            "ticks": "",
            "zerolinecolor": "white"
           },
           "yaxis": {
            "backgroundcolor": "#E5ECF6",
            "gridcolor": "white",
            "gridwidth": 2,
            "linecolor": "white",
            "showbackground": true,
            "ticks": "",
            "zerolinecolor": "white"
           },
           "zaxis": {
            "backgroundcolor": "#E5ECF6",
            "gridcolor": "white",
            "gridwidth": 2,
            "linecolor": "white",
            "showbackground": true,
            "ticks": "",
            "zerolinecolor": "white"
           }
          },
          "shapedefaults": {
           "line": {
            "color": "#2a3f5f"
           }
          },
          "ternary": {
           "aaxis": {
            "gridcolor": "white",
            "linecolor": "white",
            "ticks": ""
           },
           "baxis": {
            "gridcolor": "white",
            "linecolor": "white",
            "ticks": ""
           },
           "bgcolor": "#E5ECF6",
           "caxis": {
            "gridcolor": "white",
            "linecolor": "white",
            "ticks": ""
           }
          },
          "title": {
           "x": 0.05
          },
          "xaxis": {
           "automargin": true,
           "gridcolor": "white",
           "linecolor": "white",
           "ticks": "",
           "title": {
            "standoff": 15
           },
           "zerolinecolor": "white",
           "zerolinewidth": 2
          },
          "yaxis": {
           "automargin": true,
           "gridcolor": "white",
           "linecolor": "white",
           "ticks": "",
           "title": {
            "standoff": 15
           },
           "zerolinecolor": "white",
           "zerolinewidth": 2
          }
         }
        },
        "xaxis": {
         "anchor": "y",
         "domain": [
          0,
          1
         ],
         "title": {
          "text": "('P2_g ', 'Nivel')"
         }
        },
        "yaxis": {
         "anchor": "x",
         "domain": [
          0,
          1
         ],
         "title": {
          "text": "value"
         }
        }
       }
      }
     },
     "metadata": {},
     "output_type": "display_data"
    }
   ],
   "source": [
    "fig =px.bar(df_atividade_melt_sg, y='value', color=\"variable\", x=\"('P2_g ', 'Nivel')\", color_discrete_sequence= px.colors.sequential.Turbo, barmode='relative')\n",
    "fig.update_layout(barmode='relative')\n",
    "fig.update_traces(marker_line_width=0)\n",
    "fig.show()"
   ]
  },
  {
   "cell_type": "code",
   "execution_count": 184,
   "metadata": {},
   "outputs": [
    {
     "data": {
      "text/html": [
       "<div>\n",
       "<style scoped>\n",
       "    .dataframe tbody tr th:only-of-type {\n",
       "        vertical-align: middle;\n",
       "    }\n",
       "\n",
       "    .dataframe tbody tr th {\n",
       "        vertical-align: top;\n",
       "    }\n",
       "\n",
       "    .dataframe thead th {\n",
       "        text-align: right;\n",
       "    }\n",
       "</style>\n",
       "<table border=\"1\" class=\"dataframe\">\n",
       "  <thead>\n",
       "    <tr style=\"text-align: right;\">\n",
       "      <th></th>\n",
       "      <th>('P2_g ', 'Nivel')</th>\n",
       "      <th>variable</th>\n",
       "      <th>value</th>\n",
       "    </tr>\n",
       "  </thead>\n",
       "  <tbody>\n",
       "    <tr>\n",
       "      <th>1</th>\n",
       "      <td>Júnior</td>\n",
       "      <td>('P8_d_a ', 'Coletando e limpando os dados que...</td>\n",
       "      <td>67.0</td>\n",
       "    </tr>\n",
       "    <tr>\n",
       "      <th>2</th>\n",
       "      <td>Pleno</td>\n",
       "      <td>('P8_d_a ', 'Coletando e limpando os dados que...</td>\n",
       "      <td>83.0</td>\n",
       "    </tr>\n",
       "    <tr>\n",
       "      <th>3</th>\n",
       "      <td>Sênior</td>\n",
       "      <td>('P8_d_a ', 'Coletando e limpando os dados que...</td>\n",
       "      <td>56.0</td>\n",
       "    </tr>\n",
       "    <tr>\n",
       "      <th>5</th>\n",
       "      <td>Júnior</td>\n",
       "      <td>('P8_d_b ', 'Entrando em contato com os times ...</td>\n",
       "      <td>19.0</td>\n",
       "    </tr>\n",
       "    <tr>\n",
       "      <th>6</th>\n",
       "      <td>Pleno</td>\n",
       "      <td>('P8_d_b ', 'Entrando em contato com os times ...</td>\n",
       "      <td>43.0</td>\n",
       "    </tr>\n",
       "    <tr>\n",
       "      <th>7</th>\n",
       "      <td>Sênior</td>\n",
       "      <td>('P8_d_b ', 'Entrando em contato com os times ...</td>\n",
       "      <td>34.0</td>\n",
       "    </tr>\n",
       "    <tr>\n",
       "      <th>9</th>\n",
       "      <td>Júnior</td>\n",
       "      <td>('P8_d_c ', 'Desenvolvendo modelos de Machine ...</td>\n",
       "      <td>43.0</td>\n",
       "    </tr>\n",
       "    <tr>\n",
       "      <th>10</th>\n",
       "      <td>Pleno</td>\n",
       "      <td>('P8_d_c ', 'Desenvolvendo modelos de Machine ...</td>\n",
       "      <td>53.0</td>\n",
       "    </tr>\n",
       "    <tr>\n",
       "      <th>11</th>\n",
       "      <td>Sênior</td>\n",
       "      <td>('P8_d_c ', 'Desenvolvendo modelos de Machine ...</td>\n",
       "      <td>43.0</td>\n",
       "    </tr>\n",
       "    <tr>\n",
       "      <th>13</th>\n",
       "      <td>Júnior</td>\n",
       "      <td>('P8_d_d ', 'Colocando modelos em produção, cr...</td>\n",
       "      <td>6.0</td>\n",
       "    </tr>\n",
       "    <tr>\n",
       "      <th>14</th>\n",
       "      <td>Pleno</td>\n",
       "      <td>('P8_d_d ', 'Colocando modelos em produção, cr...</td>\n",
       "      <td>16.0</td>\n",
       "    </tr>\n",
       "    <tr>\n",
       "      <th>15</th>\n",
       "      <td>Sênior</td>\n",
       "      <td>('P8_d_d ', 'Colocando modelos em produção, cr...</td>\n",
       "      <td>12.0</td>\n",
       "    </tr>\n",
       "    <tr>\n",
       "      <th>17</th>\n",
       "      <td>Júnior</td>\n",
       "      <td>('P8_d_e ', 'Cuidando da manutenção de modelos...</td>\n",
       "      <td>14.0</td>\n",
       "    </tr>\n",
       "    <tr>\n",
       "      <th>18</th>\n",
       "      <td>Pleno</td>\n",
       "      <td>('P8_d_e ', 'Cuidando da manutenção de modelos...</td>\n",
       "      <td>11.0</td>\n",
       "    </tr>\n",
       "    <tr>\n",
       "      <th>19</th>\n",
       "      <td>Sênior</td>\n",
       "      <td>('P8_d_e ', 'Cuidando da manutenção de modelos...</td>\n",
       "      <td>6.0</td>\n",
       "    </tr>\n",
       "    <tr>\n",
       "      <th>21</th>\n",
       "      <td>Júnior</td>\n",
       "      <td>('P8_d_f ', 'Realizando construções de dashboa...</td>\n",
       "      <td>7.0</td>\n",
       "    </tr>\n",
       "    <tr>\n",
       "      <th>22</th>\n",
       "      <td>Pleno</td>\n",
       "      <td>('P8_d_f ', 'Realizando construções de dashboa...</td>\n",
       "      <td>4.0</td>\n",
       "    </tr>\n",
       "    <tr>\n",
       "      <th>23</th>\n",
       "      <td>Sênior</td>\n",
       "      <td>('P8_d_f ', 'Realizando construções de dashboa...</td>\n",
       "      <td>6.0</td>\n",
       "    </tr>\n",
       "    <tr>\n",
       "      <th>25</th>\n",
       "      <td>Júnior</td>\n",
       "      <td>('P8_d_g ', 'Criando e dando manutenção em ETL...</td>\n",
       "      <td>3.0</td>\n",
       "    </tr>\n",
       "    <tr>\n",
       "      <th>26</th>\n",
       "      <td>Pleno</td>\n",
       "      <td>('P8_d_g ', 'Criando e dando manutenção em ETL...</td>\n",
       "      <td>4.0</td>\n",
       "    </tr>\n",
       "    <tr>\n",
       "      <th>27</th>\n",
       "      <td>Sênior</td>\n",
       "      <td>('P8_d_g ', 'Criando e dando manutenção em ETL...</td>\n",
       "      <td>1.0</td>\n",
       "    </tr>\n",
       "    <tr>\n",
       "      <th>29</th>\n",
       "      <td>Júnior</td>\n",
       "      <td>('P8_d_h ', 'Criando e gerenciando soluções de...</td>\n",
       "      <td>1.0</td>\n",
       "    </tr>\n",
       "    <tr>\n",
       "      <th>30</th>\n",
       "      <td>Pleno</td>\n",
       "      <td>('P8_d_h ', 'Criando e gerenciando soluções de...</td>\n",
       "      <td>2.0</td>\n",
       "    </tr>\n",
       "    <tr>\n",
       "      <th>31</th>\n",
       "      <td>Sênior</td>\n",
       "      <td>('P8_d_h ', 'Criando e gerenciando soluções de...</td>\n",
       "      <td>0.0</td>\n",
       "    </tr>\n",
       "    <tr>\n",
       "      <th>33</th>\n",
       "      <td>Júnior</td>\n",
       "      <td>('P8_d_i ', 'Criando e mantendo a infra que me...</td>\n",
       "      <td>1.0</td>\n",
       "    </tr>\n",
       "    <tr>\n",
       "      <th>34</th>\n",
       "      <td>Pleno</td>\n",
       "      <td>('P8_d_i ', 'Criando e mantendo a infra que me...</td>\n",
       "      <td>3.0</td>\n",
       "    </tr>\n",
       "    <tr>\n",
       "      <th>35</th>\n",
       "      <td>Sênior</td>\n",
       "      <td>('P8_d_i ', 'Criando e mantendo a infra que me...</td>\n",
       "      <td>0.0</td>\n",
       "    </tr>\n",
       "  </tbody>\n",
       "</table>\n",
       "</div>"
      ],
      "text/plain": [
       "   ('P2_g ', 'Nivel')                                           variable  \\\n",
       "1              Júnior  ('P8_d_a ', 'Coletando e limpando os dados que...   \n",
       "2               Pleno  ('P8_d_a ', 'Coletando e limpando os dados que...   \n",
       "3              Sênior  ('P8_d_a ', 'Coletando e limpando os dados que...   \n",
       "5              Júnior  ('P8_d_b ', 'Entrando em contato com os times ...   \n",
       "6               Pleno  ('P8_d_b ', 'Entrando em contato com os times ...   \n",
       "7              Sênior  ('P8_d_b ', 'Entrando em contato com os times ...   \n",
       "9              Júnior  ('P8_d_c ', 'Desenvolvendo modelos de Machine ...   \n",
       "10              Pleno  ('P8_d_c ', 'Desenvolvendo modelos de Machine ...   \n",
       "11             Sênior  ('P8_d_c ', 'Desenvolvendo modelos de Machine ...   \n",
       "13             Júnior  ('P8_d_d ', 'Colocando modelos em produção, cr...   \n",
       "14              Pleno  ('P8_d_d ', 'Colocando modelos em produção, cr...   \n",
       "15             Sênior  ('P8_d_d ', 'Colocando modelos em produção, cr...   \n",
       "17             Júnior  ('P8_d_e ', 'Cuidando da manutenção de modelos...   \n",
       "18              Pleno  ('P8_d_e ', 'Cuidando da manutenção de modelos...   \n",
       "19             Sênior  ('P8_d_e ', 'Cuidando da manutenção de modelos...   \n",
       "21             Júnior  ('P8_d_f ', 'Realizando construções de dashboa...   \n",
       "22              Pleno  ('P8_d_f ', 'Realizando construções de dashboa...   \n",
       "23             Sênior  ('P8_d_f ', 'Realizando construções de dashboa...   \n",
       "25             Júnior  ('P8_d_g ', 'Criando e dando manutenção em ETL...   \n",
       "26              Pleno  ('P8_d_g ', 'Criando e dando manutenção em ETL...   \n",
       "27             Sênior  ('P8_d_g ', 'Criando e dando manutenção em ETL...   \n",
       "29             Júnior  ('P8_d_h ', 'Criando e gerenciando soluções de...   \n",
       "30              Pleno  ('P8_d_h ', 'Criando e gerenciando soluções de...   \n",
       "31             Sênior  ('P8_d_h ', 'Criando e gerenciando soluções de...   \n",
       "33             Júnior  ('P8_d_i ', 'Criando e mantendo a infra que me...   \n",
       "34              Pleno  ('P8_d_i ', 'Criando e mantendo a infra que me...   \n",
       "35             Sênior  ('P8_d_i ', 'Criando e mantendo a infra que me...   \n",
       "\n",
       "    value  \n",
       "1    67.0  \n",
       "2    83.0  \n",
       "3    56.0  \n",
       "5    19.0  \n",
       "6    43.0  \n",
       "7    34.0  \n",
       "9    43.0  \n",
       "10   53.0  \n",
       "11   43.0  \n",
       "13    6.0  \n",
       "14   16.0  \n",
       "15   12.0  \n",
       "17   14.0  \n",
       "18   11.0  \n",
       "19    6.0  \n",
       "21    7.0  \n",
       "22    4.0  \n",
       "23    6.0  \n",
       "25    3.0  \n",
       "26    4.0  \n",
       "27    1.0  \n",
       "29    1.0  \n",
       "30    2.0  \n",
       "31    0.0  \n",
       "33    1.0  \n",
       "34    3.0  \n",
       "35    0.0  "
      ]
     },
     "execution_count": 184,
     "metadata": {},
     "output_type": "execute_result"
    }
   ],
   "source": [
    "df_atividade_melt_sg['prop'] = [df_atividade_melt_sg['value'].apply(lambda x: x/df_atividade_melt_sg['value'].sum())]"
   ]
  }
 ],
 "metadata": {
  "kernelspec": {
   "display_name": "Python 3.9.7 ('base')",
   "language": "python",
   "name": "python3"
  },
  "language_info": {
   "codemirror_mode": {
    "name": "ipython",
    "version": 3
   },
   "file_extension": ".py",
   "mimetype": "text/x-python",
   "name": "python",
   "nbconvert_exporter": "python",
   "pygments_lexer": "ipython3",
   "version": "3.9.7"
  },
  "orig_nbformat": 4,
  "vscode": {
   "interpreter": {
    "hash": "4a08b6d4a85d70d7e6b82190e279cb8a8dc4e90aceec6f0cf004bd43e60fee67"
   }
  }
 },
 "nbformat": 4,
 "nbformat_minor": 2
}
